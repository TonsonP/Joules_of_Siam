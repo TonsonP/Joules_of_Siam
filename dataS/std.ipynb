{
 "cells": [
  {
   "cell_type": "code",
   "execution_count": 1,
   "metadata": {},
   "outputs": [],
   "source": [
    "import pandas as pd\n",
    "\n",
    "check = pd.read_csv('./Joules_of_Siam_Data - Dataset_Strech.csv')"
   ]
  },
  {
   "cell_type": "code",
   "execution_count": 4,
   "metadata": {},
   "outputs": [
    {
     "data": {
      "text/html": [
       "<div>\n",
       "<style scoped>\n",
       "    .dataframe tbody tr th:only-of-type {\n",
       "        vertical-align: middle;\n",
       "    }\n",
       "\n",
       "    .dataframe tbody tr th {\n",
       "        vertical-align: top;\n",
       "    }\n",
       "\n",
       "    .dataframe thead th {\n",
       "        text-align: right;\n",
       "    }\n",
       "</style>\n",
       "<table border=\"1\" class=\"dataframe\">\n",
       "  <thead>\n",
       "    <tr style=\"text-align: right;\">\n",
       "      <th></th>\n",
       "      <th>Year</th>\n",
       "      <th>Month</th>\n",
       "      <th>Date</th>\n",
       "      <th>Population</th>\n",
       "      <th>Temperature</th>\n",
       "      <th>CPI</th>\n",
       "      <th>GDP</th>\n",
       "      <th>Peak</th>\n",
       "    </tr>\n",
       "  </thead>\n",
       "  <tbody>\n",
       "    <tr>\n",
       "      <th>0</th>\n",
       "      <td>2022</td>\n",
       "      <td>12</td>\n",
       "      <td>01-12-22</td>\n",
       "      <td>66.090000</td>\n",
       "      <td>26.300000</td>\n",
       "      <td>106.470000</td>\n",
       "      <td>924033.3333</td>\n",
       "      <td>27124.7</td>\n",
       "    </tr>\n",
       "    <tr>\n",
       "      <th>1</th>\n",
       "      <td>2022</td>\n",
       "      <td>11</td>\n",
       "      <td>01-11-22</td>\n",
       "      <td>66.083333</td>\n",
       "      <td>26.249167</td>\n",
       "      <td>106.470000</td>\n",
       "      <td>924033.3333</td>\n",
       "      <td>27832.7</td>\n",
       "    </tr>\n",
       "    <tr>\n",
       "      <th>2</th>\n",
       "      <td>2022</td>\n",
       "      <td>10</td>\n",
       "      <td>01-10-22</td>\n",
       "      <td>66.076667</td>\n",
       "      <td>26.198333</td>\n",
       "      <td>106.470000</td>\n",
       "      <td>924033.3333</td>\n",
       "      <td>27041.9</td>\n",
       "    </tr>\n",
       "    <tr>\n",
       "      <th>3</th>\n",
       "      <td>2022</td>\n",
       "      <td>9</td>\n",
       "      <td>01-09-22</td>\n",
       "      <td>66.070000</td>\n",
       "      <td>26.147500</td>\n",
       "      <td>106.470000</td>\n",
       "      <td>849468.6667</td>\n",
       "      <td>27808.0</td>\n",
       "    </tr>\n",
       "    <tr>\n",
       "      <th>4</th>\n",
       "      <td>2022</td>\n",
       "      <td>8</td>\n",
       "      <td>01-08-22</td>\n",
       "      <td>66.063333</td>\n",
       "      <td>26.096667</td>\n",
       "      <td>108.503333</td>\n",
       "      <td>849468.6667</td>\n",
       "      <td>28951.8</td>\n",
       "    </tr>\n",
       "  </tbody>\n",
       "</table>\n",
       "</div>"
      ],
      "text/plain": [
       "   Year  Month      Date  Population  Temperature         CPI          GDP  \\\n",
       "0  2022     12  01-12-22   66.090000    26.300000  106.470000  924033.3333   \n",
       "1  2022     11  01-11-22   66.083333    26.249167  106.470000  924033.3333   \n",
       "2  2022     10  01-10-22   66.076667    26.198333  106.470000  924033.3333   \n",
       "3  2022      9  01-09-22   66.070000    26.147500  106.470000  849468.6667   \n",
       "4  2022      8  01-08-22   66.063333    26.096667  108.503333  849468.6667   \n",
       "\n",
       "      Peak  \n",
       "0  27124.7  \n",
       "1  27832.7  \n",
       "2  27041.9  \n",
       "3  27808.0  \n",
       "4  28951.8  "
      ]
     },
     "execution_count": 4,
     "metadata": {},
     "output_type": "execute_result"
    }
   ],
   "source": [
    "check.head()"
   ]
  },
  {
   "cell_type": "code",
   "execution_count": 7,
   "metadata": {},
   "outputs": [],
   "source": [
    "set = check['Peak'].iloc[-24:].to_list()"
   ]
  },
  {
   "cell_type": "code",
   "execution_count": 8,
   "metadata": {},
   "outputs": [
    {
     "name": "stdout",
     "output_type": "stream",
     "text": [
      "The standard deviation of the list is: 832.6016577071338\n"
     ]
    }
   ],
   "source": [
    "import statistics\n",
    "\n",
    "std_dev = statistics.stdev(set)\n",
    "\n",
    "print(\"The standard deviation of the list is:\", std_dev)"
   ]
  }
 ],
 "metadata": {
  "kernelspec": {
   "display_name": "Python 3",
   "language": "python",
   "name": "python3"
  },
  "language_info": {
   "codemirror_mode": {
    "name": "ipython",
    "version": 3
   },
   "file_extension": ".py",
   "mimetype": "text/x-python",
   "name": "python",
   "nbconvert_exporter": "python",
   "pygments_lexer": "ipython3",
   "version": "3.10.4"
  },
  "orig_nbformat": 4
 },
 "nbformat": 4,
 "nbformat_minor": 2
}
