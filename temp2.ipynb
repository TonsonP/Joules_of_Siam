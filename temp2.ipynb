{
 "cells": [
  {
   "cell_type": "code",
   "execution_count": 4,
   "metadata": {},
   "outputs": [
    {
     "name": "stdout",
     "output_type": "stream",
     "text": [
      "RMSE: 2.29128784747792\n",
      "Percent Error: 76.37626158259732\n"
     ]
    }
   ],
   "source": [
    "import numpy as np\n",
    "\n",
    "# define true and predicted values\n",
    "y_true = np.array([10, 11, 12, 13])\n",
    "y_pred = np.array([7,  9,  10, 11])\n",
    "\n",
    "# calculate RMSE\n",
    "rmse = np.sqrt(np.mean((y_pred - y_true)**2))\n",
    "\n",
    "print(\"RMSE:\", rmse)\n",
    "\n",
    "# calculate percent error\n",
    "target_range = np.max(y_true) - np.min(y_true)\n",
    "percent_error = 100 * (rmse / target_range)\n",
    "\n",
    "print(\"Percent Error:\", percent_error)"
   ]
  },
  {
   "cell_type": "code",
   "execution_count": 6,
   "metadata": {},
   "outputs": [],
   "source": [
    "import pickle\n",
    "with open('./biawebapp/dataP/forecast_LSTM.pkl', \"rb\") as file:\n",
    "    forecast_LSTM = pickle.load(file)"
   ]
  },
  {
   "cell_type": "code",
   "execution_count": 3,
   "metadata": {},
   "outputs": [
    {
     "name": "stdout",
     "output_type": "stream",
     "text": [
      "RMSE: 22.9128784747792\n",
      "Percent Error: 76.37626158259732\n"
     ]
    }
   ],
   "source": [
    "import numpy as np\n",
    "\n",
    "# define true and predicted values\n",
    "y_true = np.array([100, 110, 120, 130])\n",
    "y_pred = np.array([70,  90,  100, 110])\n",
    "\n",
    "# calculate RMSE\n",
    "rmse = np.sqrt(np.mean((y_pred - y_true)**2))\n",
    "\n",
    "print(\"RMSE:\", rmse)\n",
    "\n",
    "# calculate percent error\n",
    "target_range = np.max(y_true) - np.min(y_true)\n",
    "percent_error = 100 * (rmse / target_range)\n",
    "\n",
    "print(\"Percent Error:\", percent_error)"
   ]
  }
 ],
 "metadata": {
  "kernelspec": {
   "display_name": "Python 3",
   "language": "python",
   "name": "python3"
  },
  "language_info": {
   "codemirror_mode": {
    "name": "ipython",
    "version": 3
   },
   "file_extension": ".py",
   "mimetype": "text/x-python",
   "name": "python",
   "nbconvert_exporter": "python",
   "pygments_lexer": "ipython3",
   "version": "3.10.4"
  },
  "orig_nbformat": 4
 },
 "nbformat": 4,
 "nbformat_minor": 2
}
