{
 "cells": [
  {
   "cell_type": "code",
   "execution_count": null,
   "metadata": {},
   "outputs": [],
   "source": [
    "import pandas as pd\n",
    "import numpy as np\n",
    "\n",
    "# Create an example DataFrame with 2 columns and 3 rows\n",
    "df = pd.pd.read_csv(\"Joules_of_Siam_Data - Electricity_Consumption_Monthly.csv\")\n",
    "\n",
    "# Convert the DataFrame to a NumPy array\n",
    "arr = df.to_numpy()\n",
    "\n",
    "# Reshape the array to a 6x2 array\n",
    "reshaped_arr = arr.reshape((arr.shape[0]*arr.shape[1], 2))\n",
    "\n",
    "# Convert the reshaped array back to a DataFrame\n",
    "reshaped_df = pd.DataFrame(reshaped_arr, columns=['C1', 'C2'])\n",
    "\n",
    "# Print the original and reshaped DataFrames\n",
    "print(\"Original DataFrame:\\n\", df)\n",
    "print(\"Reshaped DataFrame:\\n\", reshaped_df)"
   ]
  }
 ],
 "metadata": {
  "language_info": {
   "name": "python"
  },
  "orig_nbformat": 4
 },
 "nbformat": 4,
 "nbformat_minor": 2
}
