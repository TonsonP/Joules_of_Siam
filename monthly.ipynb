{
 "cells": [
  {
   "cell_type": "code",
   "execution_count": 73,
   "metadata": {},
   "outputs": [
    {
     "data": {
      "text/html": [
       "<div>\n",
       "<style scoped>\n",
       "    .dataframe tbody tr th:only-of-type {\n",
       "        vertical-align: middle;\n",
       "    }\n",
       "\n",
       "    .dataframe tbody tr th {\n",
       "        vertical-align: top;\n",
       "    }\n",
       "\n",
       "    .dataframe thead th {\n",
       "        text-align: right;\n",
       "    }\n",
       "</style>\n",
       "<table border=\"1\" class=\"dataframe\">\n",
       "  <thead>\n",
       "    <tr style=\"text-align: right;\">\n",
       "      <th></th>\n",
       "      <th>Date</th>\n",
       "      <th>Hydro Electricity</th>\n",
       "      <th>Fuel Oil</th>\n",
       "      <th>Coal &amp; Lignite</th>\n",
       "      <th>Natural Gas</th>\n",
       "      <th>Diesel</th>\n",
       "      <th>Imported</th>\n",
       "      <th>Renewable Energy</th>\n",
       "      <th>Total</th>\n",
       "    </tr>\n",
       "  </thead>\n",
       "  <tbody>\n",
       "    <tr>\n",
       "      <th>0</th>\n",
       "      <td>2002-1</td>\n",
       "      <td>512.6</td>\n",
       "      <td>168.3</td>\n",
       "      <td>1,623.40</td>\n",
       "      <td>5,689.20</td>\n",
       "      <td>8.2</td>\n",
       "      <td>190.3</td>\n",
       "      <td>71.8</td>\n",
       "      <td>8,264.00</td>\n",
       "    </tr>\n",
       "    <tr>\n",
       "      <th>1</th>\n",
       "      <td>2002-2</td>\n",
       "      <td>588.9</td>\n",
       "      <td>138</td>\n",
       "      <td>1,552.00</td>\n",
       "      <td>5,683.20</td>\n",
       "      <td>8.3</td>\n",
       "      <td>149.2</td>\n",
       "      <td>68.3</td>\n",
       "      <td>8,188.00</td>\n",
       "    </tr>\n",
       "    <tr>\n",
       "      <th>2</th>\n",
       "      <td>2002-3</td>\n",
       "      <td>798</td>\n",
       "      <td>218.3</td>\n",
       "      <td>1,775.30</td>\n",
       "      <td>6,674.40</td>\n",
       "      <td>5.0</td>\n",
       "      <td>146.5</td>\n",
       "      <td>69.6</td>\n",
       "      <td>9,687.10</td>\n",
       "    </tr>\n",
       "    <tr>\n",
       "      <th>3</th>\n",
       "      <td>2002-4</td>\n",
       "      <td>718.8</td>\n",
       "      <td>250.8</td>\n",
       "      <td>1,772.50</td>\n",
       "      <td>6,399.20</td>\n",
       "      <td>3.4</td>\n",
       "      <td>163.5</td>\n",
       "      <td>70.3</td>\n",
       "      <td>9,378.40</td>\n",
       "    </tr>\n",
       "    <tr>\n",
       "      <th>4</th>\n",
       "      <td>2002-5</td>\n",
       "      <td>602.4</td>\n",
       "      <td>186.5</td>\n",
       "      <td>1,536.40</td>\n",
       "      <td>7,023.40</td>\n",
       "      <td>15.5</td>\n",
       "      <td>221.7</td>\n",
       "      <td>68.7</td>\n",
       "      <td>9,654.70</td>\n",
       "    </tr>\n",
       "  </tbody>\n",
       "</table>\n",
       "</div>"
      ],
      "text/plain": [
       "     Date Hydro Electricity Fuel Oil Coal & Lignite Natural Gas  Diesel  \\\n",
       "0  2002-1             512.6    168.3       1,623.40    5,689.20     8.2   \n",
       "1  2002-2             588.9      138       1,552.00    5,683.20     8.3   \n",
       "2  2002-3               798    218.3       1,775.30    6,674.40     5.0   \n",
       "3  2002-4             718.8    250.8       1,772.50    6,399.20     3.4   \n",
       "4  2002-5             602.4    186.5       1,536.40    7,023.40    15.5   \n",
       "\n",
       "  Imported Renewable Energy     Total  \n",
       "0    190.3             71.8  8,264.00  \n",
       "1    149.2             68.3  8,188.00  \n",
       "2    146.5             69.6  9,687.10  \n",
       "3    163.5             70.3  9,378.40  \n",
       "4    221.7             68.7  9,654.70  "
      ]
     },
     "execution_count": 73,
     "metadata": {},
     "output_type": "execute_result"
    }
   ],
   "source": [
    "import pandas as pd\n",
    "df = pd.read_csv('./Joules_of_Siam_Data - Power_Generation_Classified_By_fuel_type_Monthly.csv')\n",
    "df.head()"
   ]
  },
  {
   "cell_type": "code",
   "execution_count": 74,
   "metadata": {},
   "outputs": [],
   "source": [
    "df.drop(['Date'],axis=1,inplace=True)"
   ]
  },
  {
   "cell_type": "code",
   "execution_count": 75,
   "metadata": {},
   "outputs": [
    {
     "name": "stdout",
     "output_type": "stream",
     "text": [
      "<class 'pandas.core.frame.DataFrame'>\n",
      "RangeIndex: 251 entries, 0 to 250\n",
      "Data columns (total 8 columns):\n",
      " #   Column             Non-Null Count  Dtype  \n",
      "---  ------             --------------  -----  \n",
      " 0   Hydro Electricity  251 non-null    object \n",
      " 1   Fuel Oil           238 non-null    object \n",
      " 2   Coal & Lignite     251 non-null    object \n",
      " 3   Natural Gas        251 non-null    object \n",
      " 4   Diesel             251 non-null    float64\n",
      " 5   Imported           251 non-null    object \n",
      " 6   Renewable Energy   251 non-null    object \n",
      " 7   Total              251 non-null    object \n",
      "dtypes: float64(1), object(7)\n",
      "memory usage: 15.8+ KB\n"
     ]
    }
   ],
   "source": [
    "df.info()"
   ]
  },
  {
   "cell_type": "code",
   "execution_count": 76,
   "metadata": {},
   "outputs": [
    {
     "data": {
      "text/plain": [
       "Hydro Electricity     0\n",
       "Fuel Oil             13\n",
       "Coal & Lignite        0\n",
       "Natural Gas           0\n",
       "Diesel                0\n",
       "Imported              0\n",
       "Renewable Energy      0\n",
       "Total                 0\n",
       "dtype: int64"
      ]
     },
     "execution_count": 76,
     "metadata": {},
     "output_type": "execute_result"
    }
   ],
   "source": [
    "df.isnull().sum()"
   ]
  },
  {
   "cell_type": "code",
   "execution_count": 78,
   "metadata": {},
   "outputs": [],
   "source": [
    "df['Fuel Oil'].fillna(0,inplace=True)"
   ]
  },
  {
   "cell_type": "code",
   "execution_count": 79,
   "metadata": {},
   "outputs": [
    {
     "data": {
      "text/plain": [
       "Hydro Electricity    0\n",
       "Fuel Oil             0\n",
       "Coal & Lignite       0\n",
       "Natural Gas          0\n",
       "Diesel               0\n",
       "Imported             0\n",
       "Renewable Energy     0\n",
       "Total                0\n",
       "dtype: int64"
      ]
     },
     "execution_count": 79,
     "metadata": {},
     "output_type": "execute_result"
    }
   ],
   "source": [
    "df.isnull().sum()"
   ]
  },
  {
   "cell_type": "code",
   "execution_count": 80,
   "metadata": {},
   "outputs": [],
   "source": [
    "df['Fuel Oil'].fillna(0,inplace=True)\n",
    "df = df.replace(',','', regex=True).astype('float')"
   ]
  },
  {
   "cell_type": "code",
   "execution_count": 81,
   "metadata": {},
   "outputs": [
    {
     "data": {
      "text/html": [
       "<div>\n",
       "<style scoped>\n",
       "    .dataframe tbody tr th:only-of-type {\n",
       "        vertical-align: middle;\n",
       "    }\n",
       "\n",
       "    .dataframe tbody tr th {\n",
       "        vertical-align: top;\n",
       "    }\n",
       "\n",
       "    .dataframe thead th {\n",
       "        text-align: right;\n",
       "    }\n",
       "</style>\n",
       "<table border=\"1\" class=\"dataframe\">\n",
       "  <thead>\n",
       "    <tr style=\"text-align: right;\">\n",
       "      <th></th>\n",
       "      <th>Hydro Electricity</th>\n",
       "      <th>Fuel Oil</th>\n",
       "      <th>Coal &amp; Lignite</th>\n",
       "      <th>Natural Gas</th>\n",
       "      <th>Diesel</th>\n",
       "      <th>Imported</th>\n",
       "      <th>Renewable Energy</th>\n",
       "      <th>Total</th>\n",
       "    </tr>\n",
       "  </thead>\n",
       "  <tbody>\n",
       "    <tr>\n",
       "      <th>0</th>\n",
       "      <td>512.6</td>\n",
       "      <td>168.3</td>\n",
       "      <td>1623.4</td>\n",
       "      <td>5689.2</td>\n",
       "      <td>8.2</td>\n",
       "      <td>190.3</td>\n",
       "      <td>71.8</td>\n",
       "      <td>8264.0</td>\n",
       "    </tr>\n",
       "    <tr>\n",
       "      <th>1</th>\n",
       "      <td>588.9</td>\n",
       "      <td>138.0</td>\n",
       "      <td>1552.0</td>\n",
       "      <td>5683.2</td>\n",
       "      <td>8.3</td>\n",
       "      <td>149.2</td>\n",
       "      <td>68.3</td>\n",
       "      <td>8188.0</td>\n",
       "    </tr>\n",
       "    <tr>\n",
       "      <th>2</th>\n",
       "      <td>798.0</td>\n",
       "      <td>218.3</td>\n",
       "      <td>1775.3</td>\n",
       "      <td>6674.4</td>\n",
       "      <td>5.0</td>\n",
       "      <td>146.5</td>\n",
       "      <td>69.6</td>\n",
       "      <td>9687.1</td>\n",
       "    </tr>\n",
       "    <tr>\n",
       "      <th>3</th>\n",
       "      <td>718.8</td>\n",
       "      <td>250.8</td>\n",
       "      <td>1772.5</td>\n",
       "      <td>6399.2</td>\n",
       "      <td>3.4</td>\n",
       "      <td>163.5</td>\n",
       "      <td>70.3</td>\n",
       "      <td>9378.4</td>\n",
       "    </tr>\n",
       "    <tr>\n",
       "      <th>4</th>\n",
       "      <td>602.4</td>\n",
       "      <td>186.5</td>\n",
       "      <td>1536.4</td>\n",
       "      <td>7023.4</td>\n",
       "      <td>15.5</td>\n",
       "      <td>221.7</td>\n",
       "      <td>68.7</td>\n",
       "      <td>9654.7</td>\n",
       "    </tr>\n",
       "  </tbody>\n",
       "</table>\n",
       "</div>"
      ],
      "text/plain": [
       "   Hydro Electricity  Fuel Oil  Coal & Lignite  Natural Gas  Diesel  Imported  \\\n",
       "0              512.6     168.3          1623.4       5689.2     8.2     190.3   \n",
       "1              588.9     138.0          1552.0       5683.2     8.3     149.2   \n",
       "2              798.0     218.3          1775.3       6674.4     5.0     146.5   \n",
       "3              718.8     250.8          1772.5       6399.2     3.4     163.5   \n",
       "4              602.4     186.5          1536.4       7023.4    15.5     221.7   \n",
       "\n",
       "   Renewable Energy   Total  \n",
       "0              71.8  8264.0  \n",
       "1              68.3  8188.0  \n",
       "2              69.6  9687.1  \n",
       "3              70.3  9378.4  \n",
       "4              68.7  9654.7  "
      ]
     },
     "execution_count": 81,
     "metadata": {},
     "output_type": "execute_result"
    }
   ],
   "source": [
    "df.head()"
   ]
  },
  {
   "cell_type": "code",
   "execution_count": 82,
   "metadata": {},
   "outputs": [
    {
     "name": "stdout",
     "output_type": "stream",
     "text": [
      "<class 'pandas.core.frame.DataFrame'>\n",
      "RangeIndex: 251 entries, 0 to 250\n",
      "Data columns (total 8 columns):\n",
      " #   Column             Non-Null Count  Dtype  \n",
      "---  ------             --------------  -----  \n",
      " 0   Hydro Electricity  251 non-null    float64\n",
      " 1   Fuel Oil           251 non-null    float64\n",
      " 2   Coal & Lignite     251 non-null    float64\n",
      " 3   Natural Gas        251 non-null    float64\n",
      " 4   Diesel             251 non-null    float64\n",
      " 5   Imported           251 non-null    float64\n",
      " 6   Renewable Energy   251 non-null    float64\n",
      " 7   Total              251 non-null    float64\n",
      "dtypes: float64(8)\n",
      "memory usage: 15.8 KB\n"
     ]
    }
   ],
   "source": [
    "df.info()"
   ]
  },
  {
   "cell_type": "code",
   "execution_count": 83,
   "metadata": {},
   "outputs": [
    {
     "data": {
      "text/plain": [
       "Hydro Electricity    0\n",
       "Fuel Oil             0\n",
       "Coal & Lignite       0\n",
       "Natural Gas          0\n",
       "Diesel               0\n",
       "Imported             0\n",
       "Renewable Energy     0\n",
       "Total                0\n",
       "dtype: int64"
      ]
     },
     "execution_count": 83,
     "metadata": {},
     "output_type": "execute_result"
    }
   ],
   "source": [
    "df.isnull().sum()"
   ]
  },
  {
   "cell_type": "code",
   "execution_count": 84,
   "metadata": {},
   "outputs": [],
   "source": [
    "from sklearn.preprocessing import StandardScaler\n",
    "\n",
    "#2. create the object\n",
    "sc = StandardScaler()\n",
    "\n",
    "#3. fit and transform\n",
    "standardized_data = sc.fit_transform(df.iloc[:,:-1])"
   ]
  },
  {
   "cell_type": "code",
   "execution_count": 88,
   "metadata": {},
   "outputs": [],
   "source": [
    "from sklearn.model_selection import train_test_split\n",
    "X = standardized_data\n",
    "y = df.iloc[:,-1]\n",
    "X_train, X_test, y_train, y_test = train_test_split(X, y, test_size=0.3, random_state=999)"
   ]
  },
  {
   "cell_type": "code",
   "execution_count": 89,
   "metadata": {},
   "outputs": [
    {
     "data": {
      "text/plain": [
       "((175, 7), (76, 7), (175,), (76,))"
      ]
     },
     "execution_count": 89,
     "metadata": {},
     "output_type": "execute_result"
    }
   ],
   "source": [
    "X_train.shape, X_test.shape, y_train.shape, y_test.shape"
   ]
  },
  {
   "cell_type": "code",
   "execution_count": 90,
   "metadata": {},
   "outputs": [
    {
     "data": {
      "text/plain": [
       "0.9999999988207505"
      ]
     },
     "execution_count": 90,
     "metadata": {},
     "output_type": "execute_result"
    }
   ],
   "source": [
    "from sklearn.linear_model import LinearRegression\n",
    "lr = LinearRegression()\n",
    "lr.fit(X_train, y_train)\n",
    "lr.score(X_test, y_test)"
   ]
  },
  {
   "cell_type": "code",
   "execution_count": 91,
   "metadata": {},
   "outputs": [
    {
     "data": {
      "text/plain": [
       "array([16744.50842283, 13287.69957816, 15711.8104429 ,  9961.8886982 ,\n",
       "       16933.2100051 ,  9599.48169325, 15324.99233639, 11201.59344448,\n",
       "       12479.29547388, 12353.5842313 , 12899.29588417, 14938.71132093,\n",
       "       14084.51612552, 18332.47890109, 10753.09678909, 12272.6947138 ,\n",
       "       17700.00809083, 11867.00102661, 12165.19520637, 16020.30021858,\n",
       "       11419.49190323, 14003.49176446, 16469.0115235 , 12272.4974283 ,\n",
       "       12750.69049503, 17138.31547299, 11107.69267196, 15474.80250168,\n",
       "       10052.49220741, 16199.39755525, 12694.19481483, 17066.00941248,\n",
       "       15341.39793478, 16271.39984063, 12714.19429919, 12435.30155749,\n",
       "       13703.19232457, 16178.30971567, 18376.8109733 , 14633.00197654,\n",
       "       11545.7910563 , 16911.71322069, 14274.99584397, 17013.91470116,\n",
       "       13622.500714  ,  8263.79160681, 16721.96838099, 17472.60902083,\n",
       "       15322.69244428, 17443.81378684, 17276.77356731, 10011.59583141,\n",
       "       12955.09345707, 16836.49969912, 11176.48904455, 14600.80830135,\n",
       "       12576.90036397, 12180.69584875, 16536.59963194, 16747.88819319,\n",
       "       13501.00179141, 18147.30952404, 10333.99623191, 10227.49185592,\n",
       "       15657.79905611, 14510.99605845, 17281.41123971, 15491.79615588,\n",
       "       19168.61650121, 16843.20079154, 10361.48791274, 11885.20086128,\n",
       "       18581.71280707, 14642.19644347, 15999.10139683, 17077.42681727])"
      ]
     },
     "execution_count": 91,
     "metadata": {},
     "output_type": "execute_result"
    }
   ],
   "source": [
    "lr.predict(X_test)"
   ]
  },
  {
   "cell_type": "code",
   "execution_count": null,
   "metadata": {},
   "outputs": [],
   "source": []
  }
 ],
 "metadata": {
  "kernelspec": {
   "display_name": "Python 3",
   "language": "python",
   "name": "python3"
  },
  "language_info": {
   "codemirror_mode": {
    "name": "ipython",
    "version": 3
   },
   "file_extension": ".py",
   "mimetype": "text/x-python",
   "name": "python",
   "nbconvert_exporter": "python",
   "pygments_lexer": "ipython3",
   "version": "3.10.4"
  },
  "orig_nbformat": 4
 },
 "nbformat": 4,
 "nbformat_minor": 2
}
