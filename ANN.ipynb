{
 "cells": [
  {
   "cell_type": "code",
   "execution_count": 1,
   "metadata": {},
   "outputs": [
    {
     "data": {
      "text/html": [
       "<div>\n",
       "<style scoped>\n",
       "    .dataframe tbody tr th:only-of-type {\n",
       "        vertical-align: middle;\n",
       "    }\n",
       "\n",
       "    .dataframe tbody tr th {\n",
       "        vertical-align: top;\n",
       "    }\n",
       "\n",
       "    .dataframe thead th {\n",
       "        text-align: right;\n",
       "    }\n",
       "</style>\n",
       "<table border=\"1\" class=\"dataframe\">\n",
       "  <thead>\n",
       "    <tr style=\"text-align: right;\">\n",
       "      <th></th>\n",
       "      <th>Population</th>\n",
       "      <th>Temperature</th>\n",
       "      <th>CPI</th>\n",
       "      <th>Peak</th>\n",
       "    </tr>\n",
       "  </thead>\n",
       "  <tbody>\n",
       "    <tr>\n",
       "      <th>0</th>\n",
       "      <td>63.24917</td>\n",
       "      <td>26.4525</td>\n",
       "      <td>70.233333</td>\n",
       "      <td>14552.5</td>\n",
       "    </tr>\n",
       "    <tr>\n",
       "      <th>1</th>\n",
       "      <td>63.20833</td>\n",
       "      <td>26.4850</td>\n",
       "      <td>70.233333</td>\n",
       "      <td>15260.8</td>\n",
       "    </tr>\n",
       "    <tr>\n",
       "      <th>2</th>\n",
       "      <td>63.16750</td>\n",
       "      <td>26.5175</td>\n",
       "      <td>70.233333</td>\n",
       "      <td>16485.3</td>\n",
       "    </tr>\n",
       "    <tr>\n",
       "      <th>3</th>\n",
       "      <td>63.12667</td>\n",
       "      <td>26.5500</td>\n",
       "      <td>70.233333</td>\n",
       "      <td>16681.1</td>\n",
       "    </tr>\n",
       "    <tr>\n",
       "      <th>4</th>\n",
       "      <td>63.08583</td>\n",
       "      <td>26.5825</td>\n",
       "      <td>70.066667</td>\n",
       "      <td>16293.1</td>\n",
       "    </tr>\n",
       "  </tbody>\n",
       "</table>\n",
       "</div>"
      ],
      "text/plain": [
       "   Population  Temperature        CPI     Peak\n",
       "0    63.24917      26.4525  70.233333  14552.5\n",
       "1    63.20833      26.4850  70.233333  15260.8\n",
       "2    63.16750      26.5175  70.233333  16485.3\n",
       "3    63.12667      26.5500  70.233333  16681.1\n",
       "4    63.08583      26.5825  70.066667  16293.1"
      ]
     },
     "execution_count": 1,
     "metadata": {},
     "output_type": "execute_result"
    }
   ],
   "source": [
    "import pandas as pd\n",
    "\n",
    "df = pd.read_csv('data/ANN_dataset.csv')\n",
    "\n",
    "df.head()"
   ]
  },
  {
   "cell_type": "code",
   "execution_count": 2,
   "metadata": {},
   "outputs": [
    {
     "data": {
      "text/html": [
       "<div>\n",
       "<style scoped>\n",
       "    .dataframe tbody tr th:only-of-type {\n",
       "        vertical-align: middle;\n",
       "    }\n",
       "\n",
       "    .dataframe tbody tr th {\n",
       "        vertical-align: top;\n",
       "    }\n",
       "\n",
       "    .dataframe thead th {\n",
       "        text-align: right;\n",
       "    }\n",
       "</style>\n",
       "<table border=\"1\" class=\"dataframe\">\n",
       "  <thead>\n",
       "    <tr style=\"text-align: right;\">\n",
       "      <th></th>\n",
       "      <th>Population</th>\n",
       "      <th>Temperature</th>\n",
       "      <th>CPI</th>\n",
       "      <th>Peak</th>\n",
       "    </tr>\n",
       "  </thead>\n",
       "  <tbody>\n",
       "    <tr>\n",
       "      <th>0</th>\n",
       "      <td>61.32250</td>\n",
       "      <td>26.609167</td>\n",
       "      <td>73.766667</td>\n",
       "      <td>18373.5</td>\n",
       "    </tr>\n",
       "    <tr>\n",
       "      <th>1</th>\n",
       "      <td>64.14667</td>\n",
       "      <td>25.916667</td>\n",
       "      <td>92.770000</td>\n",
       "      <td>23442.5</td>\n",
       "    </tr>\n",
       "    <tr>\n",
       "      <th>2</th>\n",
       "      <td>66.23333</td>\n",
       "      <td>26.858333</td>\n",
       "      <td>98.250000</td>\n",
       "      <td>26074.6</td>\n",
       "    </tr>\n",
       "    <tr>\n",
       "      <th>3</th>\n",
       "      <td>63.23250</td>\n",
       "      <td>26.558333</td>\n",
       "      <td>82.833333</td>\n",
       "      <td>19754.8</td>\n",
       "    </tr>\n",
       "    <tr>\n",
       "      <th>4</th>\n",
       "      <td>63.58833</td>\n",
       "      <td>26.852500</td>\n",
       "      <td>85.266667</td>\n",
       "      <td>20505.7</td>\n",
       "    </tr>\n",
       "  </tbody>\n",
       "</table>\n",
       "</div>"
      ],
      "text/plain": [
       "   Population  Temperature        CPI     Peak\n",
       "0    61.32250    26.609167  73.766667  18373.5\n",
       "1    64.14667    25.916667  92.770000  23442.5\n",
       "2    66.23333    26.858333  98.250000  26074.6\n",
       "3    63.23250    26.558333  82.833333  19754.8\n",
       "4    63.58833    26.852500  85.266667  20505.7"
      ]
     },
     "execution_count": 2,
     "metadata": {},
     "output_type": "execute_result"
    }
   ],
   "source": [
    "df = df.sample(frac=1).reset_index(drop=True)\n",
    "\n",
    "df.head()"
   ]
  },
  {
   "cell_type": "code",
   "execution_count": 3,
   "metadata": {},
   "outputs": [
    {
     "data": {
      "text/plain": [
       "((252, 3), (252,))"
      ]
     },
     "execution_count": 3,
     "metadata": {},
     "output_type": "execute_result"
    }
   ],
   "source": [
    "X = df.drop('Peak', axis=1).values\n",
    "y = df['Peak'].values\n",
    "\n",
    "X.shape, y.shape"
   ]
  },
  {
   "cell_type": "code",
   "execution_count": 4,
   "metadata": {},
   "outputs": [
    {
     "data": {
      "text/plain": [
       "array([[-2.17209181, -0.48163138, -1.58492893],\n",
       "       [-0.29477489, -1.76092366,  0.18984903],\n",
       "       [ 1.09229534, -0.0213326 ,  0.70164257],\n",
       "       [-0.90245318, -0.57553864, -0.7381659 ],\n",
       "       [-0.6659215 , -0.03210876, -0.51090964]])"
      ]
     },
     "execution_count": 4,
     "metadata": {},
     "output_type": "execute_result"
    }
   ],
   "source": [
    "from sklearn.preprocessing import StandardScaler\n",
    "\n",
    "scaler = StandardScaler()\n",
    "X = scaler.fit_transform(X)\n",
    "\n",
    "X[:5]"
   ]
  },
  {
   "cell_type": "code",
   "execution_count": 5,
   "metadata": {},
   "outputs": [],
   "source": [
    "from sklearn.model_selection import train_test_split\n",
    "\n",
    "X_train, X_test, y_train, y_test = train_test_split(X, y, test_size=0.2, random_state=42)"
   ]
  },
  {
   "cell_type": "code",
   "execution_count": 6,
   "metadata": {},
   "outputs": [
    {
     "data": {
      "text/plain": [
       "((201, 3), (51, 3), (201,), (51,))"
      ]
     },
     "execution_count": 6,
     "metadata": {},
     "output_type": "execute_result"
    }
   ],
   "source": [
    "X_train.shape, X_test.shape, y_train.shape, y_test.shape"
   ]
  },
  {
   "cell_type": "code",
   "execution_count": 7,
   "metadata": {},
   "outputs": [
    {
     "name": "stdout",
     "output_type": "stream",
     "text": [
      "Epoch 1/50\n",
      "5/5 [==============================] - 1s 68ms/step - loss: 557525568.0000 - val_loss: 556505984.0000\n",
      "Epoch 2/50\n",
      "5/5 [==============================] - 0s 16ms/step - loss: 557524288.0000 - val_loss: 556504768.0000\n",
      "Epoch 3/50\n",
      "5/5 [==============================] - 0s 15ms/step - loss: 557523072.0000 - val_loss: 556503616.0000\n",
      "Epoch 4/50\n",
      "5/5 [==============================] - 0s 14ms/step - loss: 557521792.0000 - val_loss: 556502464.0000\n",
      "Epoch 5/50\n",
      "5/5 [==============================] - 0s 15ms/step - loss: 557520576.0000 - val_loss: 556501248.0000\n",
      "Epoch 6/50\n",
      "5/5 [==============================] - 0s 14ms/step - loss: 557519296.0000 - val_loss: 556500096.0000\n",
      "Epoch 7/50\n",
      "5/5 [==============================] - 0s 18ms/step - loss: 557518144.0000 - val_loss: 556498944.0000\n",
      "Epoch 8/50\n",
      "5/5 [==============================] - 0s 14ms/step - loss: 557516928.0000 - val_loss: 556497728.0000\n",
      "Epoch 9/50\n",
      "5/5 [==============================] - 0s 14ms/step - loss: 557515648.0000 - val_loss: 556496576.0000\n",
      "Epoch 10/50\n",
      "5/5 [==============================] - 0s 14ms/step - loss: 557514304.0000 - val_loss: 556495360.0000\n",
      "Epoch 11/50\n",
      "5/5 [==============================] - 0s 15ms/step - loss: 557512960.0000 - val_loss: 556494080.0000\n",
      "Epoch 12/50\n",
      "5/5 [==============================] - 0s 16ms/step - loss: 557511552.0000 - val_loss: 556492672.0000\n",
      "Epoch 13/50\n",
      "5/5 [==============================] - 0s 13ms/step - loss: 557510144.0000 - val_loss: 556491328.0000\n",
      "Epoch 14/50\n",
      "5/5 [==============================] - 0s 15ms/step - loss: 557508608.0000 - val_loss: 556489920.0000\n",
      "Epoch 15/50\n",
      "5/5 [==============================] - 0s 15ms/step - loss: 557507072.0000 - val_loss: 556488384.0000\n",
      "Epoch 16/50\n",
      "5/5 [==============================] - 0s 17ms/step - loss: 557505472.0000 - val_loss: 556486848.0000\n",
      "Epoch 17/50\n",
      "5/5 [==============================] - 0s 15ms/step - loss: 557503808.0000 - val_loss: 556485184.0000\n",
      "Epoch 18/50\n",
      "5/5 [==============================] - 0s 14ms/step - loss: 557501952.0000 - val_loss: 556483456.0000\n",
      "Epoch 19/50\n",
      "5/5 [==============================] - 0s 15ms/step - loss: 557500096.0000 - val_loss: 556481664.0000\n",
      "Epoch 20/50\n",
      "5/5 [==============================] - 0s 14ms/step - loss: 557498176.0000 - val_loss: 556479872.0000\n",
      "Epoch 21/50\n",
      "5/5 [==============================] - 0s 14ms/step - loss: 557496320.0000 - val_loss: 556477952.0000\n",
      "Epoch 22/50\n",
      "5/5 [==============================] - 0s 15ms/step - loss: 557494400.0000 - val_loss: 556476096.0000\n",
      "Epoch 23/50\n",
      "5/5 [==============================] - 0s 14ms/step - loss: 557492416.0000 - val_loss: 556474176.0000\n",
      "Epoch 24/50\n",
      "5/5 [==============================] - 0s 14ms/step - loss: 557490432.0000 - val_loss: 556472192.0000\n",
      "Epoch 25/50\n",
      "5/5 [==============================] - 0s 15ms/step - loss: 557488384.0000 - val_loss: 556470144.0000\n",
      "Epoch 26/50\n",
      "5/5 [==============================] - 0s 15ms/step - loss: 557486272.0000 - val_loss: 556468096.0000\n",
      "Epoch 27/50\n",
      "5/5 [==============================] - 0s 15ms/step - loss: 557484096.0000 - val_loss: 556465984.0000\n",
      "Epoch 28/50\n",
      "5/5 [==============================] - 0s 15ms/step - loss: 557481856.0000 - val_loss: 556463680.0000\n",
      "Epoch 29/50\n",
      "5/5 [==============================] - 0s 15ms/step - loss: 557479616.0000 - val_loss: 556461440.0000\n",
      "Epoch 30/50\n",
      "5/5 [==============================] - 0s 14ms/step - loss: 557477184.0000 - val_loss: 556459136.0000\n",
      "Epoch 31/50\n",
      "5/5 [==============================] - 0s 14ms/step - loss: 557474944.0000 - val_loss: 556456768.0000\n",
      "Epoch 32/50\n",
      "5/5 [==============================] - 0s 15ms/step - loss: 557472384.0000 - val_loss: 556454272.0000\n",
      "Epoch 33/50\n",
      "5/5 [==============================] - 0s 14ms/step - loss: 557469824.0000 - val_loss: 556451840.0000\n",
      "Epoch 34/50\n",
      "5/5 [==============================] - 0s 15ms/step - loss: 557467328.0000 - val_loss: 556449280.0000\n",
      "Epoch 35/50\n",
      "5/5 [==============================] - 0s 24ms/step - loss: 557464768.0000 - val_loss: 556446592.0000\n",
      "Epoch 36/50\n",
      "5/5 [==============================] - 0s 13ms/step - loss: 557462144.0000 - val_loss: 556443968.0000\n",
      "Epoch 37/50\n",
      "5/5 [==============================] - 0s 13ms/step - loss: 557459328.0000 - val_loss: 556441216.0000\n",
      "Epoch 38/50\n",
      "5/5 [==============================] - 0s 13ms/step - loss: 557456640.0000 - val_loss: 556438336.0000\n",
      "Epoch 39/50\n",
      "5/5 [==============================] - 0s 14ms/step - loss: 557453696.0000 - val_loss: 556435392.0000\n",
      "Epoch 40/50\n",
      "5/5 [==============================] - 0s 14ms/step - loss: 557450816.0000 - val_loss: 556432384.0000\n",
      "Epoch 41/50\n",
      "5/5 [==============================] - 0s 12ms/step - loss: 557447744.0000 - val_loss: 556429312.0000\n",
      "Epoch 42/50\n",
      "5/5 [==============================] - 0s 13ms/step - loss: 557444608.0000 - val_loss: 556426112.0000\n",
      "Epoch 43/50\n",
      "5/5 [==============================] - 0s 15ms/step - loss: 557441344.0000 - val_loss: 556422912.0000\n",
      "Epoch 44/50\n",
      "5/5 [==============================] - 0s 13ms/step - loss: 557437952.0000 - val_loss: 556419520.0000\n",
      "Epoch 45/50\n",
      "5/5 [==============================] - 0s 12ms/step - loss: 557434560.0000 - val_loss: 556416192.0000\n",
      "Epoch 46/50\n",
      "5/5 [==============================] - 0s 13ms/step - loss: 557431104.0000 - val_loss: 556412608.0000\n",
      "Epoch 47/50\n",
      "5/5 [==============================] - 0s 14ms/step - loss: 557427584.0000 - val_loss: 556408960.0000\n",
      "Epoch 48/50\n",
      "5/5 [==============================] - 0s 18ms/step - loss: 557423936.0000 - val_loss: 556405248.0000\n",
      "Epoch 49/50\n",
      "5/5 [==============================] - 0s 13ms/step - loss: 557419968.0000 - val_loss: 556401472.0000\n",
      "Epoch 50/50\n",
      "5/5 [==============================] - 0s 12ms/step - loss: 557416128.0000 - val_loss: 556397568.0000\n"
     ]
    }
   ],
   "source": [
    "from tensorflow import keras\n",
    "\n",
    "model = keras.Sequential()\n",
    "model.add(keras.layers.Dense(6, activation='relu', input_shape=(3,)))\n",
    "model.add(keras.layers.Dense(3, activation='relu'))\n",
    "model.add(keras.layers.Dense(1))\n",
    "\n",
    "model.compile(loss='mean_squared_error', optimizer='Adam')\n",
    "\n",
    "history = model.fit(X_train, y_train, epochs=50, batch_size=32, validation_split=0.2)"
   ]
  },
  {
   "cell_type": "code",
   "execution_count": 8,
   "metadata": {},
   "outputs": [
    {
     "name": "stdout",
     "output_type": "stream",
     "text": [
      "2/2 [==============================] - 0s 2ms/step - loss: 575441600.0000\n",
      "Test loss: 575441600.0\n"
     ]
    }
   ],
   "source": [
    "test_loss = model.evaluate(X_test, y_test)\n",
    "print('Test loss:', test_loss)"
   ]
  },
  {
   "cell_type": "code",
   "execution_count": 9,
   "metadata": {},
   "outputs": [
    {
     "name": "stdout",
     "output_type": "stream",
     "text": [
      "2/2 [==============================] - 0s 2ms/step\n"
     ]
    },
    {
     "data": {
      "image/png": "[encoded data removed]",
      "text/plain": [
       "<Figure size 640x480 with 1 Axes>"
      ]
     },
     "metadata": {},
     "output_type": "display_data"
    }
   ],
   "source": [
    "import matplotlib.pyplot as plt\n",
    "\n",
    "y_pred = model.predict(X_test)\n",
    "plt.scatter(y_test, y_pred)\n",
    "plt.xlabel('Actual Peak')\n",
    "plt.ylabel('Predicted Peak')\n",
    "plt.show()"
   ]
  }
 ],
 "metadata": {
  "kernelspec": {
   "display_name": "myenv",
   "language": "python",
   "name": "python3"
  },
  "language_info": {
   "codemirror_mode": {
    "name": "ipython",
    "version": 3
   },
   "file_extension": ".py",
   "mimetype": "text/x-python",
   "name": "python",
   "nbconvert_exporter": "python",
   "pygments_lexer": "ipython3",
   "version": "3.11.2"
  },
  "orig_nbformat": 4
 },
 "nbformat": 4,
 "nbformat_minor": 2
}
