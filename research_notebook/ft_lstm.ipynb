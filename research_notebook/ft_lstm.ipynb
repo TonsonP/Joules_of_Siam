{
 "cells": [
  {
   "cell_type": "code",
   "execution_count": 1,
   "metadata": {},
   "outputs": [],
   "source": [
    "import torch\n",
    "import torch.nn as nn\n",
    "from sklearn.preprocessing import MinMaxScaler\n",
    "\n",
    "import numpy as np\n",
    "import pandas as pd\n",
    "import matplotlib.pyplot as plt"
   ]
  },
  {
   "cell_type": "code",
   "execution_count": 2,
   "metadata": {},
   "outputs": [
    {
     "data": {
      "text/plain": [
       "(31, 12)"
      ]
     },
     "execution_count": 2,
     "metadata": {},
     "output_type": "execute_result"
    }
   ],
   "source": [
    "import pandas as pd\n",
    "df = pd.read_csv('./Joules_of_Siam_Data - FT_electricity_cost.csv')\n",
    "df.drop(['Year','Average'],axis=1,inplace=True)\n",
    "df.shape"
   ]
  },
  {
   "cell_type": "code",
   "execution_count": 3,
   "metadata": {},
   "outputs": [
    {
     "data": {
      "text/html": [
       "<div>\n",
       "<style scoped>\n",
       "    .dataframe tbody tr th:only-of-type {\n",
       "        vertical-align: middle;\n",
       "    }\n",
       "\n",
       "    .dataframe tbody tr th {\n",
       "        vertical-align: top;\n",
       "    }\n",
       "\n",
       "    .dataframe thead th {\n",
       "        text-align: right;\n",
       "    }\n",
       "</style>\n",
       "<table border=\"1\" class=\"dataframe\">\n",
       "  <thead>\n",
       "    <tr style=\"text-align: right;\">\n",
       "      <th></th>\n",
       "      <th>0</th>\n",
       "      <th>1</th>\n",
       "      <th>2</th>\n",
       "      <th>3</th>\n",
       "      <th>4</th>\n",
       "      <th>5</th>\n",
       "      <th>6</th>\n",
       "      <th>7</th>\n",
       "      <th>8</th>\n",
       "      <th>9</th>\n",
       "      <th>...</th>\n",
       "      <th>21</th>\n",
       "      <th>22</th>\n",
       "      <th>23</th>\n",
       "      <th>24</th>\n",
       "      <th>25</th>\n",
       "      <th>26</th>\n",
       "      <th>27</th>\n",
       "      <th>28</th>\n",
       "      <th>29</th>\n",
       "      <th>30</th>\n",
       "    </tr>\n",
       "  </thead>\n",
       "  <tbody>\n",
       "    <tr>\n",
       "      <th>1</th>\n",
       "      <td>1.39</td>\n",
       "      <td>-15.32</td>\n",
       "      <td>-11.60</td>\n",
       "      <td>-11.6</td>\n",
       "      <td>-15.9</td>\n",
       "      <td>-37.29</td>\n",
       "      <td>-4.80</td>\n",
       "      <td>58.96</td>\n",
       "      <td>59.0</td>\n",
       "      <td>52.04</td>\n",
       "      <td>...</td>\n",
       "      <td>0.00</td>\n",
       "      <td>56.32</td>\n",
       "      <td>50.71</td>\n",
       "      <td>42.40</td>\n",
       "      <td>18.28</td>\n",
       "      <td>18.10</td>\n",
       "      <td>7.50</td>\n",
       "      <td>6.91</td>\n",
       "      <td>8.39</td>\n",
       "      <td>0.00</td>\n",
       "    </tr>\n",
       "    <tr>\n",
       "      <th>2</th>\n",
       "      <td>1.39</td>\n",
       "      <td>-15.32</td>\n",
       "      <td>-11.60</td>\n",
       "      <td>-11.6</td>\n",
       "      <td>-15.9</td>\n",
       "      <td>-37.29</td>\n",
       "      <td>-4.80</td>\n",
       "      <td>58.96</td>\n",
       "      <td>59.0</td>\n",
       "      <td>52.04</td>\n",
       "      <td>...</td>\n",
       "      <td>24.44</td>\n",
       "      <td>56.32</td>\n",
       "      <td>50.71</td>\n",
       "      <td>42.40</td>\n",
       "      <td>18.28</td>\n",
       "      <td>18.10</td>\n",
       "      <td>7.50</td>\n",
       "      <td>6.91</td>\n",
       "      <td>8.39</td>\n",
       "      <td>0.00</td>\n",
       "    </tr>\n",
       "    <tr>\n",
       "      <th>3</th>\n",
       "      <td>1.39</td>\n",
       "      <td>-15.32</td>\n",
       "      <td>-11.60</td>\n",
       "      <td>-11.6</td>\n",
       "      <td>-15.9</td>\n",
       "      <td>-37.29</td>\n",
       "      <td>-4.80</td>\n",
       "      <td>58.96</td>\n",
       "      <td>59.0</td>\n",
       "      <td>52.04</td>\n",
       "      <td>...</td>\n",
       "      <td>24.44</td>\n",
       "      <td>56.32</td>\n",
       "      <td>50.71</td>\n",
       "      <td>42.40</td>\n",
       "      <td>26.73</td>\n",
       "      <td>18.10</td>\n",
       "      <td>14.85</td>\n",
       "      <td>3.56</td>\n",
       "      <td>8.39</td>\n",
       "      <td>0.00</td>\n",
       "    </tr>\n",
       "    <tr>\n",
       "      <th>4</th>\n",
       "      <td>1.39</td>\n",
       "      <td>-15.32</td>\n",
       "      <td>-11.60</td>\n",
       "      <td>-11.6</td>\n",
       "      <td>-15.9</td>\n",
       "      <td>-37.29</td>\n",
       "      <td>-4.80</td>\n",
       "      <td>58.96</td>\n",
       "      <td>59.0</td>\n",
       "      <td>52.04</td>\n",
       "      <td>...</td>\n",
       "      <td>24.44</td>\n",
       "      <td>61.52</td>\n",
       "      <td>32.61</td>\n",
       "      <td>50.45</td>\n",
       "      <td>26.73</td>\n",
       "      <td>22.87</td>\n",
       "      <td>14.85</td>\n",
       "      <td>0.36</td>\n",
       "      <td>5.32</td>\n",
       "      <td>0.00</td>\n",
       "    </tr>\n",
       "    <tr>\n",
       "      <th>5</th>\n",
       "      <td>24.77</td>\n",
       "      <td>-15.32</td>\n",
       "      <td>-11.60</td>\n",
       "      <td>-11.6</td>\n",
       "      <td>-15.9</td>\n",
       "      <td>-24.77</td>\n",
       "      <td>-33.29</td>\n",
       "      <td>49.61</td>\n",
       "      <td>69.0</td>\n",
       "      <td>46.92</td>\n",
       "      <td>...</td>\n",
       "      <td>24.44</td>\n",
       "      <td>61.52</td>\n",
       "      <td>32.61</td>\n",
       "      <td>50.45</td>\n",
       "      <td>26.73</td>\n",
       "      <td>22.87</td>\n",
       "      <td>14.85</td>\n",
       "      <td>9.53</td>\n",
       "      <td>5.32</td>\n",
       "      <td>0.00</td>\n",
       "    </tr>\n",
       "    <tr>\n",
       "      <th>6</th>\n",
       "      <td>24.77</td>\n",
       "      <td>-15.32</td>\n",
       "      <td>-11.60</td>\n",
       "      <td>-11.6</td>\n",
       "      <td>-15.9</td>\n",
       "      <td>-24.77</td>\n",
       "      <td>-33.29</td>\n",
       "      <td>49.61</td>\n",
       "      <td>69.0</td>\n",
       "      <td>46.92</td>\n",
       "      <td>...</td>\n",
       "      <td>27.13</td>\n",
       "      <td>61.52</td>\n",
       "      <td>32.61</td>\n",
       "      <td>50.45</td>\n",
       "      <td>26.73</td>\n",
       "      <td>22.50</td>\n",
       "      <td>17.35</td>\n",
       "      <td>2.80</td>\n",
       "      <td>5.32</td>\n",
       "      <td>0.00</td>\n",
       "    </tr>\n",
       "    <tr>\n",
       "      <th>7</th>\n",
       "      <td>24.77</td>\n",
       "      <td>-15.32</td>\n",
       "      <td>-11.60</td>\n",
       "      <td>-11.6</td>\n",
       "      <td>-15.9</td>\n",
       "      <td>-24.77</td>\n",
       "      <td>-33.29</td>\n",
       "      <td>49.61</td>\n",
       "      <td>69.0</td>\n",
       "      <td>46.92</td>\n",
       "      <td>...</td>\n",
       "      <td>27.13</td>\n",
       "      <td>61.52</td>\n",
       "      <td>32.61</td>\n",
       "      <td>50.45</td>\n",
       "      <td>26.73</td>\n",
       "      <td>25.82</td>\n",
       "      <td>24.70</td>\n",
       "      <td>2.80</td>\n",
       "      <td>3.24</td>\n",
       "      <td>0.00</td>\n",
       "    </tr>\n",
       "    <tr>\n",
       "      <th>8</th>\n",
       "      <td>24.77</td>\n",
       "      <td>-15.32</td>\n",
       "      <td>-11.60</td>\n",
       "      <td>-11.6</td>\n",
       "      <td>-15.9</td>\n",
       "      <td>-24.77</td>\n",
       "      <td>-33.29</td>\n",
       "      <td>49.61</td>\n",
       "      <td>69.0</td>\n",
       "      <td>46.92</td>\n",
       "      <td>...</td>\n",
       "      <td>27.13</td>\n",
       "      <td>64.52</td>\n",
       "      <td>37.92</td>\n",
       "      <td>55.77</td>\n",
       "      <td>26.73</td>\n",
       "      <td>25.82</td>\n",
       "      <td>19.95</td>\n",
       "      <td>-0.53</td>\n",
       "      <td>-1.86</td>\n",
       "      <td>0.00</td>\n",
       "    </tr>\n",
       "    <tr>\n",
       "      <th>9</th>\n",
       "      <td>93.43</td>\n",
       "      <td>-15.32</td>\n",
       "      <td>-12.43</td>\n",
       "      <td>-11.6</td>\n",
       "      <td>-15.9</td>\n",
       "      <td>-15.90</td>\n",
       "      <td>-33.29</td>\n",
       "      <td>46.38</td>\n",
       "      <td>69.0</td>\n",
       "      <td>54.00</td>\n",
       "      <td>...</td>\n",
       "      <td>27.13</td>\n",
       "      <td>64.52</td>\n",
       "      <td>37.92</td>\n",
       "      <td>55.77</td>\n",
       "      <td>26.73</td>\n",
       "      <td>25.82</td>\n",
       "      <td>23.82</td>\n",
       "      <td>7.50</td>\n",
       "      <td>-1.86</td>\n",
       "      <td>6.17</td>\n",
       "    </tr>\n",
       "    <tr>\n",
       "      <th>10</th>\n",
       "      <td>93.43</td>\n",
       "      <td>-15.32</td>\n",
       "      <td>-12.43</td>\n",
       "      <td>-11.6</td>\n",
       "      <td>-15.9</td>\n",
       "      <td>-15.90</td>\n",
       "      <td>-33.29</td>\n",
       "      <td>46.38</td>\n",
       "      <td>69.0</td>\n",
       "      <td>54.00</td>\n",
       "      <td>...</td>\n",
       "      <td>22.77</td>\n",
       "      <td>0.00</td>\n",
       "      <td>37.92</td>\n",
       "      <td>55.77</td>\n",
       "      <td>26.73</td>\n",
       "      <td>20.42</td>\n",
       "      <td>18.10</td>\n",
       "      <td>7.50</td>\n",
       "      <td>-1.86</td>\n",
       "      <td>6.17</td>\n",
       "    </tr>\n",
       "    <tr>\n",
       "      <th>11</th>\n",
       "      <td>93.43</td>\n",
       "      <td>-15.32</td>\n",
       "      <td>-12.43</td>\n",
       "      <td>-11.6</td>\n",
       "      <td>-15.9</td>\n",
       "      <td>-15.90</td>\n",
       "      <td>-33.29</td>\n",
       "      <td>-3.23</td>\n",
       "      <td>69.0</td>\n",
       "      <td>54.00</td>\n",
       "      <td>...</td>\n",
       "      <td>22.77</td>\n",
       "      <td>0.00</td>\n",
       "      <td>37.92</td>\n",
       "      <td>55.77</td>\n",
       "      <td>42.40</td>\n",
       "      <td>25.60</td>\n",
       "      <td>18.10</td>\n",
       "      <td>7.50</td>\n",
       "      <td>-1.86</td>\n",
       "      <td>6.17</td>\n",
       "    </tr>\n",
       "    <tr>\n",
       "      <th>12</th>\n",
       "      <td>93.43</td>\n",
       "      <td>-15.32</td>\n",
       "      <td>-12.43</td>\n",
       "      <td>-11.6</td>\n",
       "      <td>-15.9</td>\n",
       "      <td>-15.90</td>\n",
       "      <td>-33.29</td>\n",
       "      <td>-3.23</td>\n",
       "      <td>69.0</td>\n",
       "      <td>54.00</td>\n",
       "      <td>...</td>\n",
       "      <td>22.77</td>\n",
       "      <td>0.00</td>\n",
       "      <td>56.32</td>\n",
       "      <td>50.71</td>\n",
       "      <td>42.40</td>\n",
       "      <td>25.60</td>\n",
       "      <td>18.10</td>\n",
       "      <td>7.50</td>\n",
       "      <td>-1.86</td>\n",
       "      <td>6.17</td>\n",
       "    </tr>\n",
       "  </tbody>\n",
       "</table>\n",
       "<p>12 rows × 31 columns</p>\n",
       "</div>"
      ],
      "text/plain": [
       "       0      1      2     3     4      5      6      7     8      9   ...  \\\n",
       "1    1.39 -15.32 -11.60 -11.6 -15.9 -37.29  -4.80  58.96  59.0  52.04  ...   \n",
       "2    1.39 -15.32 -11.60 -11.6 -15.9 -37.29  -4.80  58.96  59.0  52.04  ...   \n",
       "3    1.39 -15.32 -11.60 -11.6 -15.9 -37.29  -4.80  58.96  59.0  52.04  ...   \n",
       "4    1.39 -15.32 -11.60 -11.6 -15.9 -37.29  -4.80  58.96  59.0  52.04  ...   \n",
       "5   24.77 -15.32 -11.60 -11.6 -15.9 -24.77 -33.29  49.61  69.0  46.92  ...   \n",
       "6   24.77 -15.32 -11.60 -11.6 -15.9 -24.77 -33.29  49.61  69.0  46.92  ...   \n",
       "7   24.77 -15.32 -11.60 -11.6 -15.9 -24.77 -33.29  49.61  69.0  46.92  ...   \n",
       "8   24.77 -15.32 -11.60 -11.6 -15.9 -24.77 -33.29  49.61  69.0  46.92  ...   \n",
       "9   93.43 -15.32 -12.43 -11.6 -15.9 -15.90 -33.29  46.38  69.0  54.00  ...   \n",
       "10  93.43 -15.32 -12.43 -11.6 -15.9 -15.90 -33.29  46.38  69.0  54.00  ...   \n",
       "11  93.43 -15.32 -12.43 -11.6 -15.9 -15.90 -33.29  -3.23  69.0  54.00  ...   \n",
       "12  93.43 -15.32 -12.43 -11.6 -15.9 -15.90 -33.29  -3.23  69.0  54.00  ...   \n",
       "\n",
       "       21     22     23     24     25     26     27    28    29    30  \n",
       "1    0.00  56.32  50.71  42.40  18.28  18.10   7.50  6.91  8.39  0.00  \n",
       "2   24.44  56.32  50.71  42.40  18.28  18.10   7.50  6.91  8.39  0.00  \n",
       "3   24.44  56.32  50.71  42.40  26.73  18.10  14.85  3.56  8.39  0.00  \n",
       "4   24.44  61.52  32.61  50.45  26.73  22.87  14.85  0.36  5.32  0.00  \n",
       "5   24.44  61.52  32.61  50.45  26.73  22.87  14.85  9.53  5.32  0.00  \n",
       "6   27.13  61.52  32.61  50.45  26.73  22.50  17.35  2.80  5.32  0.00  \n",
       "7   27.13  61.52  32.61  50.45  26.73  25.82  24.70  2.80  3.24  0.00  \n",
       "8   27.13  64.52  37.92  55.77  26.73  25.82  19.95 -0.53 -1.86  0.00  \n",
       "9   27.13  64.52  37.92  55.77  26.73  25.82  23.82  7.50 -1.86  6.17  \n",
       "10  22.77   0.00  37.92  55.77  26.73  20.42  18.10  7.50 -1.86  6.17  \n",
       "11  22.77   0.00  37.92  55.77  42.40  25.60  18.10  7.50 -1.86  6.17  \n",
       "12  22.77   0.00  56.32  50.71  42.40  25.60  18.10  7.50 -1.86  6.17  \n",
       "\n",
       "[12 rows x 31 columns]"
      ]
     },
     "execution_count": 3,
     "metadata": {},
     "output_type": "execute_result"
    }
   ],
   "source": [
    "df.transpose()"
   ]
  },
  {
   "cell_type": "code",
   "execution_count": 4,
   "metadata": {},
   "outputs": [
    {
     "data": {
      "text/plain": [
       "Index(['level_0', 'level_1', 0], dtype='object')"
      ]
     },
     "execution_count": 4,
     "metadata": {},
     "output_type": "execute_result"
    }
   ],
   "source": [
    "df = df.stack().reset_index()\n",
    "df.columns"
   ]
  },
  {
   "cell_type": "code",
   "execution_count": 5,
   "metadata": {},
   "outputs": [],
   "source": [
    "df.drop(['level_0'],axis=1,inplace=True)\n",
    "df.rename(columns = {'level_1':'Date',0:'FT'}, inplace=True)"
   ]
  },
  {
   "cell_type": "code",
   "execution_count": 6,
   "metadata": {},
   "outputs": [
    {
     "data": {
      "text/html": [
       "<div>\n",
       "<style scoped>\n",
       "    .dataframe tbody tr th:only-of-type {\n",
       "        vertical-align: middle;\n",
       "    }\n",
       "\n",
       "    .dataframe tbody tr th {\n",
       "        vertical-align: top;\n",
       "    }\n",
       "\n",
       "    .dataframe thead th {\n",
       "        text-align: right;\n",
       "    }\n",
       "</style>\n",
       "<table border=\"1\" class=\"dataframe\">\n",
       "  <thead>\n",
       "    <tr style=\"text-align: right;\">\n",
       "      <th></th>\n",
       "      <th>Date</th>\n",
       "      <th>FT</th>\n",
       "    </tr>\n",
       "  </thead>\n",
       "  <tbody>\n",
       "    <tr>\n",
       "      <th>0</th>\n",
       "      <td>1</td>\n",
       "      <td>1.39</td>\n",
       "    </tr>\n",
       "    <tr>\n",
       "      <th>1</th>\n",
       "      <td>2</td>\n",
       "      <td>1.39</td>\n",
       "    </tr>\n",
       "    <tr>\n",
       "      <th>2</th>\n",
       "      <td>3</td>\n",
       "      <td>1.39</td>\n",
       "    </tr>\n",
       "    <tr>\n",
       "      <th>3</th>\n",
       "      <td>4</td>\n",
       "      <td>1.39</td>\n",
       "    </tr>\n",
       "    <tr>\n",
       "      <th>4</th>\n",
       "      <td>5</td>\n",
       "      <td>24.77</td>\n",
       "    </tr>\n",
       "  </tbody>\n",
       "</table>\n",
       "</div>"
      ],
      "text/plain": [
       "  Date     FT\n",
       "0    1   1.39\n",
       "1    2   1.39\n",
       "2    3   1.39\n",
       "3    4   1.39\n",
       "4    5  24.77"
      ]
     },
     "execution_count": 6,
     "metadata": {},
     "output_type": "execute_result"
    }
   ],
   "source": [
    "df.head()"
   ]
  },
  {
   "cell_type": "code",
   "execution_count": 7,
   "metadata": {},
   "outputs": [],
   "source": [
    "df.Date = [i for i in range(1,df.shape[0]+1)]"
   ]
  },
  {
   "cell_type": "code",
   "execution_count": 8,
   "metadata": {},
   "outputs": [],
   "source": [
    "def convert(i):\n",
    "    year = 1992 + int(i)//12\n",
    "    i = i%12\n",
    "    return f'{year}-{i}'"
   ]
  },
  {
   "cell_type": "code",
   "execution_count": 9,
   "metadata": {},
   "outputs": [],
   "source": [
    "df.Date = df.Date.apply(convert)"
   ]
  },
  {
   "cell_type": "code",
   "execution_count": 10,
   "metadata": {},
   "outputs": [
    {
     "data": {
      "text/plain": [
       "0       1992-1\n",
       "1       1992-2\n",
       "2       1992-3\n",
       "3       1992-4\n",
       "4       1992-5\n",
       "        ...   \n",
       "367     2022-8\n",
       "368     2022-9\n",
       "369    2022-10\n",
       "370    2022-11\n",
       "371     2023-0\n",
       "Name: Date, Length: 372, dtype: object"
      ]
     },
     "execution_count": 10,
     "metadata": {},
     "output_type": "execute_result"
    }
   ],
   "source": [
    "df.Date"
   ]
  },
  {
   "cell_type": "code",
   "execution_count": 11,
   "metadata": {},
   "outputs": [
    {
     "data": {
      "text/html": [
       "<div>\n",
       "<style scoped>\n",
       "    .dataframe tbody tr th:only-of-type {\n",
       "        vertical-align: middle;\n",
       "    }\n",
       "\n",
       "    .dataframe tbody tr th {\n",
       "        vertical-align: top;\n",
       "    }\n",
       "\n",
       "    .dataframe thead th {\n",
       "        text-align: right;\n",
       "    }\n",
       "</style>\n",
       "<table border=\"1\" class=\"dataframe\">\n",
       "  <thead>\n",
       "    <tr style=\"text-align: right;\">\n",
       "      <th></th>\n",
       "      <th>Date</th>\n",
       "      <th>FT</th>\n",
       "    </tr>\n",
       "  </thead>\n",
       "  <tbody>\n",
       "    <tr>\n",
       "      <th>0</th>\n",
       "      <td>1992-1</td>\n",
       "      <td>1.39</td>\n",
       "    </tr>\n",
       "    <tr>\n",
       "      <th>1</th>\n",
       "      <td>1992-2</td>\n",
       "      <td>1.39</td>\n",
       "    </tr>\n",
       "    <tr>\n",
       "      <th>2</th>\n",
       "      <td>1992-3</td>\n",
       "      <td>1.39</td>\n",
       "    </tr>\n",
       "    <tr>\n",
       "      <th>3</th>\n",
       "      <td>1992-4</td>\n",
       "      <td>1.39</td>\n",
       "    </tr>\n",
       "    <tr>\n",
       "      <th>4</th>\n",
       "      <td>1992-5</td>\n",
       "      <td>24.77</td>\n",
       "    </tr>\n",
       "  </tbody>\n",
       "</table>\n",
       "</div>"
      ],
      "text/plain": [
       "     Date     FT\n",
       "0  1992-1   1.39\n",
       "1  1992-2   1.39\n",
       "2  1992-3   1.39\n",
       "3  1992-4   1.39\n",
       "4  1992-5  24.77"
      ]
     },
     "execution_count": 11,
     "metadata": {},
     "output_type": "execute_result"
    }
   ],
   "source": [
    "df.head()"
   ]
  },
  {
   "cell_type": "code",
   "execution_count": 12,
   "metadata": {},
   "outputs": [],
   "source": [
    "df.set_index('Date', inplace=True)"
   ]
  },
  {
   "cell_type": "code",
   "execution_count": 13,
   "metadata": {},
   "outputs": [
    {
     "data": {
      "image/png": "[encoded data removed]",
      "text/plain": [
       "<Figure size 1080x288 with 1 Axes>"
      ]
     },
     "metadata": {
      "needs_background": "light"
     },
     "output_type": "display_data"
    }
   ],
   "source": [
    "import matplotlib.pyplot as plt\n",
    "plt.figure(figsize=(15,4))\n",
    "plt.title('FT')\n",
    "plt.ylabel('Index')\n",
    "plt.grid(True)\n",
    "plt.autoscale(axis='x',tight=True)\n",
    "plt.plot(df['FT'])\n",
    "plt.xticks(df.index[::12], rotation=90)\n",
    "plt.show()"
   ]
  },
  {
   "cell_type": "code",
   "execution_count": 14,
   "metadata": {},
   "outputs": [
    {
     "name": "stdout",
     "output_type": "stream",
     "text": [
      "Train: 360\n",
      "Test:  12\n"
     ]
    }
   ],
   "source": [
    "y = df['FT'].values.astype(float)\n",
    "\n",
    "test_size = 12\n",
    "window_size = 12\n",
    "\n",
    "train_set = y[:-test_size]\n",
    "test_set  = y[-test_size:]\n",
    "\n",
    "print(f'Train: {len(train_set)}')\n",
    "print(f'Test:  {len(test_set)}')"
   ]
  },
  {
   "cell_type": "code",
   "execution_count": 15,
   "metadata": {},
   "outputs": [
    {
     "name": "stdout",
     "output_type": "stream",
     "text": [
      "First item, original: 1.39\n",
      "First item, scaled: [-0.41878287]\n"
     ]
    }
   ],
   "source": [
    "scaler = MinMaxScaler(feature_range=(-1, 1))\n",
    "\n",
    "train_norm = scaler.fit_transform(train_set.reshape(-1, 1))\n",
    "\n",
    "print(f'First item, original: {train_set[0]}')\n",
    "print(f'First item, scaled: {train_norm[0]}')"
   ]
  },
  {
   "cell_type": "code",
   "execution_count": 16,
   "metadata": {},
   "outputs": [],
   "source": [
    "train_norm = torch.FloatTensor(train_norm).view(-1)\n",
    "\n",
    "def input_data(seq,ws):\n",
    "    out = []\n",
    "    L = len(seq)\n",
    "    for i in range(L-ws):\n",
    "        window = seq[i:i+ws]\n",
    "        label = seq[i+ws:i+ws+1]\n",
    "        out.append((window,label))\n",
    "    return out"
   ]
  },
  {
   "cell_type": "code",
   "execution_count": 17,
   "metadata": {},
   "outputs": [
    {
     "name": "stdout",
     "output_type": "stream",
     "text": [
      "Train_data: 348\n"
     ]
    }
   ],
   "source": [
    "train_data = input_data(train_norm,window_size)\n",
    "\n",
    "print(f'Train_data: {len(train_data)}')"
   ]
  },
  {
   "cell_type": "code",
   "execution_count": 18,
   "metadata": {},
   "outputs": [
    {
     "data": {
      "text/plain": [
       "LSTMnetwork(\n",
       "  (lstm): LSTM(1, 64)\n",
       "  (linear): Linear(in_features=64, out_features=1, bias=True)\n",
       ")"
      ]
     },
     "execution_count": 18,
     "metadata": {},
     "output_type": "execute_result"
    }
   ],
   "source": [
    "class LSTMnetwork(nn.Module):\n",
    "    def __init__(self,input_size=1,hidden_size=64,output_size=1):\n",
    "        super().__init__()\n",
    "        self.hidden_size = hidden_size\n",
    "        \n",
    "        # Add an LSTM layer:\n",
    "        self.lstm = nn.LSTM(input_size,hidden_size)\n",
    "        \n",
    "        # Add a fully-connected layer:\n",
    "        self.linear = nn.Linear(hidden_size,output_size)\n",
    "        \n",
    "        # Initialize h0 and c0:\n",
    "        self.hidden = (torch.zeros(1,1,self.hidden_size),\n",
    "                       torch.zeros(1,1,self.hidden_size))\n",
    "\n",
    "    def forward(self,seq):\n",
    "        lstm_out, self.hidden = self.lstm(\n",
    "            seq.view(len(seq),1,-1), self.hidden)\n",
    "        pred = self.linear(lstm_out.view(len(seq),-1))\n",
    "        return pred[-1]\n",
    "    \n",
    "torch.manual_seed(101)\n",
    "model = LSTMnetwork()\n",
    "model"
   ]
  },
  {
   "cell_type": "code",
   "execution_count": 19,
   "metadata": {},
   "outputs": [],
   "source": [
    "criterion = nn.MSELoss()\n",
    "optimizer = torch.optim.Adam(model.parameters(), lr=0.001)"
   ]
  },
  {
   "cell_type": "code",
   "execution_count": 20,
   "metadata": {},
   "outputs": [
    {
     "name": "stdout",
     "output_type": "stream",
     "text": [
      "1 of 50 epochs completed\n",
      "2 of 50 epochs completed\n",
      "3 of 50 epochs completed\n",
      "4 of 50 epochs completed\n",
      "5 of 50 epochs completed\n",
      "6 of 50 epochs completed\n",
      "7 of 50 epochs completed\n",
      "8 of 50 epochs completed\n",
      "9 of 50 epochs completed\n",
      "10 of 50 epochs completed\n",
      "11 of 50 epochs completed\n",
      "12 of 50 epochs completed\n",
      "13 of 50 epochs completed\n",
      "14 of 50 epochs completed\n",
      "15 of 50 epochs completed\n",
      "16 of 50 epochs completed\n",
      "17 of 50 epochs completed\n",
      "18 of 50 epochs completed\n",
      "19 of 50 epochs completed\n",
      "20 of 50 epochs completed\n",
      "21 of 50 epochs completed\n",
      "22 of 50 epochs completed\n",
      "23 of 50 epochs completed\n",
      "24 of 50 epochs completed\n",
      "25 of 50 epochs completed\n",
      "26 of 50 epochs completed\n",
      "27 of 50 epochs completed\n",
      "28 of 50 epochs completed\n",
      "29 of 50 epochs completed\n",
      "30 of 50 epochs completed\n",
      "31 of 50 epochs completed\n",
      "32 of 50 epochs completed\n",
      "33 of 50 epochs completed\n",
      "34 of 50 epochs completed\n",
      "35 of 50 epochs completed\n",
      "36 of 50 epochs completed\n",
      "37 of 50 epochs completed\n",
      "38 of 50 epochs completed\n",
      "39 of 50 epochs completed\n",
      "40 of 50 epochs completed\n",
      "41 of 50 epochs completed\n",
      "42 of 50 epochs completed\n",
      "43 of 50 epochs completed\n",
      "44 of 50 epochs completed\n",
      "45 of 50 epochs completed\n",
      "46 of 50 epochs completed\n",
      "47 of 50 epochs completed\n",
      "48 of 50 epochs completed\n",
      "49 of 50 epochs completed\n",
      "50 of 50 epochs completed\n"
     ]
    }
   ],
   "source": [
    "epochs = 50\n",
    "\n",
    "for i in range(epochs):\n",
    "    for seq, y_train in train_data:\n",
    "        \n",
    "        # reset the parameters and hidden states\n",
    "        optimizer.zero_grad()\n",
    "        model.hidden = (torch.zeros(1,1,model.hidden_size),\n",
    "                        torch.zeros(1,1,model.hidden_size))\n",
    "        \n",
    "        # apply the model\n",
    "        y_pred = model(seq)\n",
    "\n",
    "        # update parameters\n",
    "        loss = criterion(y_pred, y_train)\n",
    "        loss.backward()\n",
    "        optimizer.step()\n",
    "\n",
    "    # OPTIONAL print statement\n",
    "    print(f'{i+1} of {epochs} epochs completed')"
   ]
  },
  {
   "cell_type": "code",
   "execution_count": 21,
   "metadata": {},
   "outputs": [],
   "source": [
    "future = 30\n",
    "preds = train_norm[-window_size:].tolist()\n",
    "\n",
    "model.eval()\n",
    "\n",
    "for i in range(future):\n",
    "    seq = torch.FloatTensor(preds[-window_size:])\n",
    "    with torch.no_grad():\n",
    "        model.hidden = (torch.zeros(1,1,model.hidden_size),\n",
    "                        torch.zeros(1,1,model.hidden_size))\n",
    "        preds.append(model(seq).item())\n",
    "        \n",
    "# preds[window_size:]"
   ]
  },
  {
   "cell_type": "code",
   "execution_count": 22,
   "metadata": {},
   "outputs": [],
   "source": [
    "true_predictions = scaler.inverse_transform(np.array(preds[window_size:]).reshape(-1, 1))\n",
    "# true_predictions"
   ]
  },
  {
   "cell_type": "code",
   "execution_count": 23,
   "metadata": {},
   "outputs": [
    {
     "data": {
      "image/png": "[encoded data removed]",
      "text/plain": [
       "<Figure size 1080x288 with 1 Axes>"
      ]
     },
     "metadata": {
      "needs_background": "light"
     },
     "output_type": "display_data"
    }
   ],
   "source": [
    "x = np.arange(342,372)\n",
    "# x = np.arange('2002-01', '2022-12', dtype='datetime64[M]').astype('datetime64[D]')\n",
    "\n",
    "plt.figure(figsize=(15,4))\n",
    "plt.title('FT prediction within 30 days')\n",
    "plt.ylabel('FT value')\n",
    "plt.grid(True)\n",
    "plt.autoscale(axis='x',tight=True)\n",
    "plt.plot(df['FT'])\n",
    "plt.plot(x,true_predictions)\n",
    "plt.xticks(df.index[::12], rotation=90)\n",
    "plt.show()"
   ]
  },
  {
   "cell_type": "code",
   "execution_count": 24,
   "metadata": {},
   "outputs": [
    {
     "data": {
      "image/png": "[encoded data removed]",
      "text/plain": [
       "<Figure size 864x288 with 1 Axes>"
      ]
     },
     "metadata": {
      "needs_background": "light"
     },
     "output_type": "display_data"
    }
   ],
   "source": [
    "fig = plt.figure(figsize=(12,4))\n",
    "plt.title('FT')\n",
    "plt.ylabel('Index 2012=100, Not Seasonally Adjusted')\n",
    "plt.grid(True)\n",
    "plt.autoscale(axis='x',tight=True)\n",
    "fig.autofmt_xdate()\n",
    "plt.plot(df['FT']['2020-01':])\n",
    "plt.plot(x, true_predictions)\n",
    "plt.show()"
   ]
  }
 ],
 "metadata": {
  "kernelspec": {
   "display_name": "Python 3",
   "language": "python",
   "name": "python3"
  },
  "language_info": {
   "codemirror_mode": {
    "name": "ipython",
    "version": 3
   },
   "file_extension": ".py",
   "mimetype": "text/x-python",
   "name": "python",
   "nbconvert_exporter": "python",
   "pygments_lexer": "ipython3",
   "version": "3.10.4"
  },
  "orig_nbformat": 4
 },
 "nbformat": 4,
 "nbformat_minor": 2
}
