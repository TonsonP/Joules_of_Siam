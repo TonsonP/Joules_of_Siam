{
 "cells": [
  {
   "attachments": {},
   "cell_type": "markdown",
   "metadata": {},
   "source": [
    "## 1. ETL"
   ]
  },
  {
   "cell_type": "code",
   "execution_count": 89,
   "metadata": {},
   "outputs": [
    {
     "data": {
      "text/html": [
       "<div>\n",
       "<style scoped>\n",
       "    .dataframe tbody tr th:only-of-type {\n",
       "        vertical-align: middle;\n",
       "    }\n",
       "\n",
       "    .dataframe tbody tr th {\n",
       "        vertical-align: top;\n",
       "    }\n",
       "\n",
       "    .dataframe thead th {\n",
       "        text-align: right;\n",
       "    }\n",
       "</style>\n",
       "<table border=\"1\" class=\"dataframe\">\n",
       "  <thead>\n",
       "    <tr style=\"text-align: right;\">\n",
       "      <th></th>\n",
       "      <th>Year</th>\n",
       "      <th>Population (Million persons)</th>\n",
       "      <th>GDP Chain volume measures (billion baht)</th>\n",
       "      <th>Core Consumer Price Index</th>\n",
       "      <th>Trade balance (Billions of USD)</th>\n",
       "      <th>Total energry generation</th>\n",
       "      <th>Temperature</th>\n",
       "      <th>Rainfall</th>\n",
       "      <th>Exchange rate</th>\n",
       "      <th>Total_Comsumption</th>\n",
       "    </tr>\n",
       "  </thead>\n",
       "  <tbody>\n",
       "    <tr>\n",
       "      <th>0</th>\n",
       "      <td>2022</td>\n",
       "      <td>66.09</td>\n",
       "      <td>10680.0</td>\n",
       "      <td>103.04</td>\n",
       "      <td>36.8</td>\n",
       "      <td>215824</td>\n",
       "      <td>26.30</td>\n",
       "      <td>2011.9</td>\n",
       "      <td>35.07</td>\n",
       "      <td>197256</td>\n",
       "    </tr>\n",
       "    <tr>\n",
       "      <th>1</th>\n",
       "      <td>2021</td>\n",
       "      <td>66.17</td>\n",
       "      <td>10409.9</td>\n",
       "      <td>100.52</td>\n",
       "      <td>32.4</td>\n",
       "      <td>209717</td>\n",
       "      <td>26.91</td>\n",
       "      <td>1759.3</td>\n",
       "      <td>31.98</td>\n",
       "      <td>190468</td>\n",
       "    </tr>\n",
       "    <tr>\n",
       "      <th>2</th>\n",
       "      <td>2020</td>\n",
       "      <td>66.19</td>\n",
       "      <td>10246.5</td>\n",
       "      <td>100.29</td>\n",
       "      <td>40.4</td>\n",
       "      <td>206034</td>\n",
       "      <td>27.43</td>\n",
       "      <td>1527.3</td>\n",
       "      <td>31.30</td>\n",
       "      <td>187046</td>\n",
       "    </tr>\n",
       "    <tr>\n",
       "      <th>3</th>\n",
       "      <td>2019</td>\n",
       "      <td>66.56</td>\n",
       "      <td>10923.3</td>\n",
       "      <td>100.00</td>\n",
       "      <td>26.7</td>\n",
       "      <td>212050</td>\n",
       "      <td>27.52</td>\n",
       "      <td>1343.4</td>\n",
       "      <td>31.05</td>\n",
       "      <td>192960</td>\n",
       "    </tr>\n",
       "    <tr>\n",
       "      <th>4</th>\n",
       "      <td>2018</td>\n",
       "      <td>66.41</td>\n",
       "      <td>10693.2</td>\n",
       "      <td>99.48</td>\n",
       "      <td>22.4</td>\n",
       "      <td>204428</td>\n",
       "      <td>26.92</td>\n",
       "      <td>1660.9</td>\n",
       "      <td>32.31</td>\n",
       "      <td>187832</td>\n",
       "    </tr>\n",
       "  </tbody>\n",
       "</table>\n",
       "</div>"
      ],
      "text/plain": [
       "   Year  Population (Million persons)  \\\n",
       "0  2022                         66.09   \n",
       "1  2021                         66.17   \n",
       "2  2020                         66.19   \n",
       "3  2019                         66.56   \n",
       "4  2018                         66.41   \n",
       "\n",
       "   GDP Chain volume measures (billion baht)  Core Consumer Price Index  \\\n",
       "0                                   10680.0                     103.04   \n",
       "1                                   10409.9                     100.52   \n",
       "2                                   10246.5                     100.29   \n",
       "3                                   10923.3                     100.00   \n",
       "4                                   10693.2                      99.48   \n",
       "\n",
       "   Trade balance (Billions of USD)  Total energry generation  Temperature  \\\n",
       "0                             36.8                    215824        26.30   \n",
       "1                             32.4                    209717        26.91   \n",
       "2                             40.4                    206034        27.43   \n",
       "3                             26.7                    212050        27.52   \n",
       "4                             22.4                    204428        26.92   \n",
       "\n",
       "   Rainfall  Exchange rate  Total_Comsumption  \n",
       "0    2011.9          35.07             197256  \n",
       "1    1759.3          31.98             190468  \n",
       "2    1527.3          31.30             187046  \n",
       "3    1343.4          31.05             192960  \n",
       "4    1660.9          32.31             187832  "
      ]
     },
     "execution_count": 89,
     "metadata": {},
     "output_type": "execute_result"
    }
   ],
   "source": [
    "import pandas as pd\n",
    "df = pd.read_csv('./Joules_of_Siam_Data - Dataset_1.csv')\n",
    "df.head()"
   ]
  },
  {
   "cell_type": "code",
   "execution_count": 90,
   "metadata": {},
   "outputs": [
    {
     "data": {
      "text/plain": [
       "(21, 10)"
      ]
     },
     "execution_count": 90,
     "metadata": {},
     "output_type": "execute_result"
    }
   ],
   "source": [
    "df.shape"
   ]
  },
  {
   "cell_type": "markdown",
   "metadata": {},
   "source": [
    "## 3.Preprocessing"
   ]
  },
  {
   "cell_type": "code",
   "execution_count": 59,
   "metadata": {},
   "outputs": [
    {
     "data": {
      "text/plain": [
       "<AxesSubplot:>"
      ]
     },
     "execution_count": 59,
     "metadata": {},
     "output_type": "execute_result"
    },
    {
     "data": {
      "image/png": "[encoded data removed]",
      "text/plain": [
       "<Figure size 1080x1080 with 2 Axes>"
      ]
     },
     "metadata": {
      "needs_background": "light"
     },
     "output_type": "display_data"
    }
   ],
   "source": [
    "import seaborn as sns\n",
    "import matplotlib.pyplot as plt\n",
    "plt.figure(figsize=(15, 15))\n",
    "sns.heatmap(df.corr(),annot=True)"
   ]
  },
  {
   "cell_type": "code",
   "execution_count": 87,
   "metadata": {},
   "outputs": [
    {
     "data": {
      "text/plain": [
       "Index(['Population (Million persons)',\n",
       "       'GDP Chain volume measures (billion baht)', 'Core Consumer Price Index',\n",
       "       'Trade balance (Billions of USD)', 'Temperature', 'Rainfall',\n",
       "       'Exchange rate', 'Total_Comsumption'],\n",
       "      dtype='object')"
      ]
     },
     "execution_count": 87,
     "metadata": {},
     "output_type": "execute_result"
    }
   ],
   "source": [
    "df.columns"
   ]
  },
  {
   "cell_type": "code",
   "execution_count": 91,
   "metadata": {},
   "outputs": [],
   "source": [
    "df.drop(['Total energry generation','Year'],axis=1,inplace=True)"
   ]
  },
  {
   "cell_type": "code",
   "execution_count": 92,
   "metadata": {},
   "outputs": [
    {
     "data": {
      "text/plain": [
       "(21, 8)"
      ]
     },
     "execution_count": 92,
     "metadata": {},
     "output_type": "execute_result"
    }
   ],
   "source": [
    "df.shape"
   ]
  },
  {
   "cell_type": "code",
   "execution_count": 93,
   "metadata": {},
   "outputs": [],
   "source": [
    "from sklearn.preprocessing import StandardScaler\n",
    "\n",
    "#2. create the object\n",
    "sc = StandardScaler()\n",
    "\n",
    "#3. fit and transform\n",
    "standardized_data = sc.fit_transform(df.iloc[:,:-1])"
   ]
  },
  {
   "attachments": {},
   "cell_type": "markdown",
   "metadata": {},
   "source": [
    "## 4. Modeling"
   ]
  },
  {
   "cell_type": "code",
   "execution_count": 94,
   "metadata": {},
   "outputs": [],
   "source": [
    "from sklearn.model_selection import train_test_split\n",
    "X = standardized_data[:,:]\n",
    "y = df.iloc[:,-1]\n",
    "X_train, X_test, y_train, y_test = train_test_split(X, y, test_size=0.3, random_state=999)"
   ]
  },
  {
   "cell_type": "code",
   "execution_count": 95,
   "metadata": {},
   "outputs": [
    {
     "data": {
      "text/plain": [
       "((14, 7), (7, 7), (14,), (7,))"
      ]
     },
     "execution_count": 95,
     "metadata": {},
     "output_type": "execute_result"
    }
   ],
   "source": [
    "X_train.shape, X_test.shape, y_train.shape, y_test.shape"
   ]
  },
  {
   "cell_type": "code",
   "execution_count": 102,
   "metadata": {},
   "outputs": [
    {
     "data": {
      "text/plain": [
       "0.9951943226009826"
      ]
     },
     "execution_count": 102,
     "metadata": {},
     "output_type": "execute_result"
    }
   ],
   "source": [
    "from sklearn.linear_model import LinearRegression\n",
    "lr = LinearRegression()\n",
    "lr.fit(X_train, y_train)\n",
    "lr.score(X_test, y_test)"
   ]
  },
  {
   "cell_type": "code",
   "execution_count": 101,
   "metadata": {},
   "outputs": [
    {
     "data": {
      "text/plain": [
       "array([189059.32566153, 180703.15942446, 137041.70932151, 127983.95073365,\n",
       "       173459.95037659, 138161.52094803, 188568.8826547 ])"
      ]
     },
     "execution_count": 101,
     "metadata": {},
     "output_type": "execute_result"
    }
   ],
   "source": [
    "lr.predict(X_test)"
   ]
  },
  {
   "attachments": {},
   "cell_type": "markdown",
   "metadata": {},
   "source": [
    "### 4.1 Cross Validation"
   ]
  },
  {
   "cell_type": "code",
   "execution_count": 96,
   "metadata": {},
   "outputs": [
    {
     "name": "stdout",
     "output_type": "stream",
     "text": [
      "[-6463614.167733549]\n"
     ]
    }
   ],
   "source": [
    "#1.import the algorithms\n",
    "#Simple Regreesion\n",
    "from sklearn.linear_model import LinearRegression\n",
    "\n",
    "from sklearn.svm import SVR, SVC\n",
    "from sklearn.naive_bayes import GaussianNB\n",
    "\n",
    "#Ensemble\n",
    "from sklearn.ensemble import AdaBoostRegressor\n",
    "from sklearn.ensemble import RandomForestRegressor\n",
    "from sklearn.ensemble import BaggingRegressor\n",
    "\n",
    "lr  = LinearRegression(n_jobs = -1)\n",
    "# rf  = RandomForestRegressor(n_jobs = -1)\n",
    "# svr = SVR()\n",
    "# gn = GaussianNB()\n",
    "# ada = AdaBoostRegressor()\n",
    "# br = BaggingRegressor()\n",
    "\n",
    "models = [lr]\n",
    "scores = []\n",
    "\n",
    "#import the cross validation function \n",
    "from sklearn.model_selection import cross_val_score\n",
    "from sklearn.model_selection import KFold\n",
    "\n",
    "kf = KFold(n_splits = 10, shuffle=True)\n",
    "\n",
    "#format: cross_val_score(model,xtrain,ytrain,cv=kfold(5),scoring='accuracy')\n",
    "for model in models:\n",
    "    scores.append(\n",
    "        cross_val_score(model, X_train, y_train, cv=kf, \n",
    "                         scoring='neg_mean_squared_error').mean()\n",
    "                  ) #try scoring='r2'\n",
    "\n",
    "print(scores)"
   ]
  },
  {
   "attachments": {},
   "cell_type": "markdown",
   "metadata": {},
   "source": [
    "### 4.2 Grid Search"
   ]
  },
  {
   "cell_type": "code",
   "execution_count": null,
   "metadata": {},
   "outputs": [],
   "source": [
    "#1. import the library\n",
    "from sklearn.model_selection import GridSearchCV\n",
    "\n",
    "param_grid = {\n",
    "    'max_depth' : [5, 10],\n",
    "    'n_estimators' : [5, 6, 7, 8, 9, 10],\n",
    "    'max_features' : ['auto', 'log2'],\n",
    "}\n",
    "\n",
    "#3. define the model you want to search with\n",
    "estimator = #which model the best\n",
    "\n",
    "#4. define the gridsearch object with the search space\n",
    "grid = GridSearchCV(estimator  = estimator,\n",
    "                    param_grid = param_grid,\n",
    "                    cv = 5,  #by default, it uses kfold anyway; 5 here means 5 fold\n",
    "                    n_jobs  = -1,\n",
    "                    refit   = True, #refits means, after 24 loops, it will fit the best version again!, so grid = best model\n",
    "                    scoring = 'neg_mean_squared_error',\n",
    "                    return_train_score=True)\n",
    "\n",
    "#5. run the search\n",
    "grid.fit(X_train, y_train)  #why training set???"
   ]
  },
  {
   "cell_type": "code",
   "execution_count": null,
   "metadata": {},
   "outputs": [],
   "source": [
    "#best parameters\n",
    "print(f\"Best params: {grid.best_params_}\")\n",
    "\n",
    "#best mse (score)\n",
    "print(f\"Best mse: {grid.best_score_}\")\n",
    "\n",
    "#you can retrieve the best model (basically the model trained the best_params_)\n",
    "print(f\"Best estimator: {grid.best_estimator_}\")  "
   ]
  },
  {
   "attachments": {},
   "cell_type": "markdown",
   "metadata": {},
   "source": [
    "## 5. Testing/Inference"
   ]
  },
  {
   "cell_type": "code",
   "execution_count": null,
   "metadata": {},
   "outputs": [],
   "source": [
    "yhat = grid.predict(X_test)"
   ]
  },
  {
   "attachments": {},
   "cell_type": "markdown",
   "metadata": {},
   "source": [
    "## 5.1 Evaluation"
   ]
  },
  {
   "cell_type": "code",
   "execution_count": null,
   "metadata": {},
   "outputs": [],
   "source": [
    "from sklearn.metrics import mean_squared_error\n",
    "from sklearn.metrics import mean_absolute_error\n",
    "import math\n",
    "\n",
    "MSE  = mean_squared_error(y_test, yhat)\n",
    "RMSE = math.sqrt(MSE)\n",
    "MAE  = mean_absolute_error(y_test, yhat)\n",
    "\n",
    "MSE, RMSE, MAE"
   ]
  }
 ],
 "metadata": {
  "kernelspec": {
   "display_name": "Python 3",
   "language": "python",
   "name": "python3"
  },
  "language_info": {
   "codemirror_mode": {
    "name": "ipython",
    "version": 3
   },
   "file_extension": ".py",
   "mimetype": "text/x-python",
   "name": "python",
   "nbconvert_exporter": "python",
   "pygments_lexer": "ipython3",
   "version": "3.10.4"
  },
  "orig_nbformat": 4
 },
 "nbformat": 4,
 "nbformat_minor": 2
}
