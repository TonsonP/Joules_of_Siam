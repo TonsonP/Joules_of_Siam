{
 "cells": [
  {
   "cell_type": "code",
   "execution_count": 2,
   "metadata": {},
   "outputs": [
    {
     "data": {
      "text/html": [
       "<div>\n",
       "<style scoped>\n",
       "    .dataframe tbody tr th:only-of-type {\n",
       "        vertical-align: middle;\n",
       "    }\n",
       "\n",
       "    .dataframe tbody tr th {\n",
       "        vertical-align: top;\n",
       "    }\n",
       "\n",
       "    .dataframe thead th {\n",
       "        text-align: right;\n",
       "    }\n",
       "</style>\n",
       "<table border=\"1\" class=\"dataframe\">\n",
       "  <thead>\n",
       "    <tr style=\"text-align: right;\">\n",
       "      <th></th>\n",
       "      <th>Year</th>\n",
       "      <th>Month</th>\n",
       "      <th>Date</th>\n",
       "      <th>Population</th>\n",
       "      <th>Temperature</th>\n",
       "      <th>CPI</th>\n",
       "      <th>GDP</th>\n",
       "      <th>Peak</th>\n",
       "    </tr>\n",
       "  </thead>\n",
       "  <tbody>\n",
       "    <tr>\n",
       "      <th>0</th>\n",
       "      <td>2022</td>\n",
       "      <td>12</td>\n",
       "      <td>01-12-22</td>\n",
       "      <td>66.090000</td>\n",
       "      <td>26.300000</td>\n",
       "      <td>106.470000</td>\n",
       "      <td>924033.3333</td>\n",
       "      <td>27124.7</td>\n",
       "    </tr>\n",
       "    <tr>\n",
       "      <th>1</th>\n",
       "      <td>2022</td>\n",
       "      <td>11</td>\n",
       "      <td>01-11-22</td>\n",
       "      <td>66.083333</td>\n",
       "      <td>26.249167</td>\n",
       "      <td>106.470000</td>\n",
       "      <td>924033.3333</td>\n",
       "      <td>27832.7</td>\n",
       "    </tr>\n",
       "    <tr>\n",
       "      <th>2</th>\n",
       "      <td>2022</td>\n",
       "      <td>10</td>\n",
       "      <td>01-10-22</td>\n",
       "      <td>66.076667</td>\n",
       "      <td>26.198333</td>\n",
       "      <td>106.470000</td>\n",
       "      <td>924033.3333</td>\n",
       "      <td>27041.9</td>\n",
       "    </tr>\n",
       "    <tr>\n",
       "      <th>3</th>\n",
       "      <td>2022</td>\n",
       "      <td>9</td>\n",
       "      <td>01-09-22</td>\n",
       "      <td>66.070000</td>\n",
       "      <td>26.147500</td>\n",
       "      <td>106.470000</td>\n",
       "      <td>849468.6667</td>\n",
       "      <td>27808.0</td>\n",
       "    </tr>\n",
       "    <tr>\n",
       "      <th>4</th>\n",
       "      <td>2022</td>\n",
       "      <td>8</td>\n",
       "      <td>01-08-22</td>\n",
       "      <td>66.063333</td>\n",
       "      <td>26.096667</td>\n",
       "      <td>108.503333</td>\n",
       "      <td>849468.6667</td>\n",
       "      <td>28951.8</td>\n",
       "    </tr>\n",
       "  </tbody>\n",
       "</table>\n",
       "</div>"
      ],
      "text/plain": [
       "   Year  Month      Date  Population  Temperature         CPI          GDP  \\\n",
       "0  2022     12  01-12-22   66.090000    26.300000  106.470000  924033.3333   \n",
       "1  2022     11  01-11-22   66.083333    26.249167  106.470000  924033.3333   \n",
       "2  2022     10  01-10-22   66.076667    26.198333  106.470000  924033.3333   \n",
       "3  2022      9  01-09-22   66.070000    26.147500  106.470000  849468.6667   \n",
       "4  2022      8  01-08-22   66.063333    26.096667  108.503333  849468.6667   \n",
       "\n",
       "      Peak  \n",
       "0  27124.7  \n",
       "1  27832.7  \n",
       "2  27041.9  \n",
       "3  27808.0  \n",
       "4  28951.8  "
      ]
     },
     "execution_count": 2,
     "metadata": {},
     "output_type": "execute_result"
    }
   ],
   "source": [
    "import pandas as pd\n",
    "import numpy as np\n",
    "import pickle\n",
    "df = pd.read_csv(\"Data/Joules_of_Siam_Data - Dataset_Strech.csv\")\n",
    "df.head()"
   ]
  },
  {
   "cell_type": "code",
   "execution_count": 102,
   "metadata": {},
   "outputs": [
    {
     "data": {
      "text/plain": [
       "array([[6.60900000e+01, 2.63000000e+01, 1.06470000e+02, 9.24033333e+05],\n",
       "       [6.60833333e+01, 2.62491667e+01, 1.06470000e+02, 9.24033333e+05],\n",
       "       [6.60766667e+01, 2.61983333e+01, 1.06470000e+02, 9.24033333e+05],\n",
       "       ...,\n",
       "       [6.31675000e+01, 2.65175000e+01, 7.02333333e+01, 4.80343333e+05],\n",
       "       [6.32083333e+01, 2.64850000e+01, 7.02333333e+01, 4.80343333e+05],\n",
       "       [6.32491667e+01, 2.64525000e+01, 7.02333333e+01, 4.80343333e+05]])"
      ]
     },
     "execution_count": 102,
     "metadata": {},
     "output_type": "execute_result"
    }
   ],
   "source": [
    "df[[\"Population\", \"Temperature\", \"CPI\", \"GDP\"]].values"
   ]
  },
  {
   "cell_type": "code",
   "execution_count": 53,
   "metadata": {},
   "outputs": [],
   "source": [
    "# Function to convert integer to list.\n",
    "def as_list(x):\n",
    "    if type(x) is list:\n",
    "        return x\n",
    "    else:\n",
    "        return [x]\n",
    "    \n",
    "\n",
    "# Function to generated prediction.\n",
    "def assume_predict(value, percent_list, start_date='2023-01', end_date='2033-01'):\n",
    "    \n",
    "    results = list()\n",
    "    temp = list()\n",
    "    temp_val = value\n",
    "\n",
    "    percent_list = as_list(percent_list)\n",
    "\n",
    "    for percent in percent_list:\n",
    "\n",
    "        # Divided % per years to per months\n",
    "\n",
    "        percent_month = percent/12\n",
    "\n",
    "        for current_date in day:\n",
    "            temp_val = temp_val + (temp_val * percent_month/100)\n",
    "            temp.append(temp_val)\n",
    "\n",
    "        \n",
    "        temp_val = value\n",
    "        results.append(temp)\n",
    "        temp = list()\n",
    "    return results"
   ]
  },
  {
   "cell_type": "code",
   "execution_count": 55,
   "metadata": {},
   "outputs": [],
   "source": [
    "temp1 = assume_predict(GDP_value, 2)"
   ]
  },
  {
   "cell_type": "code",
   "execution_count": 94,
   "metadata": {},
   "outputs": [],
   "source": [
    "# Recent values\n",
    "GDP_value = 924033.33\n",
    "Population_value = 66.09\n",
    "CPI_value = 106.47\n",
    "\n",
    "file = open(\"./Data/Dashboard_Data/forecast_temperature.pkl\", \"rb\")\n",
    "forecast_temperature = pickle.load(file)"
   ]
  },
  {
   "cell_type": "code",
   "execution_count": 98,
   "metadata": {},
   "outputs": [
    {
     "data": {
      "text/plain": [
       "(120,)"
      ]
     },
     "execution_count": 98,
     "metadata": {},
     "output_type": "execute_result"
    }
   ],
   "source": [
    "forecast_temperature[0:120].shape"
   ]
  },
  {
   "cell_type": "code",
   "execution_count": 72,
   "metadata": {},
   "outputs": [],
   "source": [
    "def prepare_data(GDP_percent=2, Population_percent=0.05, CPI_percent=2, start_date='2023-01', end_date='2033-01'):\n",
    "    \n",
    "    start_date = np.array(start_date, dtype='datetime64[M]')\n",
    "    end_date   = np.array(end_date, dtype='datetime64[M]')\n",
    "\n",
    "    date_delta = end_date - start_date\n",
    "\n",
    "    if date_delta.astype(int) < 0:\n",
    "        raise ValueError('Invalid start_date/end_date')\n",
    "    \n",
    "    # Get Date, Month, Year values\n",
    "    date = np.arange(start_date, end_date, dtype='datetime64[M]') #.astype('datetime64[D]')\n",
    "    months = date.astype('datetime64[M]').astype(int) % 12 + 1\n",
    "    year = date.astype('datetime64[Y]').astype(int) + 1970\n",
    "\n",
    "    date = date.astype(str).tolist()\n",
    "\n",
    "    # Get Assume values\n",
    "    GDP_forecast = assume_predict(GDP_value, GDP_percent, start_date, end_date)\n",
    "    Population_forecast = assume_predict(Population_value, Population_percent, start_date, end_date)\n",
    "    CPI_forecast = assume_predict(CPI_value, CPI_percent, start_date, end_date)\n",
    "\n",
    "    # Get Static values\n",
    "    file = open(\"./Data/Dashboard_Data/forecast_temperature.pkl\", \"rb\")\n",
    "    temperature_value = pickle.load(file)\n",
    "\n",
    "    # Create DataFrame\n",
    "\n",
    "    features_dataframe = pd.DataFrame([date, year, months, Population_forecast[0], temperature_value, \n",
    "                         CPI_forecast[0], GDP_forecast[0]]).T\n",
    "    features_dataframe.columns = [\"Date\", \"Year\", \"Month\", \"Population\", \"Temperature\", \n",
    "                                  \"CPI\", \"GDP\"]\n",
    "    \n",
    "    \n",
    "    return features_dataframe\n",
    "    "
   ]
  },
  {
   "cell_type": "code",
   "execution_count": 77,
   "metadata": {},
   "outputs": [],
   "source": [
    "features = prepare_data(GDP_percent=2)"
   ]
  },
  {
   "cell_type": "code",
   "execution_count": 80,
   "metadata": {},
   "outputs": [],
   "source": [
    "from xgboost import XGBRegressor\n",
    "XGBoost_model = XGBRegressor()\n"
   ]
  },
  {
   "cell_type": "code",
   "execution_count": 39,
   "metadata": {},
   "outputs": [],
   "source": [
    "from xgboost import XGBRegressor\n",
    "from sklearn.neural_network import MLPRegressor\n",
    "import numpy as np\n",
    "import pandas as pd\n",
    "import pickle\n",
    "\n",
    "class forecasting():\n",
    "\n",
    "    def __init__(self, \n",
    "                 GDP_percent=2, \n",
    "                 Population_percent=0.05, \n",
    "                 CPI_percent=2,\n",
    "                 Start_date = '2023-01',\n",
    "                 End_date = '2033-01'\n",
    "                 ):\n",
    "        \n",
    "        # Check date eligibility\n",
    "        self.Check_date_eligibility(Start_date, End_date)\n",
    "\n",
    "        # Get Static temperature values\n",
    "        file = open(\"./Data/Dashboard_Data/forecast_temperature.pkl\", \"rb\")\n",
    "        Temperature_forecast = pickle.load(file)\n",
    "        self.Temperature_forecast = Temperature_forecast[0:len(self.Date)]\n",
    "\n",
    "        # Get forecasted LSTM values\n",
    "        LSTM_forecast = pickle.load(open(\"./Data/Dashboard_Data/forecast_LSTM.pkl\", \"rb\"))\n",
    "        self.LSTM_forecast = LSTM_forecast[0:len(self.Date)]\n",
    "\n",
    "        # Get forecasted ARIMA values\n",
    "        ARIMA_forecast = pickle.load(open(\"./Data/Dashboard_Data/forecast_ARIMA.pkl\", \"rb\"))\n",
    "        self.ARIMA_forecast = ARIMA_forecast[0:len(self.Date)]\n",
    "\n",
    "        # Initial values for generating features\n",
    "        self.GDP_value = 924033.33\n",
    "        self.Population_value = 66.09\n",
    "        self.CPI_value = 106.47\n",
    "\n",
    "        # Initial percentages\n",
    "        self.GDP_percent = GDP_percent\n",
    "        self.Population_percent = Population_percent\n",
    "        self.CPI_percent = CPI_percent\n",
    "\n",
    "        # Initial XGBoost model\n",
    "        self.XGBoost_model = XGBRegressor()\n",
    "        self.XGBoost_model.load_model(\"./Models/XGBoost_model.json\")\n",
    "\n",
    "        # Initial ANN model\n",
    "        self.ANN_scaler = pickle.load(open('./Data/monthly_scaler.pkl', 'rb'))\n",
    "        self.ANN_model = pickle.load(open('./Data/ANN_monthly.pkl', 'rb'))\n",
    "\n",
    "        # Prepare data\n",
    "        self.prepare_data()\n",
    "\n",
    "        # Prediction\n",
    "        self.get_prediction()\n",
    "\n",
    "        # Ploting Data\n",
    "        self.plotting_data()\n",
    "    \n",
    "    def Check_date_eligibility(self, start_date, end_date):\n",
    "        \n",
    "        start_date = np.array(start_date, dtype='datetime64[M]')\n",
    "        end_date   = np.array(end_date, dtype='datetime64[M]')\n",
    "\n",
    "        date_delta = end_date - start_date\n",
    "\n",
    "        if date_delta.astype(int) < 0:\n",
    "            raise ValueError('Invalid start_date/end_date')\n",
    "        else:\n",
    "            self.Start_date = start_date\n",
    "            self.End_date   = end_date\n",
    "            Date        = np.arange(start_date, end_date, dtype='datetime64[M]')\n",
    "            self.months = Date.astype('datetime64[M]').astype(int) % 12 + 1\n",
    "            self.years  = Date.astype('datetime64[Y]').astype(int) + 1970\n",
    "            self.Date   = Date.astype(str).tolist()\n",
    "\n",
    "    # Function to convert integer to list.\n",
    "    def as_list(self, x):\n",
    "        if type(x) is list:\n",
    "            return x\n",
    "        else:\n",
    "            return [x]\n",
    "    \n",
    "\n",
    "    # Function to generated prediction.\n",
    "    def assume_predict(self, value, percent_list):\n",
    "        \n",
    "        results = list()\n",
    "        temp = list()\n",
    "        temp_val = value\n",
    "\n",
    "        percent_list = self.as_list(percent_list)\n",
    "\n",
    "        for percent in percent_list:\n",
    "\n",
    "            # Divided % per years to per months\n",
    "\n",
    "            percent_month = percent/12\n",
    "\n",
    "            for current_date in self.Date:\n",
    "                temp_val = temp_val + (temp_val * percent_month/100)\n",
    "                temp.append(temp_val)\n",
    "\n",
    "            temp_val = value\n",
    "            results.append(temp)\n",
    "            temp = list()\n",
    "        return results[0]\n",
    "    \n",
    "    def prepare_data(self):\n",
    "\n",
    "        # Get Assume values\n",
    "        GDP_forecast = self.assume_predict(self.GDP_value, self.GDP_percent)\n",
    "        Population_forecast = self.assume_predict(self.Population_value, self.Population_percent)\n",
    "        CPI_forecast = self.assume_predict(self.CPI_value, self.CPI_percent)\n",
    "\n",
    "        # Create DataFrame/features for XGBoost\n",
    "        features_dataframe = pd.DataFrame([self.Date, self.years, self.months, \n",
    "                                           Population_forecast, self.Temperature_forecast, \n",
    "                                            CPI_forecast, GDP_forecast]).T\n",
    "        features_dataframe.columns = [\"Date\", \"Year\", \"Month\", \"Population\", \"Temperature\", \n",
    "                                    \"CPI\", \"GDP\"]\n",
    "        \n",
    "        # Convert DataFrame types\n",
    "        features_dataframe['Date']= pd.to_datetime(features_dataframe['Date'])\n",
    "        features_dataframe['Year']= features_dataframe['Date'].dt.year\n",
    "        features_dataframe['Month']= features_dataframe['Date'].dt.month\n",
    "        \n",
    "        features_dataframe[[\"Population\", \"Temperature\", \"CPI\", \"GDP\"]] = \\\n",
    "        features_dataframe[[\"Population\", \"Temperature\", \"CPI\", \"GDP\"]].astype(float)\n",
    "\n",
    "        \n",
    "        features_dataframe.set_index(\"Date\", inplace=True)\n",
    "        \n",
    "        self.XGBoost_features = features_dataframe\n",
    "\n",
    "        # Create features for ANN\n",
    "        self.ANN_features = features_dataframe[[\"Population\", \"Temperature\", \"CPI\", \"GDP\"]].values\n",
    "\n",
    "    def get_prediction(self):\n",
    "        \n",
    "        # XG_Boost prediction\n",
    "        self.XGBoost_prediction = self.XGBoost_model.predict(self.XGBoost_features)\n",
    "        \n",
    "        # ANN prediction\n",
    "        self.ANN_prediction     = self.ANN_model.predict(self.ANN_scaler.transform(self.ANN_features))\n",
    "\n",
    "    def plotting_data(self):\n",
    "        \n",
    "        self.plotting_value = pd.DataFrame([self.Date, self.LSTM_forecast, self.XGBoost_prediction, self.ANN_prediction, self.ARIMA_forecast]).T\n",
    "        # self.energy_reserve_20 = 42909.9#self.LSTM_forecast.mean() * 1.20\n",
    "        # self.energy_reserve_35 = 49144.8#self.LSTM_forecast.mean() * 1.35\n",
    "        # self.energy_reserve_50 = self.LSTM_forecast.mean() * 1.50\n",
    "        self.plotting_value.columns = [\"Date\", \"LSTM\", \"XGBoost\", \"ANN\", \"ARIMA\"]\n",
    "        self.plotting_value[\"ANN\"] = self.plotting_value[\"ANN\"].abs()\n",
    "\n",
    "        # Convert Datatype\n",
    "        #self.plotting_value[\"Date\"] = pd.to_datetime(df['Date'])\n",
    "        self.plotting_value[[\"LSTM\", \"XGBoost\", \"ANN\", \"ARIMA\"]] = \\\n",
    "        self.plotting_value[[\"LSTM\", \"XGBoost\", \"ANN\", \"ARIMA\"]].astype(float)\n",
    "\n",
    "        # Insert current maximum capacity.\n",
    "        self.plotting_value.insert(loc=len(self.plotting_value.columns), \n",
    "                                   column=\"Maximum_capacity\",\n",
    "                                   value= 49144.80\n",
    "                                   )\n",
    "        \n",
    "        self.plotting_value.insert(loc=len(self.plotting_value.columns), \n",
    "                                   column=\"Maximum_capacity_wo_import\",\n",
    "                                   value= 42909.9\n",
    "                                   )\n"
   ]
  },
  {
   "cell_type": "code",
   "execution_count": 40,
   "metadata": {},
   "outputs": [
    {
     "name": "stderr",
     "output_type": "stream",
     "text": [
      "/usr/local/lib/python3.10/dist-packages/sklearn/base.py:329: UserWarning:\n",
      "\n",
      "Trying to unpickle estimator StandardScaler from version 1.2.2 when using version 1.1.3. This might lead to breaking code or invalid results. Use at your own risk. For more info please refer to:\n",
      "https://scikit-learn.org/stable/model_persistence.html#security-maintainability-limitations\n",
      "\n",
      "/usr/local/lib/python3.10/dist-packages/sklearn/base.py:329: UserWarning:\n",
      "\n",
      "Trying to unpickle estimator MLPRegressor from version 1.2.2 when using version 1.1.3. This might lead to breaking code or invalid results. Use at your own risk. For more info please refer to:\n",
      "https://scikit-learn.org/stable/model_persistence.html#security-maintainability-limitations\n",
      "\n"
     ]
    },
    {
     "data": {
      "text/html": [
       "<div>\n",
       "<style scoped>\n",
       "    .dataframe tbody tr th:only-of-type {\n",
       "        vertical-align: middle;\n",
       "    }\n",
       "\n",
       "    .dataframe tbody tr th {\n",
       "        vertical-align: top;\n",
       "    }\n",
       "\n",
       "    .dataframe thead th {\n",
       "        text-align: right;\n",
       "    }\n",
       "</style>\n",
       "<table border=\"1\" class=\"dataframe\">\n",
       "  <thead>\n",
       "    <tr style=\"text-align: right;\">\n",
       "      <th></th>\n",
       "      <th>Date</th>\n",
       "      <th>LSTM</th>\n",
       "      <th>XGBoost</th>\n",
       "      <th>ANN</th>\n",
       "      <th>ARIMA</th>\n",
       "      <th>Maximum_capacity</th>\n",
       "      <th>Maximum_capacity_wo_import</th>\n",
       "    </tr>\n",
       "  </thead>\n",
       "  <tbody>\n",
       "    <tr>\n",
       "      <th>0</th>\n",
       "      <td>2023-01</td>\n",
       "      <td>27183.696971</td>\n",
       "      <td>26686.539062</td>\n",
       "      <td>35381.756446</td>\n",
       "      <td>26352.073378</td>\n",
       "      <td>49144.8</td>\n",
       "      <td>42909.9</td>\n",
       "    </tr>\n",
       "    <tr>\n",
       "      <th>1</th>\n",
       "      <td>2023-02</td>\n",
       "      <td>28179.928109</td>\n",
       "      <td>25581.234375</td>\n",
       "      <td>26916.049887</td>\n",
       "      <td>27158.150121</td>\n",
       "      <td>49144.8</td>\n",
       "      <td>42909.9</td>\n",
       "    </tr>\n",
       "    <tr>\n",
       "      <th>2</th>\n",
       "      <td>2023-03</td>\n",
       "      <td>29374.607276</td>\n",
       "      <td>26586.275391</td>\n",
       "      <td>33862.316348</td>\n",
       "      <td>28406.045239</td>\n",
       "      <td>49144.8</td>\n",
       "      <td>42909.9</td>\n",
       "    </tr>\n",
       "    <tr>\n",
       "      <th>3</th>\n",
       "      <td>2023-04</td>\n",
       "      <td>31313.368093</td>\n",
       "      <td>26659.753906</td>\n",
       "      <td>36244.405549</td>\n",
       "      <td>29210.645741</td>\n",
       "      <td>49144.8</td>\n",
       "      <td>42909.9</td>\n",
       "    </tr>\n",
       "    <tr>\n",
       "      <th>4</th>\n",
       "      <td>2023-05</td>\n",
       "      <td>29411.088627</td>\n",
       "      <td>26550.347656</td>\n",
       "      <td>34979.038026</td>\n",
       "      <td>29151.761566</td>\n",
       "      <td>49144.8</td>\n",
       "      <td>42909.9</td>\n",
       "    </tr>\n",
       "  </tbody>\n",
       "</table>\n",
       "</div>"
      ],
      "text/plain": [
       "      Date          LSTM       XGBoost           ANN         ARIMA  \\\n",
       "0  2023-01  27183.696971  26686.539062  35381.756446  26352.073378   \n",
       "1  2023-02  28179.928109  25581.234375  26916.049887  27158.150121   \n",
       "2  2023-03  29374.607276  26586.275391  33862.316348  28406.045239   \n",
       "3  2023-04  31313.368093  26659.753906  36244.405549  29210.645741   \n",
       "4  2023-05  29411.088627  26550.347656  34979.038026  29151.761566   \n",
       "\n",
       "   Maximum_capacity  Maximum_capacity_wo_import  \n",
       "0           49144.8                     42909.9  \n",
       "1           49144.8                     42909.9  \n",
       "2           49144.8                     42909.9  \n",
       "3           49144.8                     42909.9  \n",
       "4           49144.8                     42909.9  "
      ]
     },
     "execution_count": 40,
     "metadata": {},
     "output_type": "execute_result"
    }
   ],
   "source": [
    "test2 = forecasting()\n",
    "test2.plotting_value.head()"
   ]
  },
  {
   "cell_type": "code",
   "execution_count": 41,
   "metadata": {},
   "outputs": [
    {
     "name": "stdout",
     "output_type": "stream",
     "text": [
      "<class 'pandas.core.frame.DataFrame'>\n",
      "RangeIndex: 120 entries, 0 to 119\n",
      "Data columns (total 7 columns):\n",
      " #   Column                      Non-Null Count  Dtype  \n",
      "---  ------                      --------------  -----  \n",
      " 0   Date                        120 non-null    object \n",
      " 1   LSTM                        120 non-null    float64\n",
      " 2   XGBoost                     120 non-null    float64\n",
      " 3   ANN                         120 non-null    float64\n",
      " 4   ARIMA                       120 non-null    float64\n",
      " 5   Maximum_capacity            120 non-null    float64\n",
      " 6   Maximum_capacity_wo_import  120 non-null    float64\n",
      "dtypes: float64(6), object(1)\n",
      "memory usage: 6.7+ KB\n"
     ]
    }
   ],
   "source": [
    "test2.plotting_value.info()"
   ]
  },
  {
   "cell_type": "code",
   "execution_count": 42,
   "metadata": {},
   "outputs": [
    {
     "data": {
      "application/vnd.plotly.v1+json": {
       "config": {
        "plotlyServerURL": "https://plot.ly"
       },
       "data": [
        {
         "hovertemplate": "variable=LSTM<br>Date=%{x}<br>value=%{y}<extra></extra>",
         "legendgroup": "LSTM",
         "line": {
          "color": "#636efa",
          "dash": "solid"
         },
         "marker": {
          "symbol": "circle"
         },
         "mode": "lines",
         "name": "LSTM",
         "orientation": "v",
         "showlegend": true,
         "type": "scatter",
         "x": [
          "2023-01",
          "2023-02",
          "2023-03",
          "2023-04",
          "2023-05",
          "2023-06",
          "2023-07",
          "2023-08",
          "2023-09",
          "2023-10",
          "2023-11",
          "2023-12",
          "2024-01",
          "2024-02",
          "2024-03",
          "2024-04",
          "2024-05",
          "2024-06",
          "2024-07",
          "2024-08",
          "2024-09",
          "2024-10",
          "2024-11",
          "2024-12",
          "2025-01",
          "2025-02",
          "2025-03",
          "2025-04",
          "2025-05",
          "2025-06",
          "2025-07",
          "2025-08",
          "2025-09",
          "2025-10",
          "2025-11",
          "2025-12",
          "2026-01",
          "2026-02",
          "2026-03",
          "2026-04",
          "2026-05",
          "2026-06",
          "2026-07",
          "2026-08",
          "2026-09",
          "2026-10",
          "2026-11",
          "2026-12",
          "2027-01",
          "2027-02",
          "2027-03",
          "2027-04",
          "2027-05",
          "2027-06",
          "2027-07",
          "2027-08",
          "2027-09",
          "2027-10",
          "2027-11",
          "2027-12",
          "2028-01",
          "2028-02",
          "2028-03",
          "2028-04",
          "2028-05",
          "2028-06",
          "2028-07",
          "2028-08",
          "2028-09",
          "2028-10",
          "2028-11",
          "2028-12",
          "2029-01",
          "2029-02",
          "2029-03",
          "2029-04",
          "2029-05",
          "2029-06",
          "2029-07",
          "2029-08",
          "2029-09",
          "2029-10",
          "2029-11",
          "2029-12",
          "2030-01",
          "2030-02",
          "2030-03",
          "2030-04",
          "2030-05",
          "2030-06",
          "2030-07",
          "2030-08",
          "2030-09",
          "2030-10",
          "2030-11",
          "2030-12",
          "2031-01",
          "2031-02",
          "2031-03",
          "2031-04",
          "2031-05",
          "2031-06",
          "2031-07",
          "2031-08",
          "2031-09",
          "2031-10",
          "2031-11",
          "2031-12",
          "2032-01",
          "2032-02",
          "2032-03",
          "2032-04",
          "2032-05",
          "2032-06",
          "2032-07",
          "2032-08",
          "2032-09",
          "2032-10",
          "2032-11",
          "2032-12"
         ],
         "xaxis": "x",
         "y": [
          27183.69697073102,
          28179.928109288216,
          29374.607276201248,
          31313.368093431,
          29411.088626921177,
          29271.14681762457,
          29055.82027566433,
          28168.946405529976,
          27368.04488396645,
          27284.19385701418,
          27837.78335827589,
          26435.26136186719,
          26933.76613906026,
          27937.850546360016,
          30238.047427117825,
          30219.98955154419,
          29043.4605833292,
          29313.866573750973,
          28742.67026132345,
          27911.848134040836,
          27460.16252347827,
          27977.63917517662,
          27157.340828955173,
          26345.050326764584,
          27388.93839836121,
          28044.8567404747,
          29904.00495350361,
          29214.517923355103,
          28967.42536830902,
          28645.48408228159,
          28181.370987832543,
          27672.31473264098,
          27508.39819061756,
          27250.96201649308,
          25946.11208254099,
          26595.813121676445,
          27008.08678176999,
          27731.27201610804,
          28279.16913729906,
          27820.46142989397,
          28247.064957797527,
          27744.1194383204,
          27361.55430454016,
          27682.789186775684,
          27873.24704438448,
          27006.249024033543,
          26302.451118260626,
          26313.166403859854,
          26598.106691867117,
          28487.67273658514,
          29489.13490337133,
          29318.3999029398,
          29008.928569436077,
          28623.111287653446,
          28228.86569595337,
          27531.21519136429,
          27503.510340631008,
          27997.23647290468,
          26596.207737088203,
          26493.74067533016,
          27325.230958253145,
          27494.79820305109,
          29002.317706167694,
          28661.80892091989,
          28805.563411474228,
          27555.883666425943,
          27172.647739201784,
          27544.08556246757,
          27445.57995408773,
          27078.027351677418,
          26453.65608495474,
          26063.33396226168,
          26440.233885347843,
          28528.22052526474,
          30574.999925613403,
          30369.575170636177,
          29876.152913331985,
          29677.19183218479,
          29046.877066493034,
          27749.5730971694,
          27654.498216092587,
          28488.18974608183,
          26592.50426089764,
          26425.02984943986,
          27736.833033561707,
          27638.168629407883,
          29443.341050982475,
          28866.43336629868,
          28854.117989063263,
          27674.59907051921,
          27437.08754554391,
          27592.53805705905,
          27294.52507841587,
          27188.77052208781,
          26312.36583048105,
          26191.15374532342,
          26708.178277492523,
          28524.47537177801,
          30345.67561531067,
          29918.47805404663,
          29442.20310252905,
          28966.61714529991,
          28505.333358943462,
          27638.16467270255,
          27617.189122617245,
          28187.52392840385,
          26238.84760761261,
          26466.31965225935,
          27723.978489279747,
          29269.92023897171,
          31384.72964811325,
          29418.97196662426,
          29462.25621271133,
          29207.491869807243,
          28651.979937314987,
          27657.005712151527,
          27194.70320606232,
          27968.78617888689,
          27016.41063466668,
          27081.958734095097
         ],
         "yaxis": "y"
        },
        {
         "hovertemplate": "variable=XGBoost<br>Date=%{x}<br>value=%{y}<extra></extra>",
         "legendgroup": "XGBoost",
         "line": {
          "color": "#EF553B",
          "dash": "solid"
         },
         "marker": {
          "symbol": "circle"
         },
         "mode": "lines",
         "name": "XGBoost",
         "orientation": "v",
         "showlegend": true,
         "type": "scatter",
         "x": [
          "2023-01",
          "2023-02",
          "2023-03",
          "2023-04",
          "2023-05",
          "2023-06",
          "2023-07",
          "2023-08",
          "2023-09",
          "2023-10",
          "2023-11",
          "2023-12",
          "2024-01",
          "2024-02",
          "2024-03",
          "2024-04",
          "2024-05",
          "2024-06",
          "2024-07",
          "2024-08",
          "2024-09",
          "2024-10",
          "2024-11",
          "2024-12",
          "2025-01",
          "2025-02",
          "2025-03",
          "2025-04",
          "2025-05",
          "2025-06",
          "2025-07",
          "2025-08",
          "2025-09",
          "2025-10",
          "2025-11",
          "2025-12",
          "2026-01",
          "2026-02",
          "2026-03",
          "2026-04",
          "2026-05",
          "2026-06",
          "2026-07",
          "2026-08",
          "2026-09",
          "2026-10",
          "2026-11",
          "2026-12",
          "2027-01",
          "2027-02",
          "2027-03",
          "2027-04",
          "2027-05",
          "2027-06",
          "2027-07",
          "2027-08",
          "2027-09",
          "2027-10",
          "2027-11",
          "2027-12",
          "2028-01",
          "2028-02",
          "2028-03",
          "2028-04",
          "2028-05",
          "2028-06",
          "2028-07",
          "2028-08",
          "2028-09",
          "2028-10",
          "2028-11",
          "2028-12",
          "2029-01",
          "2029-02",
          "2029-03",
          "2029-04",
          "2029-05",
          "2029-06",
          "2029-07",
          "2029-08",
          "2029-09",
          "2029-10",
          "2029-11",
          "2029-12",
          "2030-01",
          "2030-02",
          "2030-03",
          "2030-04",
          "2030-05",
          "2030-06",
          "2030-07",
          "2030-08",
          "2030-09",
          "2030-10",
          "2030-11",
          "2030-12",
          "2031-01",
          "2031-02",
          "2031-03",
          "2031-04",
          "2031-05",
          "2031-06",
          "2031-07",
          "2031-08",
          "2031-09",
          "2031-10",
          "2031-11",
          "2031-12",
          "2032-01",
          "2032-02",
          "2032-03",
          "2032-04",
          "2032-05",
          "2032-06",
          "2032-07",
          "2032-08",
          "2032-09",
          "2032-10",
          "2032-11",
          "2032-12"
         ],
         "xaxis": "x",
         "y": [
          26686.5390625,
          25581.234375,
          26586.275390625,
          26659.75390625,
          26550.34765625,
          26573.09375,
          26573.09375,
          26477.12109375,
          26529.541015625,
          26676.919921875,
          26571.978515625,
          26489.142578125,
          26470.556640625,
          26469.142578125,
          26469.142578125,
          26476.060546875,
          26476.060546875,
          26594.974609375,
          26554.8046875,
          26575.32421875,
          26581.990234375,
          26635.83984375,
          26616.693359375,
          26545.0546875,
          27062.416015625,
          27062.416015625,
          27070.029296875,
          27069.306640625,
          26846.896484375,
          26632.765625,
          26598.779296875,
          26557.79296875,
          26966.654296875,
          26639.67578125,
          26805.42578125,
          26695.576171875,
          26690.203125,
          26652.7109375,
          26652.7109375,
          26651.1875,
          26675.572265625,
          26675.572265625,
          26675.572265625,
          26675.572265625,
          26664.8125,
          26664.8125,
          26662.728515625,
          26709.912109375,
          25541.6953125,
          25485.123046875,
          25515.3515625,
          26681.677734375,
          26444.037109375,
          26421.98046875,
          26368.740234375,
          26558.52734375,
          26809.1328125,
          26661.45703125,
          26718.650390625,
          26709.759765625,
          26622.759765625,
          26770.22265625,
          26647.400390625,
          26626.416015625,
          26626.416015625,
          26626.416015625,
          26560.375,
          26649.712890625,
          26530.5546875,
          26510.69921875,
          26510.69921875,
          26555.03125,
          26095.83203125,
          26630.17578125,
          26766.828125,
          26971.6953125,
          26991.63671875,
          26770.962890625,
          26539.359375,
          26603.345703125,
          26614.1796875,
          26680.40625,
          26897.767578125,
          26421.046875,
          26631.6484375,
          26647.044921875,
          26631.6484375,
          26713.173828125,
          26713.173828125,
          26713.173828125,
          26713.173828125,
          26758.328125,
          26758.328125,
          26761.212890625,
          26771.345703125,
          26784.599609375,
          27021.92578125,
          25756.5078125,
          26898.05078125,
          27083.224609375,
          26922.73828125,
          26914.5234375,
          27028.447265625,
          26806.9609375,
          26829.314453125,
          26803.8671875,
          26831.822265625,
          26737.615234375,
          26739.04296875,
          26739.04296875,
          26737.615234375,
          26714.90625,
          26714.90625,
          26848.765625,
          26818.595703125,
          26677.9375,
          26677.9375,
          26820.8203125,
          26808.263671875,
          26798.755859375
         ],
         "yaxis": "y"
        },
        {
         "hovertemplate": "variable=ANN<br>Date=%{x}<br>value=%{y}<extra></extra>",
         "legendgroup": "ANN",
         "line": {
          "color": "#00cc96",
          "dash": "solid"
         },
         "marker": {
          "symbol": "circle"
         },
         "mode": "lines",
         "name": "ANN",
         "orientation": "v",
         "showlegend": true,
         "type": "scatter",
         "x": [
          "2023-01",
          "2023-02",
          "2023-03",
          "2023-04",
          "2023-05",
          "2023-06",
          "2023-07",
          "2023-08",
          "2023-09",
          "2023-10",
          "2023-11",
          "2023-12",
          "2024-01",
          "2024-02",
          "2024-03",
          "2024-04",
          "2024-05",
          "2024-06",
          "2024-07",
          "2024-08",
          "2024-09",
          "2024-10",
          "2024-11",
          "2024-12",
          "2025-01",
          "2025-02",
          "2025-03",
          "2025-04",
          "2025-05",
          "2025-06",
          "2025-07",
          "2025-08",
          "2025-09",
          "2025-10",
          "2025-11",
          "2025-12",
          "2026-01",
          "2026-02",
          "2026-03",
          "2026-04",
          "2026-05",
          "2026-06",
          "2026-07",
          "2026-08",
          "2026-09",
          "2026-10",
          "2026-11",
          "2026-12",
          "2027-01",
          "2027-02",
          "2027-03",
          "2027-04",
          "2027-05",
          "2027-06",
          "2027-07",
          "2027-08",
          "2027-09",
          "2027-10",
          "2027-11",
          "2027-12",
          "2028-01",
          "2028-02",
          "2028-03",
          "2028-04",
          "2028-05",
          "2028-06",
          "2028-07",
          "2028-08",
          "2028-09",
          "2028-10",
          "2028-11",
          "2028-12",
          "2029-01",
          "2029-02",
          "2029-03",
          "2029-04",
          "2029-05",
          "2029-06",
          "2029-07",
          "2029-08",
          "2029-09",
          "2029-10",
          "2029-11",
          "2029-12",
          "2030-01",
          "2030-02",
          "2030-03",
          "2030-04",
          "2030-05",
          "2030-06",
          "2030-07",
          "2030-08",
          "2030-09",
          "2030-10",
          "2030-11",
          "2030-12",
          "2031-01",
          "2031-02",
          "2031-03",
          "2031-04",
          "2031-05",
          "2031-06",
          "2031-07",
          "2031-08",
          "2031-09",
          "2031-10",
          "2031-11",
          "2031-12",
          "2032-01",
          "2032-02",
          "2032-03",
          "2032-04",
          "2032-05",
          "2032-06",
          "2032-07",
          "2032-08",
          "2032-09",
          "2032-10",
          "2032-11",
          "2032-12"
         ],
         "xaxis": "x",
         "y": [
          35381.756446289946,
          26916.04988693496,
          33862.316348241024,
          36244.40554855406,
          34979.038025614704,
          35325.341348643575,
          35530.081316203374,
          34945.43051341007,
          33404.207705377514,
          31501.63586255805,
          29876.10830497655,
          28788.647684074673,
          28535.63249139395,
          28842.672206940017,
          29326.994144096378,
          29665.507798219875,
          29977.681080531165,
          30258.56093438584,
          30503.174469948488,
          30696.045083025452,
          30846.651780238008,
          30990.826673045955,
          31131.002112620972,
          31145.285428162704,
          38757.82537868642,
          38783.07114238493,
          39890.23036186285,
          41162.79848662621,
          41179.18242573331,
          40325.41836999252,
          38900.40452799288,
          38830.30443323836,
          39497.61655320524,
          40120.788249609905,
          40832.65148834644,
          39331.75918520919,
          35985.9327520926,
          37931.56638838737,
          38016.65176182298,
          38146.860200077936,
          38146.31963360198,
          38323.755753797785,
          38600.65334134665,
          38887.23933451927,
          39149.97890183778,
          39413.85192083931,
          39726.051473721134,
          40264.29155845923,
          39159.56076147998,
          37696.51004931284,
          40713.09676045242,
          45613.66597505438,
          44142.93909422844,
          43840.174924175415,
          43978.76834004118,
          43628.385247441256,
          42512.157425275815,
          40975.16973336268,
          39746.27257914617,
          39154.965914505185,
          39034.47836061535,
          39104.682095054704,
          39251.058670234735,
          39454.50413731596,
          39706.25958086047,
          39997.77210577921,
          40305.33500516208,
          40578.8174298158,
          40777.36715506649,
          40969.7553122284,
          41283.240751923775,
          41577.83751348579,
          44951.01998157057,
          46987.35396540005,
          46413.511110347434,
          45739.22379029363,
          45197.52865305796,
          45878.98385453559,
          46768.22739045054,
          47296.52043293536,
          47821.99738713825,
          48156.93414638325,
          48462.89982085905,
          46837.6381446467,
          41591.088074158135,
          41347.968799125534,
          41502.22835804173,
          41890.987695974225,
          42113.85602919714,
          42335.536556925406,
          42631.50739321798,
          42962.102376651805,
          43282.26316379086,
          43612.74790425078,
          44012.0996213607,
          44620.06063199762,
          53902.71905078988,
          52193.84143167464,
          53818.92966736664,
          56469.78540476441,
          58090.00120214438,
          58564.57633022995,
          58694.48747481774,
          57941.93625982913,
          55778.82758570545,
          53266.15607099604,
          52324.38503762781,
          51970.721167692485,
          52110.73606112176,
          52478.727785815885,
          52926.60994341606,
          53376.312738305816,
          53801.355148404175,
          54200.14131476809,
          54572.55490134751,
          54913.59929409651,
          55228.56503208965,
          55525.25122341628,
          55806.612907518065,
          56010.465493922646
         ],
         "yaxis": "y"
        },
        {
         "hovertemplate": "variable=ARIMA<br>Date=%{x}<br>value=%{y}<extra></extra>",
         "legendgroup": "ARIMA",
         "line": {
          "color": "#ab63fa",
          "dash": "solid"
         },
         "marker": {
          "symbol": "circle"
         },
         "mode": "lines",
         "name": "ARIMA",
         "orientation": "v",
         "showlegend": true,
         "type": "scatter",
         "x": [
          "2023-01",
          "2023-02",
          "2023-03",
          "2023-04",
          "2023-05",
          "2023-06",
          "2023-07",
          "2023-08",
          "2023-09",
          "2023-10",
          "2023-11",
          "2023-12",
          "2024-01",
          "2024-02",
          "2024-03",
          "2024-04",
          "2024-05",
          "2024-06",
          "2024-07",
          "2024-08",
          "2024-09",
          "2024-10",
          "2024-11",
          "2024-12",
          "2025-01",
          "2025-02",
          "2025-03",
          "2025-04",
          "2025-05",
          "2025-06",
          "2025-07",
          "2025-08",
          "2025-09",
          "2025-10",
          "2025-11",
          "2025-12",
          "2026-01",
          "2026-02",
          "2026-03",
          "2026-04",
          "2026-05",
          "2026-06",
          "2026-07",
          "2026-08",
          "2026-09",
          "2026-10",
          "2026-11",
          "2026-12",
          "2027-01",
          "2027-02",
          "2027-03",
          "2027-04",
          "2027-05",
          "2027-06",
          "2027-07",
          "2027-08",
          "2027-09",
          "2027-10",
          "2027-11",
          "2027-12",
          "2028-01",
          "2028-02",
          "2028-03",
          "2028-04",
          "2028-05",
          "2028-06",
          "2028-07",
          "2028-08",
          "2028-09",
          "2028-10",
          "2028-11",
          "2028-12",
          "2029-01",
          "2029-02",
          "2029-03",
          "2029-04",
          "2029-05",
          "2029-06",
          "2029-07",
          "2029-08",
          "2029-09",
          "2029-10",
          "2029-11",
          "2029-12",
          "2030-01",
          "2030-02",
          "2030-03",
          "2030-04",
          "2030-05",
          "2030-06",
          "2030-07",
          "2030-08",
          "2030-09",
          "2030-10",
          "2030-11",
          "2030-12",
          "2031-01",
          "2031-02",
          "2031-03",
          "2031-04",
          "2031-05",
          "2031-06",
          "2031-07",
          "2031-08",
          "2031-09",
          "2031-10",
          "2031-11",
          "2031-12",
          "2032-01",
          "2032-02",
          "2032-03",
          "2032-04",
          "2032-05",
          "2032-06",
          "2032-07",
          "2032-08",
          "2032-09",
          "2032-10",
          "2032-11",
          "2032-12"
         ],
         "xaxis": "x",
         "y": [
          26352.073377645258,
          27158.15012117904,
          28406.045238815954,
          29210.64574100341,
          29151.76156563171,
          28255.779024906544,
          27559.090611579202,
          27582.27551791044,
          27624.758083906578,
          27398.084776191354,
          27576.596662204913,
          27054.47850468671,
          26811.177210697995,
          27633.352038261066,
          28937.53378939304,
          29722.13171810385,
          29652.03838197289,
          28766.427519655186,
          28075.226913638366,
          28096.741343177568,
          28138.81798326338,
          27913.709479247147,
          28091.12871979116,
          27571.810669676706,
          27329.837737424383,
          28147.357287579944,
          29444.16098062826,
          30224.300112620633,
          30154.54531321935,
          29273.845460621003,
          28586.464961584083,
          28607.8024095786,
          28649.586769468482,
          28425.684499533876,
          28602.05225009891,
          28085.5906715668,
          27844.91860613331,
          28657.79642882067,
          29947.270140830988,
          30722.977220717992,
          30653.55734980499,
          29777.740946166203,
          29094.159590599786,
          29115.321053429565,
          29156.814748039593,
          28934.11202929246,
          29109.434258299378,
          28595.81317852736,
          28356.43473874667,
          29164.69692802896,
          30446.881829149675,
          31218.18177237342,
          31149.09500837885,
          30278.134719909835,
          29598.331255664205,
          29619.317777321154,
          29660.522493893237,
          29439.012655076265,
          29613.295283664083,
          29102.498827460648,
          28864.406814404996,
          29668.079315836098,
          30943.016345221375,
          31709.933927887363,
          31641.178459324434,
          30775.047105398975,
          30099.000399500892,
          30119.81301807855,
          30160.730434323646,
          29940.406841538832,
          30113.65575758038,
          29605.66813873891,
          29368.855393800608,
          30167.964007350773,
          31435.693874473436,
          32198.25373366275,
          32129.827759147625,
          31268.498311535626,
          30596.18734948725,
          30616.82709719908,
          30657.45888136055,
          30438.314937861327,
          30610.53599614744,
          30105.341516947214,
          29869.800921613067,
          30664.371302485448,
          31924.934488425202,
          32683.161122974365,
          32615.062851169554,
          31758.508433182324,
          31089.912318296745,
          31110.38022150921,
          31150.728032415966,
          30932.757178398882,
          31103.95620082399,
          30601.539251533944,
          30367.263727160436,
          31157.32138660313,
          32410.75814532765,
          33164.67591660409,
          33096.90356616216,
          32245.097451802485,
          31580.195404543007,
          31600.492483808397,
          31640.55797092775,
          31423.753683325336,
          31593.936459072043,
          31094.281517457304,
          30861.264025047036,
          31646.834331160564,
          32893.18469079942,
          33642.817823472564,
          33575.36962298017,
          32728.28523609716,
          32067.05659342026,
          32087.183863509374,
          32126.968666999634,
          31911.324459274394,
          32080.49674499702,
          31583.58837582819
         ],
         "yaxis": "y"
        },
        {
         "hovertemplate": "variable=Maximum_capacity<br>Date=%{x}<br>value=%{y}<extra></extra>",
         "legendgroup": "Maximum_capacity",
         "line": {
          "color": "#FFA15A",
          "dash": "solid"
         },
         "marker": {
          "symbol": "circle"
         },
         "mode": "lines",
         "name": "Maximum_capacity",
         "orientation": "v",
         "showlegend": true,
         "type": "scatter",
         "x": [
          "2023-01",
          "2023-02",
          "2023-03",
          "2023-04",
          "2023-05",
          "2023-06",
          "2023-07",
          "2023-08",
          "2023-09",
          "2023-10",
          "2023-11",
          "2023-12",
          "2024-01",
          "2024-02",
          "2024-03",
          "2024-04",
          "2024-05",
          "2024-06",
          "2024-07",
          "2024-08",
          "2024-09",
          "2024-10",
          "2024-11",
          "2024-12",
          "2025-01",
          "2025-02",
          "2025-03",
          "2025-04",
          "2025-05",
          "2025-06",
          "2025-07",
          "2025-08",
          "2025-09",
          "2025-10",
          "2025-11",
          "2025-12",
          "2026-01",
          "2026-02",
          "2026-03",
          "2026-04",
          "2026-05",
          "2026-06",
          "2026-07",
          "2026-08",
          "2026-09",
          "2026-10",
          "2026-11",
          "2026-12",
          "2027-01",
          "2027-02",
          "2027-03",
          "2027-04",
          "2027-05",
          "2027-06",
          "2027-07",
          "2027-08",
          "2027-09",
          "2027-10",
          "2027-11",
          "2027-12",
          "2028-01",
          "2028-02",
          "2028-03",
          "2028-04",
          "2028-05",
          "2028-06",
          "2028-07",
          "2028-08",
          "2028-09",
          "2028-10",
          "2028-11",
          "2028-12",
          "2029-01",
          "2029-02",
          "2029-03",
          "2029-04",
          "2029-05",
          "2029-06",
          "2029-07",
          "2029-08",
          "2029-09",
          "2029-10",
          "2029-11",
          "2029-12",
          "2030-01",
          "2030-02",
          "2030-03",
          "2030-04",
          "2030-05",
          "2030-06",
          "2030-07",
          "2030-08",
          "2030-09",
          "2030-10",
          "2030-11",
          "2030-12",
          "2031-01",
          "2031-02",
          "2031-03",
          "2031-04",
          "2031-05",
          "2031-06",
          "2031-07",
          "2031-08",
          "2031-09",
          "2031-10",
          "2031-11",
          "2031-12",
          "2032-01",
          "2032-02",
          "2032-03",
          "2032-04",
          "2032-05",
          "2032-06",
          "2032-07",
          "2032-08",
          "2032-09",
          "2032-10",
          "2032-11",
          "2032-12"
         ],
         "xaxis": "x",
         "y": [
          49144.8,
          49144.8,
          49144.8,
          49144.8,
          49144.8,
          49144.8,
          49144.8,
          49144.8,
          49144.8,
          49144.8,
          49144.8,
          49144.8,
          49144.8,
          49144.8,
          49144.8,
          49144.8,
          49144.8,
          49144.8,
          49144.8,
          49144.8,
          49144.8,
          49144.8,
          49144.8,
          49144.8,
          49144.8,
          49144.8,
          49144.8,
          49144.8,
          49144.8,
          49144.8,
          49144.8,
          49144.8,
          49144.8,
          49144.8,
          49144.8,
          49144.8,
          49144.8,
          49144.8,
          49144.8,
          49144.8,
          49144.8,
          49144.8,
          49144.8,
          49144.8,
          49144.8,
          49144.8,
          49144.8,
          49144.8,
          49144.8,
          49144.8,
          49144.8,
          49144.8,
          49144.8,
          49144.8,
          49144.8,
          49144.8,
          49144.8,
          49144.8,
          49144.8,
          49144.8,
          49144.8,
          49144.8,
          49144.8,
          49144.8,
          49144.8,
          49144.8,
          49144.8,
          49144.8,
          49144.8,
          49144.8,
          49144.8,
          49144.8,
          49144.8,
          49144.8,
          49144.8,
          49144.8,
          49144.8,
          49144.8,
          49144.8,
          49144.8,
          49144.8,
          49144.8,
          49144.8,
          49144.8,
          49144.8,
          49144.8,
          49144.8,
          49144.8,
          49144.8,
          49144.8,
          49144.8,
          49144.8,
          49144.8,
          49144.8,
          49144.8,
          49144.8,
          49144.8,
          49144.8,
          49144.8,
          49144.8,
          49144.8,
          49144.8,
          49144.8,
          49144.8,
          49144.8,
          49144.8,
          49144.8,
          49144.8,
          49144.8,
          49144.8,
          49144.8,
          49144.8,
          49144.8,
          49144.8,
          49144.8,
          49144.8,
          49144.8,
          49144.8,
          49144.8,
          49144.8
         ],
         "yaxis": "y"
        },
        {
         "hovertemplate": "variable=Maximum_capacity_wo_import<br>Date=%{x}<br>value=%{y}<extra></extra>",
         "legendgroup": "Maximum_capacity_wo_import",
         "line": {
          "color": "#19d3f3",
          "dash": "solid"
         },
         "marker": {
          "symbol": "circle"
         },
         "mode": "lines",
         "name": "Maximum_capacity_wo_import",
         "orientation": "v",
         "showlegend": true,
         "type": "scatter",
         "x": [
          "2023-01",
          "2023-02",
          "2023-03",
          "2023-04",
          "2023-05",
          "2023-06",
          "2023-07",
          "2023-08",
          "2023-09",
          "2023-10",
          "2023-11",
          "2023-12",
          "2024-01",
          "2024-02",
          "2024-03",
          "2024-04",
          "2024-05",
          "2024-06",
          "2024-07",
          "2024-08",
          "2024-09",
          "2024-10",
          "2024-11",
          "2024-12",
          "2025-01",
          "2025-02",
          "2025-03",
          "2025-04",
          "2025-05",
          "2025-06",
          "2025-07",
          "2025-08",
          "2025-09",
          "2025-10",
          "2025-11",
          "2025-12",
          "2026-01",
          "2026-02",
          "2026-03",
          "2026-04",
          "2026-05",
          "2026-06",
          "2026-07",
          "2026-08",
          "2026-09",
          "2026-10",
          "2026-11",
          "2026-12",
          "2027-01",
          "2027-02",
          "2027-03",
          "2027-04",
          "2027-05",
          "2027-06",
          "2027-07",
          "2027-08",
          "2027-09",
          "2027-10",
          "2027-11",
          "2027-12",
          "2028-01",
          "2028-02",
          "2028-03",
          "2028-04",
          "2028-05",
          "2028-06",
          "2028-07",
          "2028-08",
          "2028-09",
          "2028-10",
          "2028-11",
          "2028-12",
          "2029-01",
          "2029-02",
          "2029-03",
          "2029-04",
          "2029-05",
          "2029-06",
          "2029-07",
          "2029-08",
          "2029-09",
          "2029-10",
          "2029-11",
          "2029-12",
          "2030-01",
          "2030-02",
          "2030-03",
          "2030-04",
          "2030-05",
          "2030-06",
          "2030-07",
          "2030-08",
          "2030-09",
          "2030-10",
          "2030-11",
          "2030-12",
          "2031-01",
          "2031-02",
          "2031-03",
          "2031-04",
          "2031-05",
          "2031-06",
          "2031-07",
          "2031-08",
          "2031-09",
          "2031-10",
          "2031-11",
          "2031-12",
          "2032-01",
          "2032-02",
          "2032-03",
          "2032-04",
          "2032-05",
          "2032-06",
          "2032-07",
          "2032-08",
          "2032-09",
          "2032-10",
          "2032-11",
          "2032-12"
         ],
         "xaxis": "x",
         "y": [
          42909.9,
          42909.9,
          42909.9,
          42909.9,
          42909.9,
          42909.9,
          42909.9,
          42909.9,
          42909.9,
          42909.9,
          42909.9,
          42909.9,
          42909.9,
          42909.9,
          42909.9,
          42909.9,
          42909.9,
          42909.9,
          42909.9,
          42909.9,
          42909.9,
          42909.9,
          42909.9,
          42909.9,
          42909.9,
          42909.9,
          42909.9,
          42909.9,
          42909.9,
          42909.9,
          42909.9,
          42909.9,
          42909.9,
          42909.9,
          42909.9,
          42909.9,
          42909.9,
          42909.9,
          42909.9,
          42909.9,
          42909.9,
          42909.9,
          42909.9,
          42909.9,
          42909.9,
          42909.9,
          42909.9,
          42909.9,
          42909.9,
          42909.9,
          42909.9,
          42909.9,
          42909.9,
          42909.9,
          42909.9,
          42909.9,
          42909.9,
          42909.9,
          42909.9,
          42909.9,
          42909.9,
          42909.9,
          42909.9,
          42909.9,
          42909.9,
          42909.9,
          42909.9,
          42909.9,
          42909.9,
          42909.9,
          42909.9,
          42909.9,
          42909.9,
          42909.9,
          42909.9,
          42909.9,
          42909.9,
          42909.9,
          42909.9,
          42909.9,
          42909.9,
          42909.9,
          42909.9,
          42909.9,
          42909.9,
          42909.9,
          42909.9,
          42909.9,
          42909.9,
          42909.9,
          42909.9,
          42909.9,
          42909.9,
          42909.9,
          42909.9,
          42909.9,
          42909.9,
          42909.9,
          42909.9,
          42909.9,
          42909.9,
          42909.9,
          42909.9,
          42909.9,
          42909.9,
          42909.9,
          42909.9,
          42909.9,
          42909.9,
          42909.9,
          42909.9,
          42909.9,
          42909.9,
          42909.9,
          42909.9,
          42909.9,
          42909.9,
          42909.9,
          42909.9,
          42909.9
         ],
         "yaxis": "y"
        }
       ],
       "layout": {
        "legend": {
         "title": {
          "text": "variable"
         },
         "tracegroupgap": 0
        },
        "margin": {
         "t": 60
        },
        "template": {
         "data": {
          "bar": [
           {
            "error_x": {
             "color": "#2a3f5f"
            },
            "error_y": {
             "color": "#2a3f5f"
            },
            "marker": {
             "line": {
              "color": "#E5ECF6",
              "width": 0.5
             },
             "pattern": {
              "fillmode": "overlay",
              "size": 10,
              "solidity": 0.2
             }
            },
            "type": "bar"
           }
          ],
          "barpolar": [
           {
            "marker": {
             "line": {
              "color": "#E5ECF6",
              "width": 0.5
             },
             "pattern": {
              "fillmode": "overlay",
              "size": 10,
              "solidity": 0.2
             }
            },
            "type": "barpolar"
           }
          ],
          "carpet": [
           {
            "aaxis": {
             "endlinecolor": "#2a3f5f",
             "gridcolor": "white",
             "linecolor": "white",
             "minorgridcolor": "white",
             "startlinecolor": "#2a3f5f"
            },
            "baxis": {
             "endlinecolor": "#2a3f5f",
             "gridcolor": "white",
             "linecolor": "white",
             "minorgridcolor": "white",
             "startlinecolor": "#2a3f5f"
            },
            "type": "carpet"
           }
          ],
          "choropleth": [
           {
            "colorbar": {
             "outlinewidth": 0,
             "ticks": ""
            },
            "type": "choropleth"
           }
          ],
          "contour": [
           {
            "colorbar": {
             "outlinewidth": 0,
             "ticks": ""
            },
            "colorscale": [
             [
              0,
              "#0d0887"
             ],
             [
              0.1111111111111111,
              "#46039f"
             ],
             [
              0.2222222222222222,
              "#7201a8"
             ],
             [
              0.3333333333333333,
              "#9c179e"
             ],
             [
              0.4444444444444444,
              "#bd3786"
             ],
             [
              0.5555555555555556,
              "#d8576b"
             ],
             [
              0.6666666666666666,
              "#ed7953"
             ],
             [
              0.7777777777777778,
              "#fb9f3a"
             ],
             [
              0.8888888888888888,
              "#fdca26"
             ],
             [
              1,
              "#f0f921"
             ]
            ],
            "type": "contour"
           }
          ],
          "contourcarpet": [
           {
            "colorbar": {
             "outlinewidth": 0,
             "ticks": ""
            },
            "type": "contourcarpet"
           }
          ],
          "heatmap": [
           {
            "colorbar": {
             "outlinewidth": 0,
             "ticks": ""
            },
            "colorscale": [
             [
              0,
              "#0d0887"
             ],
             [
              0.1111111111111111,
              "#46039f"
             ],
             [
              0.2222222222222222,
              "#7201a8"
             ],
             [
              0.3333333333333333,
              "#9c179e"
             ],
             [
              0.4444444444444444,
              "#bd3786"
             ],
             [
              0.5555555555555556,
              "#d8576b"
             ],
             [
              0.6666666666666666,
              "#ed7953"
             ],
             [
              0.7777777777777778,
              "#fb9f3a"
             ],
             [
              0.8888888888888888,
              "#fdca26"
             ],
             [
              1,
              "#f0f921"
             ]
            ],
            "type": "heatmap"
           }
          ],
          "heatmapgl": [
           {
            "colorbar": {
             "outlinewidth": 0,
             "ticks": ""
            },
            "colorscale": [
             [
              0,
              "#0d0887"
             ],
             [
              0.1111111111111111,
              "#46039f"
             ],
             [
              0.2222222222222222,
              "#7201a8"
             ],
             [
              0.3333333333333333,
              "#9c179e"
             ],
             [
              0.4444444444444444,
              "#bd3786"
             ],
             [
              0.5555555555555556,
              "#d8576b"
             ],
             [
              0.6666666666666666,
              "#ed7953"
             ],
             [
              0.7777777777777778,
              "#fb9f3a"
             ],
             [
              0.8888888888888888,
              "#fdca26"
             ],
             [
              1,
              "#f0f921"
             ]
            ],
            "type": "heatmapgl"
           }
          ],
          "histogram": [
           {
            "marker": {
             "pattern": {
              "fillmode": "overlay",
              "size": 10,
              "solidity": 0.2
             }
            },
            "type": "histogram"
           }
          ],
          "histogram2d": [
           {
            "colorbar": {
             "outlinewidth": 0,
             "ticks": ""
            },
            "colorscale": [
             [
              0,
              "#0d0887"
             ],
             [
              0.1111111111111111,
              "#46039f"
             ],
             [
              0.2222222222222222,
              "#7201a8"
             ],
             [
              0.3333333333333333,
              "#9c179e"
             ],
             [
              0.4444444444444444,
              "#bd3786"
             ],
             [
              0.5555555555555556,
              "#d8576b"
             ],
             [
              0.6666666666666666,
              "#ed7953"
             ],
             [
              0.7777777777777778,
              "#fb9f3a"
             ],
             [
              0.8888888888888888,
              "#fdca26"
             ],
             [
              1,
              "#f0f921"
             ]
            ],
            "type": "histogram2d"
           }
          ],
          "histogram2dcontour": [
           {
            "colorbar": {
             "outlinewidth": 0,
             "ticks": ""
            },
            "colorscale": [
             [
              0,
              "#0d0887"
             ],
             [
              0.1111111111111111,
              "#46039f"
             ],
             [
              0.2222222222222222,
              "#7201a8"
             ],
             [
              0.3333333333333333,
              "#9c179e"
             ],
             [
              0.4444444444444444,
              "#bd3786"
             ],
             [
              0.5555555555555556,
              "#d8576b"
             ],
             [
              0.6666666666666666,
              "#ed7953"
             ],
             [
              0.7777777777777778,
              "#fb9f3a"
             ],
             [
              0.8888888888888888,
              "#fdca26"
             ],
             [
              1,
              "#f0f921"
             ]
            ],
            "type": "histogram2dcontour"
           }
          ],
          "mesh3d": [
           {
            "colorbar": {
             "outlinewidth": 0,
             "ticks": ""
            },
            "type": "mesh3d"
           }
          ],
          "parcoords": [
           {
            "line": {
             "colorbar": {
              "outlinewidth": 0,
              "ticks": ""
             }
            },
            "type": "parcoords"
           }
          ],
          "pie": [
           {
            "automargin": true,
            "type": "pie"
           }
          ],
          "scatter": [
           {
            "fillpattern": {
             "fillmode": "overlay",
             "size": 10,
             "solidity": 0.2
            },
            "type": "scatter"
           }
          ],
          "scatter3d": [
           {
            "line": {
             "colorbar": {
              "outlinewidth": 0,
              "ticks": ""
             }
            },
            "marker": {
             "colorbar": {
              "outlinewidth": 0,
              "ticks": ""
             }
            },
            "type": "scatter3d"
           }
          ],
          "scattercarpet": [
           {
            "marker": {
             "colorbar": {
              "outlinewidth": 0,
              "ticks": ""
             }
            },
            "type": "scattercarpet"
           }
          ],
          "scattergeo": [
           {
            "marker": {
             "colorbar": {
              "outlinewidth": 0,
              "ticks": ""
             }
            },
            "type": "scattergeo"
           }
          ],
          "scattergl": [
           {
            "marker": {
             "colorbar": {
              "outlinewidth": 0,
              "ticks": ""
             }
            },
            "type": "scattergl"
           }
          ],
          "scattermapbox": [
           {
            "marker": {
             "colorbar": {
              "outlinewidth": 0,
              "ticks": ""
             }
            },
            "type": "scattermapbox"
           }
          ],
          "scatterpolar": [
           {
            "marker": {
             "colorbar": {
              "outlinewidth": 0,
              "ticks": ""
             }
            },
            "type": "scatterpolar"
           }
          ],
          "scatterpolargl": [
           {
            "marker": {
             "colorbar": {
              "outlinewidth": 0,
              "ticks": ""
             }
            },
            "type": "scatterpolargl"
           }
          ],
          "scatterternary": [
           {
            "marker": {
             "colorbar": {
              "outlinewidth": 0,
              "ticks": ""
             }
            },
            "type": "scatterternary"
           }
          ],
          "surface": [
           {
            "colorbar": {
             "outlinewidth": 0,
             "ticks": ""
            },
            "colorscale": [
             [
              0,
              "#0d0887"
             ],
             [
              0.1111111111111111,
              "#46039f"
             ],
             [
              0.2222222222222222,
              "#7201a8"
             ],
             [
              0.3333333333333333,
              "#9c179e"
             ],
             [
              0.4444444444444444,
              "#bd3786"
             ],
             [
              0.5555555555555556,
              "#d8576b"
             ],
             [
              0.6666666666666666,
              "#ed7953"
             ],
             [
              0.7777777777777778,
              "#fb9f3a"
             ],
             [
              0.8888888888888888,
              "#fdca26"
             ],
             [
              1,
              "#f0f921"
             ]
            ],
            "type": "surface"
           }
          ],
          "table": [
           {
            "cells": {
             "fill": {
              "color": "#EBF0F8"
             },
             "line": {
              "color": "white"
             }
            },
            "header": {
             "fill": {
              "color": "#C8D4E3"
             },
             "line": {
              "color": "white"
             }
            },
            "type": "table"
           }
          ]
         },
         "layout": {
          "annotationdefaults": {
           "arrowcolor": "#2a3f5f",
           "arrowhead": 0,
           "arrowwidth": 1
          },
          "autotypenumbers": "strict",
          "coloraxis": {
           "colorbar": {
            "outlinewidth": 0,
            "ticks": ""
           }
          },
          "colorscale": {
           "diverging": [
            [
             0,
             "#8e0152"
            ],
            [
             0.1,
             "#c51b7d"
            ],
            [
             0.2,
             "#de77ae"
            ],
            [
             0.3,
             "#f1b6da"
            ],
            [
             0.4,
             "#fde0ef"
            ],
            [
             0.5,
             "#f7f7f7"
            ],
            [
             0.6,
             "#e6f5d0"
            ],
            [
             0.7,
             "#b8e186"
            ],
            [
             0.8,
             "#7fbc41"
            ],
            [
             0.9,
             "#4d9221"
            ],
            [
             1,
             "#276419"
            ]
           ],
           "sequential": [
            [
             0,
             "#0d0887"
            ],
            [
             0.1111111111111111,
             "#46039f"
            ],
            [
             0.2222222222222222,
             "#7201a8"
            ],
            [
             0.3333333333333333,
             "#9c179e"
            ],
            [
             0.4444444444444444,
             "#bd3786"
            ],
            [
             0.5555555555555556,
             "#d8576b"
            ],
            [
             0.6666666666666666,
             "#ed7953"
            ],
            [
             0.7777777777777778,
             "#fb9f3a"
            ],
            [
             0.8888888888888888,
             "#fdca26"
            ],
            [
             1,
             "#f0f921"
            ]
           ],
           "sequentialminus": [
            [
             0,
             "#0d0887"
            ],
            [
             0.1111111111111111,
             "#46039f"
            ],
            [
             0.2222222222222222,
             "#7201a8"
            ],
            [
             0.3333333333333333,
             "#9c179e"
            ],
            [
             0.4444444444444444,
             "#bd3786"
            ],
            [
             0.5555555555555556,
             "#d8576b"
            ],
            [
             0.6666666666666666,
             "#ed7953"
            ],
            [
             0.7777777777777778,
             "#fb9f3a"
            ],
            [
             0.8888888888888888,
             "#fdca26"
            ],
            [
             1,
             "#f0f921"
            ]
           ]
          },
          "colorway": [
           "#636efa",
           "#EF553B",
           "#00cc96",
           "#ab63fa",
           "#FFA15A",
           "#19d3f3",
           "#FF6692",
           "#B6E880",
           "#FF97FF",
           "#FECB52"
          ],
          "font": {
           "color": "#2a3f5f"
          },
          "geo": {
           "bgcolor": "white",
           "lakecolor": "white",
           "landcolor": "#E5ECF6",
           "showlakes": true,
           "showland": true,
           "subunitcolor": "white"
          },
          "hoverlabel": {
           "align": "left"
          },
          "hovermode": "closest",
          "mapbox": {
           "style": "light"
          },
          "paper_bgcolor": "white",
          "plot_bgcolor": "#E5ECF6",
          "polar": {
           "angularaxis": {
            "gridcolor": "white",
            "linecolor": "white",
            "ticks": ""
           },
           "bgcolor": "#E5ECF6",
           "radialaxis": {
            "gridcolor": "white",
            "linecolor": "white",
            "ticks": ""
           }
          },
          "scene": {
           "xaxis": {
            "backgroundcolor": "#E5ECF6",
            "gridcolor": "white",
            "gridwidth": 2,
            "linecolor": "white",
            "showbackground": true,
            "ticks": "",
            "zerolinecolor": "white"
           },
           "yaxis": {
            "backgroundcolor": "#E5ECF6",
            "gridcolor": "white",
            "gridwidth": 2,
            "linecolor": "white",
            "showbackground": true,
            "ticks": "",
            "zerolinecolor": "white"
           },
           "zaxis": {
            "backgroundcolor": "#E5ECF6",
            "gridcolor": "white",
            "gridwidth": 2,
            "linecolor": "white",
            "showbackground": true,
            "ticks": "",
            "zerolinecolor": "white"
           }
          },
          "shapedefaults": {
           "line": {
            "color": "#2a3f5f"
           }
          },
          "ternary": {
           "aaxis": {
            "gridcolor": "white",
            "linecolor": "white",
            "ticks": ""
           },
           "baxis": {
            "gridcolor": "white",
            "linecolor": "white",
            "ticks": ""
           },
           "bgcolor": "#E5ECF6",
           "caxis": {
            "gridcolor": "white",
            "linecolor": "white",
            "ticks": ""
           }
          },
          "title": {
           "x": 0.05
          },
          "xaxis": {
           "automargin": true,
           "gridcolor": "white",
           "linecolor": "white",
           "ticks": "",
           "title": {
            "standoff": 15
           },
           "zerolinecolor": "white",
           "zerolinewidth": 2
          },
          "yaxis": {
           "automargin": true,
           "gridcolor": "white",
           "linecolor": "white",
           "ticks": "",
           "title": {
            "standoff": 15
           },
           "zerolinecolor": "white",
           "zerolinewidth": 2
          }
         }
        },
        "xaxis": {
         "anchor": "y",
         "domain": [
          0,
          1
         ],
         "title": {
          "text": "Date"
         }
        },
        "yaxis": {
         "anchor": "x",
         "domain": [
          0,
          1
         ],
         "title": {
          "text": "value"
         }
        }
       }
      },
      "text/html": [
       "<div>                            <div id=\"a50bda7e-52c5-4085-8ec5-0c77940ba400\" class=\"plotly-graph-div\" style=\"height:525px; width:100%;\"></div>            <script type=\"text/javascript\">                require([\"plotly\"], function(Plotly) {                    window.PLOTLYENV=window.PLOTLYENV || {};                                    if (document.getElementById(\"a50bda7e-52c5-4085-8ec5-0c77940ba400\")) {                    Plotly.newPlot(                        \"a50bda7e-52c5-4085-8ec5-0c77940ba400\",                        [{\"hovertemplate\":\"variable=LSTM<br>Date=%{x}<br>value=%{y}<extra></extra>\",\"legendgroup\":\"LSTM\",\"line\":{\"color\":\"#636efa\",\"dash\":\"solid\"},\"marker\":{\"symbol\":\"circle\"},\"mode\":\"lines\",\"name\":\"LSTM\",\"orientation\":\"v\",\"showlegend\":true,\"x\":[\"2023-01\",\"2023-02\",\"2023-03\",\"2023-04\",\"2023-05\",\"2023-06\",\"2023-07\",\"2023-08\",\"2023-09\",\"2023-10\",\"2023-11\",\"2023-12\",\"2024-01\",\"2024-02\",\"2024-03\",\"2024-04\",\"2024-05\",\"2024-06\",\"2024-07\",\"2024-08\",\"2024-09\",\"2024-10\",\"2024-11\",\"2024-12\",\"2025-01\",\"2025-02\",\"2025-03\",\"2025-04\",\"2025-05\",\"2025-06\",\"2025-07\",\"2025-08\",\"2025-09\",\"2025-10\",\"2025-11\",\"2025-12\",\"2026-01\",\"2026-02\",\"2026-03\",\"2026-04\",\"2026-05\",\"2026-06\",\"2026-07\",\"2026-08\",\"2026-09\",\"2026-10\",\"2026-11\",\"2026-12\",\"2027-01\",\"2027-02\",\"2027-03\",\"2027-04\",\"2027-05\",\"2027-06\",\"2027-07\",\"2027-08\",\"2027-09\",\"2027-10\",\"2027-11\",\"2027-12\",\"2028-01\",\"2028-02\",\"2028-03\",\"2028-04\",\"2028-05\",\"2028-06\",\"2028-07\",\"2028-08\",\"2028-09\",\"2028-10\",\"2028-11\",\"2028-12\",\"2029-01\",\"2029-02\",\"2029-03\",\"2029-04\",\"2029-05\",\"2029-06\",\"2029-07\",\"2029-08\",\"2029-09\",\"2029-10\",\"2029-11\",\"2029-12\",\"2030-01\",\"2030-02\",\"2030-03\",\"2030-04\",\"2030-05\",\"2030-06\",\"2030-07\",\"2030-08\",\"2030-09\",\"2030-10\",\"2030-11\",\"2030-12\",\"2031-01\",\"2031-02\",\"2031-03\",\"2031-04\",\"2031-05\",\"2031-06\",\"2031-07\",\"2031-08\",\"2031-09\",\"2031-10\",\"2031-11\",\"2031-12\",\"2032-01\",\"2032-02\",\"2032-03\",\"2032-04\",\"2032-05\",\"2032-06\",\"2032-07\",\"2032-08\",\"2032-09\",\"2032-10\",\"2032-11\",\"2032-12\"],\"xaxis\":\"x\",\"y\":[27183.69697073102,28179.928109288216,29374.607276201248,31313.368093431,29411.088626921177,29271.14681762457,29055.82027566433,28168.946405529976,27368.04488396645,27284.19385701418,27837.78335827589,26435.26136186719,26933.76613906026,27937.850546360016,30238.047427117825,30219.98955154419,29043.4605833292,29313.866573750973,28742.67026132345,27911.848134040836,27460.16252347827,27977.63917517662,27157.340828955173,26345.050326764584,27388.93839836121,28044.8567404747,29904.00495350361,29214.517923355103,28967.42536830902,28645.48408228159,28181.370987832543,27672.31473264098,27508.39819061756,27250.96201649308,25946.11208254099,26595.813121676445,27008.08678176999,27731.27201610804,28279.16913729906,27820.46142989397,28247.064957797527,27744.1194383204,27361.55430454016,27682.789186775684,27873.24704438448,27006.249024033543,26302.451118260626,26313.166403859854,26598.106691867117,28487.67273658514,29489.13490337133,29318.3999029398,29008.928569436077,28623.111287653446,28228.86569595337,27531.21519136429,27503.510340631008,27997.23647290468,26596.207737088203,26493.74067533016,27325.230958253145,27494.79820305109,29002.317706167694,28661.80892091989,28805.563411474228,27555.883666425943,27172.647739201784,27544.08556246757,27445.57995408773,27078.027351677418,26453.65608495474,26063.33396226168,26440.233885347843,28528.22052526474,30574.999925613403,30369.575170636177,29876.152913331985,29677.19183218479,29046.877066493034,27749.5730971694,27654.498216092587,28488.18974608183,26592.50426089764,26425.02984943986,27736.833033561707,27638.168629407883,29443.341050982475,28866.43336629868,28854.117989063263,27674.59907051921,27437.08754554391,27592.53805705905,27294.52507841587,27188.77052208781,26312.36583048105,26191.15374532342,26708.178277492523,28524.47537177801,30345.67561531067,29918.47805404663,29442.20310252905,28966.61714529991,28505.333358943462,27638.16467270255,27617.189122617245,28187.52392840385,26238.84760761261,26466.31965225935,27723.978489279747,29269.92023897171,31384.72964811325,29418.97196662426,29462.25621271133,29207.491869807243,28651.979937314987,27657.005712151527,27194.70320606232,27968.78617888689,27016.41063466668,27081.958734095097],\"yaxis\":\"y\",\"type\":\"scatter\"},{\"hovertemplate\":\"variable=XGBoost<br>Date=%{x}<br>value=%{y}<extra></extra>\",\"legendgroup\":\"XGBoost\",\"line\":{\"color\":\"#EF553B\",\"dash\":\"solid\"},\"marker\":{\"symbol\":\"circle\"},\"mode\":\"lines\",\"name\":\"XGBoost\",\"orientation\":\"v\",\"showlegend\":true,\"x\":[\"2023-01\",\"2023-02\",\"2023-03\",\"2023-04\",\"2023-05\",\"2023-06\",\"2023-07\",\"2023-08\",\"2023-09\",\"2023-10\",\"2023-11\",\"2023-12\",\"2024-01\",\"2024-02\",\"2024-03\",\"2024-04\",\"2024-05\",\"2024-06\",\"2024-07\",\"2024-08\",\"2024-09\",\"2024-10\",\"2024-11\",\"2024-12\",\"2025-01\",\"2025-02\",\"2025-03\",\"2025-04\",\"2025-05\",\"2025-06\",\"2025-07\",\"2025-08\",\"2025-09\",\"2025-10\",\"2025-11\",\"2025-12\",\"2026-01\",\"2026-02\",\"2026-03\",\"2026-04\",\"2026-05\",\"2026-06\",\"2026-07\",\"2026-08\",\"2026-09\",\"2026-10\",\"2026-11\",\"2026-12\",\"2027-01\",\"2027-02\",\"2027-03\",\"2027-04\",\"2027-05\",\"2027-06\",\"2027-07\",\"2027-08\",\"2027-09\",\"2027-10\",\"2027-11\",\"2027-12\",\"2028-01\",\"2028-02\",\"2028-03\",\"2028-04\",\"2028-05\",\"2028-06\",\"2028-07\",\"2028-08\",\"2028-09\",\"2028-10\",\"2028-11\",\"2028-12\",\"2029-01\",\"2029-02\",\"2029-03\",\"2029-04\",\"2029-05\",\"2029-06\",\"2029-07\",\"2029-08\",\"2029-09\",\"2029-10\",\"2029-11\",\"2029-12\",\"2030-01\",\"2030-02\",\"2030-03\",\"2030-04\",\"2030-05\",\"2030-06\",\"2030-07\",\"2030-08\",\"2030-09\",\"2030-10\",\"2030-11\",\"2030-12\",\"2031-01\",\"2031-02\",\"2031-03\",\"2031-04\",\"2031-05\",\"2031-06\",\"2031-07\",\"2031-08\",\"2031-09\",\"2031-10\",\"2031-11\",\"2031-12\",\"2032-01\",\"2032-02\",\"2032-03\",\"2032-04\",\"2032-05\",\"2032-06\",\"2032-07\",\"2032-08\",\"2032-09\",\"2032-10\",\"2032-11\",\"2032-12\"],\"xaxis\":\"x\",\"y\":[26686.5390625,25581.234375,26586.275390625,26659.75390625,26550.34765625,26573.09375,26573.09375,26477.12109375,26529.541015625,26676.919921875,26571.978515625,26489.142578125,26470.556640625,26469.142578125,26469.142578125,26476.060546875,26476.060546875,26594.974609375,26554.8046875,26575.32421875,26581.990234375,26635.83984375,26616.693359375,26545.0546875,27062.416015625,27062.416015625,27070.029296875,27069.306640625,26846.896484375,26632.765625,26598.779296875,26557.79296875,26966.654296875,26639.67578125,26805.42578125,26695.576171875,26690.203125,26652.7109375,26652.7109375,26651.1875,26675.572265625,26675.572265625,26675.572265625,26675.572265625,26664.8125,26664.8125,26662.728515625,26709.912109375,25541.6953125,25485.123046875,25515.3515625,26681.677734375,26444.037109375,26421.98046875,26368.740234375,26558.52734375,26809.1328125,26661.45703125,26718.650390625,26709.759765625,26622.759765625,26770.22265625,26647.400390625,26626.416015625,26626.416015625,26626.416015625,26560.375,26649.712890625,26530.5546875,26510.69921875,26510.69921875,26555.03125,26095.83203125,26630.17578125,26766.828125,26971.6953125,26991.63671875,26770.962890625,26539.359375,26603.345703125,26614.1796875,26680.40625,26897.767578125,26421.046875,26631.6484375,26647.044921875,26631.6484375,26713.173828125,26713.173828125,26713.173828125,26713.173828125,26758.328125,26758.328125,26761.212890625,26771.345703125,26784.599609375,27021.92578125,25756.5078125,26898.05078125,27083.224609375,26922.73828125,26914.5234375,27028.447265625,26806.9609375,26829.314453125,26803.8671875,26831.822265625,26737.615234375,26739.04296875,26739.04296875,26737.615234375,26714.90625,26714.90625,26848.765625,26818.595703125,26677.9375,26677.9375,26820.8203125,26808.263671875,26798.755859375],\"yaxis\":\"y\",\"type\":\"scatter\"},{\"hovertemplate\":\"variable=ANN<br>Date=%{x}<br>value=%{y}<extra></extra>\",\"legendgroup\":\"ANN\",\"line\":{\"color\":\"#00cc96\",\"dash\":\"solid\"},\"marker\":{\"symbol\":\"circle\"},\"mode\":\"lines\",\"name\":\"ANN\",\"orientation\":\"v\",\"showlegend\":true,\"x\":[\"2023-01\",\"2023-02\",\"2023-03\",\"2023-04\",\"2023-05\",\"2023-06\",\"2023-07\",\"2023-08\",\"2023-09\",\"2023-10\",\"2023-11\",\"2023-12\",\"2024-01\",\"2024-02\",\"2024-03\",\"2024-04\",\"2024-05\",\"2024-06\",\"2024-07\",\"2024-08\",\"2024-09\",\"2024-10\",\"2024-11\",\"2024-12\",\"2025-01\",\"2025-02\",\"2025-03\",\"2025-04\",\"2025-05\",\"2025-06\",\"2025-07\",\"2025-08\",\"2025-09\",\"2025-10\",\"2025-11\",\"2025-12\",\"2026-01\",\"2026-02\",\"2026-03\",\"2026-04\",\"2026-05\",\"2026-06\",\"2026-07\",\"2026-08\",\"2026-09\",\"2026-10\",\"2026-11\",\"2026-12\",\"2027-01\",\"2027-02\",\"2027-03\",\"2027-04\",\"2027-05\",\"2027-06\",\"2027-07\",\"2027-08\",\"2027-09\",\"2027-10\",\"2027-11\",\"2027-12\",\"2028-01\",\"2028-02\",\"2028-03\",\"2028-04\",\"2028-05\",\"2028-06\",\"2028-07\",\"2028-08\",\"2028-09\",\"2028-10\",\"2028-11\",\"2028-12\",\"2029-01\",\"2029-02\",\"2029-03\",\"2029-04\",\"2029-05\",\"2029-06\",\"2029-07\",\"2029-08\",\"2029-09\",\"2029-10\",\"2029-11\",\"2029-12\",\"2030-01\",\"2030-02\",\"2030-03\",\"2030-04\",\"2030-05\",\"2030-06\",\"2030-07\",\"2030-08\",\"2030-09\",\"2030-10\",\"2030-11\",\"2030-12\",\"2031-01\",\"2031-02\",\"2031-03\",\"2031-04\",\"2031-05\",\"2031-06\",\"2031-07\",\"2031-08\",\"2031-09\",\"2031-10\",\"2031-11\",\"2031-12\",\"2032-01\",\"2032-02\",\"2032-03\",\"2032-04\",\"2032-05\",\"2032-06\",\"2032-07\",\"2032-08\",\"2032-09\",\"2032-10\",\"2032-11\",\"2032-12\"],\"xaxis\":\"x\",\"y\":[35381.756446289946,26916.04988693496,33862.316348241024,36244.40554855406,34979.038025614704,35325.341348643575,35530.081316203374,34945.43051341007,33404.207705377514,31501.63586255805,29876.10830497655,28788.647684074673,28535.63249139395,28842.672206940017,29326.994144096378,29665.507798219875,29977.681080531165,30258.56093438584,30503.174469948488,30696.045083025452,30846.651780238008,30990.826673045955,31131.002112620972,31145.285428162704,38757.82537868642,38783.07114238493,39890.23036186285,41162.79848662621,41179.18242573331,40325.41836999252,38900.40452799288,38830.30443323836,39497.61655320524,40120.788249609905,40832.65148834644,39331.75918520919,35985.9327520926,37931.56638838737,38016.65176182298,38146.860200077936,38146.31963360198,38323.755753797785,38600.65334134665,38887.23933451927,39149.97890183778,39413.85192083931,39726.051473721134,40264.29155845923,39159.56076147998,37696.51004931284,40713.09676045242,45613.66597505438,44142.93909422844,43840.174924175415,43978.76834004118,43628.385247441256,42512.157425275815,40975.16973336268,39746.27257914617,39154.965914505185,39034.47836061535,39104.682095054704,39251.058670234735,39454.50413731596,39706.25958086047,39997.77210577921,40305.33500516208,40578.8174298158,40777.36715506649,40969.7553122284,41283.240751923775,41577.83751348579,44951.01998157057,46987.35396540005,46413.511110347434,45739.22379029363,45197.52865305796,45878.98385453559,46768.22739045054,47296.52043293536,47821.99738713825,48156.93414638325,48462.89982085905,46837.6381446467,41591.088074158135,41347.968799125534,41502.22835804173,41890.987695974225,42113.85602919714,42335.536556925406,42631.50739321798,42962.102376651805,43282.26316379086,43612.74790425078,44012.0996213607,44620.06063199762,53902.71905078988,52193.84143167464,53818.92966736664,56469.78540476441,58090.00120214438,58564.57633022995,58694.48747481774,57941.93625982913,55778.82758570545,53266.15607099604,52324.38503762781,51970.721167692485,52110.73606112176,52478.727785815885,52926.60994341606,53376.312738305816,53801.355148404175,54200.14131476809,54572.55490134751,54913.59929409651,55228.56503208965,55525.25122341628,55806.612907518065,56010.465493922646],\"yaxis\":\"y\",\"type\":\"scatter\"},{\"hovertemplate\":\"variable=ARIMA<br>Date=%{x}<br>value=%{y}<extra></extra>\",\"legendgroup\":\"ARIMA\",\"line\":{\"color\":\"#ab63fa\",\"dash\":\"solid\"},\"marker\":{\"symbol\":\"circle\"},\"mode\":\"lines\",\"name\":\"ARIMA\",\"orientation\":\"v\",\"showlegend\":true,\"x\":[\"2023-01\",\"2023-02\",\"2023-03\",\"2023-04\",\"2023-05\",\"2023-06\",\"2023-07\",\"2023-08\",\"2023-09\",\"2023-10\",\"2023-11\",\"2023-12\",\"2024-01\",\"2024-02\",\"2024-03\",\"2024-04\",\"2024-05\",\"2024-06\",\"2024-07\",\"2024-08\",\"2024-09\",\"2024-10\",\"2024-11\",\"2024-12\",\"2025-01\",\"2025-02\",\"2025-03\",\"2025-04\",\"2025-05\",\"2025-06\",\"2025-07\",\"2025-08\",\"2025-09\",\"2025-10\",\"2025-11\",\"2025-12\",\"2026-01\",\"2026-02\",\"2026-03\",\"2026-04\",\"2026-05\",\"2026-06\",\"2026-07\",\"2026-08\",\"2026-09\",\"2026-10\",\"2026-11\",\"2026-12\",\"2027-01\",\"2027-02\",\"2027-03\",\"2027-04\",\"2027-05\",\"2027-06\",\"2027-07\",\"2027-08\",\"2027-09\",\"2027-10\",\"2027-11\",\"2027-12\",\"2028-01\",\"2028-02\",\"2028-03\",\"2028-04\",\"2028-05\",\"2028-06\",\"2028-07\",\"2028-08\",\"2028-09\",\"2028-10\",\"2028-11\",\"2028-12\",\"2029-01\",\"2029-02\",\"2029-03\",\"2029-04\",\"2029-05\",\"2029-06\",\"2029-07\",\"2029-08\",\"2029-09\",\"2029-10\",\"2029-11\",\"2029-12\",\"2030-01\",\"2030-02\",\"2030-03\",\"2030-04\",\"2030-05\",\"2030-06\",\"2030-07\",\"2030-08\",\"2030-09\",\"2030-10\",\"2030-11\",\"2030-12\",\"2031-01\",\"2031-02\",\"2031-03\",\"2031-04\",\"2031-05\",\"2031-06\",\"2031-07\",\"2031-08\",\"2031-09\",\"2031-10\",\"2031-11\",\"2031-12\",\"2032-01\",\"2032-02\",\"2032-03\",\"2032-04\",\"2032-05\",\"2032-06\",\"2032-07\",\"2032-08\",\"2032-09\",\"2032-10\",\"2032-11\",\"2032-12\"],\"xaxis\":\"x\",\"y\":[26352.073377645258,27158.15012117904,28406.045238815954,29210.64574100341,29151.76156563171,28255.779024906544,27559.090611579202,27582.27551791044,27624.758083906578,27398.084776191354,27576.596662204913,27054.47850468671,26811.177210697995,27633.352038261066,28937.53378939304,29722.13171810385,29652.03838197289,28766.427519655186,28075.226913638366,28096.741343177568,28138.81798326338,27913.709479247147,28091.12871979116,27571.810669676706,27329.837737424383,28147.357287579944,29444.16098062826,30224.300112620633,30154.54531321935,29273.845460621003,28586.464961584083,28607.8024095786,28649.586769468482,28425.684499533876,28602.05225009891,28085.5906715668,27844.91860613331,28657.79642882067,29947.270140830988,30722.977220717992,30653.55734980499,29777.740946166203,29094.159590599786,29115.321053429565,29156.814748039593,28934.11202929246,29109.434258299378,28595.81317852736,28356.43473874667,29164.69692802896,30446.881829149675,31218.18177237342,31149.09500837885,30278.134719909835,29598.331255664205,29619.317777321154,29660.522493893237,29439.012655076265,29613.295283664083,29102.498827460648,28864.406814404996,29668.079315836098,30943.016345221375,31709.933927887363,31641.178459324434,30775.047105398975,30099.000399500892,30119.81301807855,30160.730434323646,29940.406841538832,30113.65575758038,29605.66813873891,29368.855393800608,30167.964007350773,31435.693874473436,32198.25373366275,32129.827759147625,31268.498311535626,30596.18734948725,30616.82709719908,30657.45888136055,30438.314937861327,30610.53599614744,30105.341516947214,29869.800921613067,30664.371302485448,31924.934488425202,32683.161122974365,32615.062851169554,31758.508433182324,31089.912318296745,31110.38022150921,31150.728032415966,30932.757178398882,31103.95620082399,30601.539251533944,30367.263727160436,31157.32138660313,32410.75814532765,33164.67591660409,33096.90356616216,32245.097451802485,31580.195404543007,31600.492483808397,31640.55797092775,31423.753683325336,31593.936459072043,31094.281517457304,30861.264025047036,31646.834331160564,32893.18469079942,33642.817823472564,33575.36962298017,32728.28523609716,32067.05659342026,32087.183863509374,32126.968666999634,31911.324459274394,32080.49674499702,31583.58837582819],\"yaxis\":\"y\",\"type\":\"scatter\"},{\"hovertemplate\":\"variable=Maximum_capacity<br>Date=%{x}<br>value=%{y}<extra></extra>\",\"legendgroup\":\"Maximum_capacity\",\"line\":{\"color\":\"#FFA15A\",\"dash\":\"solid\"},\"marker\":{\"symbol\":\"circle\"},\"mode\":\"lines\",\"name\":\"Maximum_capacity\",\"orientation\":\"v\",\"showlegend\":true,\"x\":[\"2023-01\",\"2023-02\",\"2023-03\",\"2023-04\",\"2023-05\",\"2023-06\",\"2023-07\",\"2023-08\",\"2023-09\",\"2023-10\",\"2023-11\",\"2023-12\",\"2024-01\",\"2024-02\",\"2024-03\",\"2024-04\",\"2024-05\",\"2024-06\",\"2024-07\",\"2024-08\",\"2024-09\",\"2024-10\",\"2024-11\",\"2024-12\",\"2025-01\",\"2025-02\",\"2025-03\",\"2025-04\",\"2025-05\",\"2025-06\",\"2025-07\",\"2025-08\",\"2025-09\",\"2025-10\",\"2025-11\",\"2025-12\",\"2026-01\",\"2026-02\",\"2026-03\",\"2026-04\",\"2026-05\",\"2026-06\",\"2026-07\",\"2026-08\",\"2026-09\",\"2026-10\",\"2026-11\",\"2026-12\",\"2027-01\",\"2027-02\",\"2027-03\",\"2027-04\",\"2027-05\",\"2027-06\",\"2027-07\",\"2027-08\",\"2027-09\",\"2027-10\",\"2027-11\",\"2027-12\",\"2028-01\",\"2028-02\",\"2028-03\",\"2028-04\",\"2028-05\",\"2028-06\",\"2028-07\",\"2028-08\",\"2028-09\",\"2028-10\",\"2028-11\",\"2028-12\",\"2029-01\",\"2029-02\",\"2029-03\",\"2029-04\",\"2029-05\",\"2029-06\",\"2029-07\",\"2029-08\",\"2029-09\",\"2029-10\",\"2029-11\",\"2029-12\",\"2030-01\",\"2030-02\",\"2030-03\",\"2030-04\",\"2030-05\",\"2030-06\",\"2030-07\",\"2030-08\",\"2030-09\",\"2030-10\",\"2030-11\",\"2030-12\",\"2031-01\",\"2031-02\",\"2031-03\",\"2031-04\",\"2031-05\",\"2031-06\",\"2031-07\",\"2031-08\",\"2031-09\",\"2031-10\",\"2031-11\",\"2031-12\",\"2032-01\",\"2032-02\",\"2032-03\",\"2032-04\",\"2032-05\",\"2032-06\",\"2032-07\",\"2032-08\",\"2032-09\",\"2032-10\",\"2032-11\",\"2032-12\"],\"xaxis\":\"x\",\"y\":[49144.8,49144.8,49144.8,49144.8,49144.8,49144.8,49144.8,49144.8,49144.8,49144.8,49144.8,49144.8,49144.8,49144.8,49144.8,49144.8,49144.8,49144.8,49144.8,49144.8,49144.8,49144.8,49144.8,49144.8,49144.8,49144.8,49144.8,49144.8,49144.8,49144.8,49144.8,49144.8,49144.8,49144.8,49144.8,49144.8,49144.8,49144.8,49144.8,49144.8,49144.8,49144.8,49144.8,49144.8,49144.8,49144.8,49144.8,49144.8,49144.8,49144.8,49144.8,49144.8,49144.8,49144.8,49144.8,49144.8,49144.8,49144.8,49144.8,49144.8,49144.8,49144.8,49144.8,49144.8,49144.8,49144.8,49144.8,49144.8,49144.8,49144.8,49144.8,49144.8,49144.8,49144.8,49144.8,49144.8,49144.8,49144.8,49144.8,49144.8,49144.8,49144.8,49144.8,49144.8,49144.8,49144.8,49144.8,49144.8,49144.8,49144.8,49144.8,49144.8,49144.8,49144.8,49144.8,49144.8,49144.8,49144.8,49144.8,49144.8,49144.8,49144.8,49144.8,49144.8,49144.8,49144.8,49144.8,49144.8,49144.8,49144.8,49144.8,49144.8,49144.8,49144.8,49144.8,49144.8,49144.8,49144.8,49144.8,49144.8],\"yaxis\":\"y\",\"type\":\"scatter\"},{\"hovertemplate\":\"variable=Maximum_capacity_wo_import<br>Date=%{x}<br>value=%{y}<extra></extra>\",\"legendgroup\":\"Maximum_capacity_wo_import\",\"line\":{\"color\":\"#19d3f3\",\"dash\":\"solid\"},\"marker\":{\"symbol\":\"circle\"},\"mode\":\"lines\",\"name\":\"Maximum_capacity_wo_import\",\"orientation\":\"v\",\"showlegend\":true,\"x\":[\"2023-01\",\"2023-02\",\"2023-03\",\"2023-04\",\"2023-05\",\"2023-06\",\"2023-07\",\"2023-08\",\"2023-09\",\"2023-10\",\"2023-11\",\"2023-12\",\"2024-01\",\"2024-02\",\"2024-03\",\"2024-04\",\"2024-05\",\"2024-06\",\"2024-07\",\"2024-08\",\"2024-09\",\"2024-10\",\"2024-11\",\"2024-12\",\"2025-01\",\"2025-02\",\"2025-03\",\"2025-04\",\"2025-05\",\"2025-06\",\"2025-07\",\"2025-08\",\"2025-09\",\"2025-10\",\"2025-11\",\"2025-12\",\"2026-01\",\"2026-02\",\"2026-03\",\"2026-04\",\"2026-05\",\"2026-06\",\"2026-07\",\"2026-08\",\"2026-09\",\"2026-10\",\"2026-11\",\"2026-12\",\"2027-01\",\"2027-02\",\"2027-03\",\"2027-04\",\"2027-05\",\"2027-06\",\"2027-07\",\"2027-08\",\"2027-09\",\"2027-10\",\"2027-11\",\"2027-12\",\"2028-01\",\"2028-02\",\"2028-03\",\"2028-04\",\"2028-05\",\"2028-06\",\"2028-07\",\"2028-08\",\"2028-09\",\"2028-10\",\"2028-11\",\"2028-12\",\"2029-01\",\"2029-02\",\"2029-03\",\"2029-04\",\"2029-05\",\"2029-06\",\"2029-07\",\"2029-08\",\"2029-09\",\"2029-10\",\"2029-11\",\"2029-12\",\"2030-01\",\"2030-02\",\"2030-03\",\"2030-04\",\"2030-05\",\"2030-06\",\"2030-07\",\"2030-08\",\"2030-09\",\"2030-10\",\"2030-11\",\"2030-12\",\"2031-01\",\"2031-02\",\"2031-03\",\"2031-04\",\"2031-05\",\"2031-06\",\"2031-07\",\"2031-08\",\"2031-09\",\"2031-10\",\"2031-11\",\"2031-12\",\"2032-01\",\"2032-02\",\"2032-03\",\"2032-04\",\"2032-05\",\"2032-06\",\"2032-07\",\"2032-08\",\"2032-09\",\"2032-10\",\"2032-11\",\"2032-12\"],\"xaxis\":\"x\",\"y\":[42909.9,42909.9,42909.9,42909.9,42909.9,42909.9,42909.9,42909.9,42909.9,42909.9,42909.9,42909.9,42909.9,42909.9,42909.9,42909.9,42909.9,42909.9,42909.9,42909.9,42909.9,42909.9,42909.9,42909.9,42909.9,42909.9,42909.9,42909.9,42909.9,42909.9,42909.9,42909.9,42909.9,42909.9,42909.9,42909.9,42909.9,42909.9,42909.9,42909.9,42909.9,42909.9,42909.9,42909.9,42909.9,42909.9,42909.9,42909.9,42909.9,42909.9,42909.9,42909.9,42909.9,42909.9,42909.9,42909.9,42909.9,42909.9,42909.9,42909.9,42909.9,42909.9,42909.9,42909.9,42909.9,42909.9,42909.9,42909.9,42909.9,42909.9,42909.9,42909.9,42909.9,42909.9,42909.9,42909.9,42909.9,42909.9,42909.9,42909.9,42909.9,42909.9,42909.9,42909.9,42909.9,42909.9,42909.9,42909.9,42909.9,42909.9,42909.9,42909.9,42909.9,42909.9,42909.9,42909.9,42909.9,42909.9,42909.9,42909.9,42909.9,42909.9,42909.9,42909.9,42909.9,42909.9,42909.9,42909.9,42909.9,42909.9,42909.9,42909.9,42909.9,42909.9,42909.9,42909.9,42909.9,42909.9,42909.9,42909.9],\"yaxis\":\"y\",\"type\":\"scatter\"}],                        {\"template\":{\"data\":{\"histogram2dcontour\":[{\"type\":\"histogram2dcontour\",\"colorbar\":{\"outlinewidth\":0,\"ticks\":\"\"},\"colorscale\":[[0.0,\"#0d0887\"],[0.1111111111111111,\"#46039f\"],[0.2222222222222222,\"#7201a8\"],[0.3333333333333333,\"#9c179e\"],[0.4444444444444444,\"#bd3786\"],[0.5555555555555556,\"#d8576b\"],[0.6666666666666666,\"#ed7953\"],[0.7777777777777778,\"#fb9f3a\"],[0.8888888888888888,\"#fdca26\"],[1.0,\"#f0f921\"]]}],\"choropleth\":[{\"type\":\"choropleth\",\"colorbar\":{\"outlinewidth\":0,\"ticks\":\"\"}}],\"histogram2d\":[{\"type\":\"histogram2d\",\"colorbar\":{\"outlinewidth\":0,\"ticks\":\"\"},\"colorscale\":[[0.0,\"#0d0887\"],[0.1111111111111111,\"#46039f\"],[0.2222222222222222,\"#7201a8\"],[0.3333333333333333,\"#9c179e\"],[0.4444444444444444,\"#bd3786\"],[0.5555555555555556,\"#d8576b\"],[0.6666666666666666,\"#ed7953\"],[0.7777777777777778,\"#fb9f3a\"],[0.8888888888888888,\"#fdca26\"],[1.0,\"#f0f921\"]]}],\"heatmap\":[{\"type\":\"heatmap\",\"colorbar\":{\"outlinewidth\":0,\"ticks\":\"\"},\"colorscale\":[[0.0,\"#0d0887\"],[0.1111111111111111,\"#46039f\"],[0.2222222222222222,\"#7201a8\"],[0.3333333333333333,\"#9c179e\"],[0.4444444444444444,\"#bd3786\"],[0.5555555555555556,\"#d8576b\"],[0.6666666666666666,\"#ed7953\"],[0.7777777777777778,\"#fb9f3a\"],[0.8888888888888888,\"#fdca26\"],[1.0,\"#f0f921\"]]}],\"heatmapgl\":[{\"type\":\"heatmapgl\",\"colorbar\":{\"outlinewidth\":0,\"ticks\":\"\"},\"colorscale\":[[0.0,\"#0d0887\"],[0.1111111111111111,\"#46039f\"],[0.2222222222222222,\"#7201a8\"],[0.3333333333333333,\"#9c179e\"],[0.4444444444444444,\"#bd3786\"],[0.5555555555555556,\"#d8576b\"],[0.6666666666666666,\"#ed7953\"],[0.7777777777777778,\"#fb9f3a\"],[0.8888888888888888,\"#fdca26\"],[1.0,\"#f0f921\"]]}],\"contourcarpet\":[{\"type\":\"contourcarpet\",\"colorbar\":{\"outlinewidth\":0,\"ticks\":\"\"}}],\"contour\":[{\"type\":\"contour\",\"colorbar\":{\"outlinewidth\":0,\"ticks\":\"\"},\"colorscale\":[[0.0,\"#0d0887\"],[0.1111111111111111,\"#46039f\"],[0.2222222222222222,\"#7201a8\"],[0.3333333333333333,\"#9c179e\"],[0.4444444444444444,\"#bd3786\"],[0.5555555555555556,\"#d8576b\"],[0.6666666666666666,\"#ed7953\"],[0.7777777777777778,\"#fb9f3a\"],[0.8888888888888888,\"#fdca26\"],[1.0,\"#f0f921\"]]}],\"surface\":[{\"type\":\"surface\",\"colorbar\":{\"outlinewidth\":0,\"ticks\":\"\"},\"colorscale\":[[0.0,\"#0d0887\"],[0.1111111111111111,\"#46039f\"],[0.2222222222222222,\"#7201a8\"],[0.3333333333333333,\"#9c179e\"],[0.4444444444444444,\"#bd3786\"],[0.5555555555555556,\"#d8576b\"],[0.6666666666666666,\"#ed7953\"],[0.7777777777777778,\"#fb9f3a\"],[0.8888888888888888,\"#fdca26\"],[1.0,\"#f0f921\"]]}],\"mesh3d\":[{\"type\":\"mesh3d\",\"colorbar\":{\"outlinewidth\":0,\"ticks\":\"\"}}],\"scatter\":[{\"fillpattern\":{\"fillmode\":\"overlay\",\"size\":10,\"solidity\":0.2},\"type\":\"scatter\"}],\"parcoords\":[{\"type\":\"parcoords\",\"line\":{\"colorbar\":{\"outlinewidth\":0,\"ticks\":\"\"}}}],\"scatterpolargl\":[{\"type\":\"scatterpolargl\",\"marker\":{\"colorbar\":{\"outlinewidth\":0,\"ticks\":\"\"}}}],\"bar\":[{\"error_x\":{\"color\":\"#2a3f5f\"},\"error_y\":{\"color\":\"#2a3f5f\"},\"marker\":{\"line\":{\"color\":\"#E5ECF6\",\"width\":0.5},\"pattern\":{\"fillmode\":\"overlay\",\"size\":10,\"solidity\":0.2}},\"type\":\"bar\"}],\"scattergeo\":[{\"type\":\"scattergeo\",\"marker\":{\"colorbar\":{\"outlinewidth\":0,\"ticks\":\"\"}}}],\"scatterpolar\":[{\"type\":\"scatterpolar\",\"marker\":{\"colorbar\":{\"outlinewidth\":0,\"ticks\":\"\"}}}],\"histogram\":[{\"marker\":{\"pattern\":{\"fillmode\":\"overlay\",\"size\":10,\"solidity\":0.2}},\"type\":\"histogram\"}],\"scattergl\":[{\"type\":\"scattergl\",\"marker\":{\"colorbar\":{\"outlinewidth\":0,\"ticks\":\"\"}}}],\"scatter3d\":[{\"type\":\"scatter3d\",\"line\":{\"colorbar\":{\"outlinewidth\":0,\"ticks\":\"\"}},\"marker\":{\"colorbar\":{\"outlinewidth\":0,\"ticks\":\"\"}}}],\"scattermapbox\":[{\"type\":\"scattermapbox\",\"marker\":{\"colorbar\":{\"outlinewidth\":0,\"ticks\":\"\"}}}],\"scatterternary\":[{\"type\":\"scatterternary\",\"marker\":{\"colorbar\":{\"outlinewidth\":0,\"ticks\":\"\"}}}],\"scattercarpet\":[{\"type\":\"scattercarpet\",\"marker\":{\"colorbar\":{\"outlinewidth\":0,\"ticks\":\"\"}}}],\"carpet\":[{\"aaxis\":{\"endlinecolor\":\"#2a3f5f\",\"gridcolor\":\"white\",\"linecolor\":\"white\",\"minorgridcolor\":\"white\",\"startlinecolor\":\"#2a3f5f\"},\"baxis\":{\"endlinecolor\":\"#2a3f5f\",\"gridcolor\":\"white\",\"linecolor\":\"white\",\"minorgridcolor\":\"white\",\"startlinecolor\":\"#2a3f5f\"},\"type\":\"carpet\"}],\"table\":[{\"cells\":{\"fill\":{\"color\":\"#EBF0F8\"},\"line\":{\"color\":\"white\"}},\"header\":{\"fill\":{\"color\":\"#C8D4E3\"},\"line\":{\"color\":\"white\"}},\"type\":\"table\"}],\"barpolar\":[{\"marker\":{\"line\":{\"color\":\"#E5ECF6\",\"width\":0.5},\"pattern\":{\"fillmode\":\"overlay\",\"size\":10,\"solidity\":0.2}},\"type\":\"barpolar\"}],\"pie\":[{\"automargin\":true,\"type\":\"pie\"}]},\"layout\":{\"autotypenumbers\":\"strict\",\"colorway\":[\"#636efa\",\"#EF553B\",\"#00cc96\",\"#ab63fa\",\"#FFA15A\",\"#19d3f3\",\"#FF6692\",\"#B6E880\",\"#FF97FF\",\"#FECB52\"],\"font\":{\"color\":\"#2a3f5f\"},\"hovermode\":\"closest\",\"hoverlabel\":{\"align\":\"left\"},\"paper_bgcolor\":\"white\",\"plot_bgcolor\":\"#E5ECF6\",\"polar\":{\"bgcolor\":\"#E5ECF6\",\"angularaxis\":{\"gridcolor\":\"white\",\"linecolor\":\"white\",\"ticks\":\"\"},\"radialaxis\":{\"gridcolor\":\"white\",\"linecolor\":\"white\",\"ticks\":\"\"}},\"ternary\":{\"bgcolor\":\"#E5ECF6\",\"aaxis\":{\"gridcolor\":\"white\",\"linecolor\":\"white\",\"ticks\":\"\"},\"baxis\":{\"gridcolor\":\"white\",\"linecolor\":\"white\",\"ticks\":\"\"},\"caxis\":{\"gridcolor\":\"white\",\"linecolor\":\"white\",\"ticks\":\"\"}},\"coloraxis\":{\"colorbar\":{\"outlinewidth\":0,\"ticks\":\"\"}},\"colorscale\":{\"sequential\":[[0.0,\"#0d0887\"],[0.1111111111111111,\"#46039f\"],[0.2222222222222222,\"#7201a8\"],[0.3333333333333333,\"#9c179e\"],[0.4444444444444444,\"#bd3786\"],[0.5555555555555556,\"#d8576b\"],[0.6666666666666666,\"#ed7953\"],[0.7777777777777778,\"#fb9f3a\"],[0.8888888888888888,\"#fdca26\"],[1.0,\"#f0f921\"]],\"sequentialminus\":[[0.0,\"#0d0887\"],[0.1111111111111111,\"#46039f\"],[0.2222222222222222,\"#7201a8\"],[0.3333333333333333,\"#9c179e\"],[0.4444444444444444,\"#bd3786\"],[0.5555555555555556,\"#d8576b\"],[0.6666666666666666,\"#ed7953\"],[0.7777777777777778,\"#fb9f3a\"],[0.8888888888888888,\"#fdca26\"],[1.0,\"#f0f921\"]],\"diverging\":[[0,\"#8e0152\"],[0.1,\"#c51b7d\"],[0.2,\"#de77ae\"],[0.3,\"#f1b6da\"],[0.4,\"#fde0ef\"],[0.5,\"#f7f7f7\"],[0.6,\"#e6f5d0\"],[0.7,\"#b8e186\"],[0.8,\"#7fbc41\"],[0.9,\"#4d9221\"],[1,\"#276419\"]]},\"xaxis\":{\"gridcolor\":\"white\",\"linecolor\":\"white\",\"ticks\":\"\",\"title\":{\"standoff\":15},\"zerolinecolor\":\"white\",\"automargin\":true,\"zerolinewidth\":2},\"yaxis\":{\"gridcolor\":\"white\",\"linecolor\":\"white\",\"ticks\":\"\",\"title\":{\"standoff\":15},\"zerolinecolor\":\"white\",\"automargin\":true,\"zerolinewidth\":2},\"scene\":{\"xaxis\":{\"backgroundcolor\":\"#E5ECF6\",\"gridcolor\":\"white\",\"linecolor\":\"white\",\"showbackground\":true,\"ticks\":\"\",\"zerolinecolor\":\"white\",\"gridwidth\":2},\"yaxis\":{\"backgroundcolor\":\"#E5ECF6\",\"gridcolor\":\"white\",\"linecolor\":\"white\",\"showbackground\":true,\"ticks\":\"\",\"zerolinecolor\":\"white\",\"gridwidth\":2},\"zaxis\":{\"backgroundcolor\":\"#E5ECF6\",\"gridcolor\":\"white\",\"linecolor\":\"white\",\"showbackground\":true,\"ticks\":\"\",\"zerolinecolor\":\"white\",\"gridwidth\":2}},\"shapedefaults\":{\"line\":{\"color\":\"#2a3f5f\"}},\"annotationdefaults\":{\"arrowcolor\":\"#2a3f5f\",\"arrowhead\":0,\"arrowwidth\":1},\"geo\":{\"bgcolor\":\"white\",\"landcolor\":\"#E5ECF6\",\"subunitcolor\":\"white\",\"showland\":true,\"showlakes\":true,\"lakecolor\":\"white\"},\"title\":{\"x\":0.05},\"mapbox\":{\"style\":\"light\"}}},\"xaxis\":{\"anchor\":\"y\",\"domain\":[0.0,1.0],\"title\":{\"text\":\"Date\"}},\"yaxis\":{\"anchor\":\"x\",\"domain\":[0.0,1.0],\"title\":{\"text\":\"value\"}},\"legend\":{\"title\":{\"text\":\"variable\"},\"tracegroupgap\":0},\"margin\":{\"t\":60}},                        {\"responsive\": true}                    ).then(function(){\n",
       "                            \n",
       "var gd = document.getElementById('a50bda7e-52c5-4085-8ec5-0c77940ba400');\n",
       "var x = new MutationObserver(function (mutations, observer) {{\n",
       "        var display = window.getComputedStyle(gd).display;\n",
       "        if (!display || display === 'none') {{\n",
       "            console.log([gd, 'removed!']);\n",
       "            Plotly.purge(gd);\n",
       "            observer.disconnect();\n",
       "        }}\n",
       "}});\n",
       "\n",
       "// Listen for the removal of the full notebook cells\n",
       "var notebookContainer = gd.closest('#notebook-container');\n",
       "if (notebookContainer) {{\n",
       "    x.observe(notebookContainer, {childList: true});\n",
       "}}\n",
       "\n",
       "// Listen for the clearing of the current output cell\n",
       "var outputEl = gd.closest('.output');\n",
       "if (outputEl) {{\n",
       "    x.observe(outputEl, {childList: true});\n",
       "}}\n",
       "\n",
       "                        })                };                });            </script>        </div>"
      ]
     },
     "metadata": {},
     "output_type": "display_data"
    }
   ],
   "source": [
    "import plotly.express as px\n",
    "\n",
    "#df = px.data.gapminder().query(\"continent=='Oceania'\")\n",
    "fig = px.line(test2.plotting_value, x=\"Date\", y=test2.plotting_value.columns[1:])\n",
    "fig.show()\n"
   ]
  },
  {
   "cell_type": "code",
   "execution_count": null,
   "metadata": {},
   "outputs": [],
   "source": []
  }
 ],
 "metadata": {
  "kernelspec": {
   "display_name": "Python 3",
   "language": "python",
   "name": "python3"
  },
  "language_info": {
   "codemirror_mode": {
    "name": "ipython",
    "version": 3
   },
   "file_extension": ".py",
   "mimetype": "text/x-python",
   "name": "python",
   "nbconvert_exporter": "python",
   "pygments_lexer": "ipython3",
   "version": "3.10.6"
  },
  "orig_nbformat": 4
 },
 "nbformat": 4,
 "nbformat_minor": 2
}
