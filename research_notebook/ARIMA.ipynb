{
 "cells": [
  {
   "cell_type": "code",
   "execution_count": 17,
   "metadata": {},
   "outputs": [],
   "source": [
    "import torch\n",
    "import torch.nn as nn\n",
    "from sklearn.preprocessing import MinMaxScaler\n",
    "\n",
    "import numpy as np\n",
    "import pandas as pd\n",
    "import matplotlib.pyplot as plt"
   ]
  },
  {
   "cell_type": "code",
   "execution_count": 18,
   "metadata": {},
   "outputs": [
    {
     "data": {
      "text/html": [
       "<div>\n",
       "<style scoped>\n",
       "    .dataframe tbody tr th:only-of-type {\n",
       "        vertical-align: middle;\n",
       "    }\n",
       "\n",
       "    .dataframe tbody tr th {\n",
       "        vertical-align: top;\n",
       "    }\n",
       "\n",
       "    .dataframe thead th {\n",
       "        text-align: right;\n",
       "    }\n",
       "</style>\n",
       "<table border=\"1\" class=\"dataframe\">\n",
       "  <thead>\n",
       "    <tr style=\"text-align: right;\">\n",
       "      <th></th>\n",
       "      <th>Year</th>\n",
       "      <th>Month</th>\n",
       "      <th>Date</th>\n",
       "      <th>Population</th>\n",
       "      <th>Temperature</th>\n",
       "      <th>CPI</th>\n",
       "      <th>GDP</th>\n",
       "      <th>Peak</th>\n",
       "    </tr>\n",
       "  </thead>\n",
       "  <tbody>\n",
       "    <tr>\n",
       "      <th>251</th>\n",
       "      <td>2002</td>\n",
       "      <td>1</td>\n",
       "      <td>01-01-02</td>\n",
       "      <td>63.249167</td>\n",
       "      <td>26.4525</td>\n",
       "      <td>70.233333</td>\n",
       "      <td>480343.3333</td>\n",
       "      <td>14552.5</td>\n",
       "    </tr>\n",
       "    <tr>\n",
       "      <th>250</th>\n",
       "      <td>2002</td>\n",
       "      <td>2</td>\n",
       "      <td>01-02-02</td>\n",
       "      <td>63.208333</td>\n",
       "      <td>26.4850</td>\n",
       "      <td>70.233333</td>\n",
       "      <td>480343.3333</td>\n",
       "      <td>15260.8</td>\n",
       "    </tr>\n",
       "    <tr>\n",
       "      <th>249</th>\n",
       "      <td>2002</td>\n",
       "      <td>3</td>\n",
       "      <td>01-03-02</td>\n",
       "      <td>63.167500</td>\n",
       "      <td>26.5175</td>\n",
       "      <td>70.233333</td>\n",
       "      <td>480343.3333</td>\n",
       "      <td>16485.3</td>\n",
       "    </tr>\n",
       "    <tr>\n",
       "      <th>248</th>\n",
       "      <td>2002</td>\n",
       "      <td>4</td>\n",
       "      <td>01-04-02</td>\n",
       "      <td>63.126667</td>\n",
       "      <td>26.5500</td>\n",
       "      <td>70.233333</td>\n",
       "      <td>470404.6667</td>\n",
       "      <td>16681.1</td>\n",
       "    </tr>\n",
       "    <tr>\n",
       "      <th>247</th>\n",
       "      <td>2002</td>\n",
       "      <td>5</td>\n",
       "      <td>01-05-02</td>\n",
       "      <td>63.085833</td>\n",
       "      <td>26.5825</td>\n",
       "      <td>70.066667</td>\n",
       "      <td>470404.6667</td>\n",
       "      <td>16293.1</td>\n",
       "    </tr>\n",
       "  </tbody>\n",
       "</table>\n",
       "</div>"
      ],
      "text/plain": [
       "     Year  Month      Date  Population  Temperature        CPI          GDP  \\\n",
       "251  2002      1  01-01-02   63.249167      26.4525  70.233333  480343.3333   \n",
       "250  2002      2  01-02-02   63.208333      26.4850  70.233333  480343.3333   \n",
       "249  2002      3  01-03-02   63.167500      26.5175  70.233333  480343.3333   \n",
       "248  2002      4  01-04-02   63.126667      26.5500  70.233333  470404.6667   \n",
       "247  2002      5  01-05-02   63.085833      26.5825  70.066667  470404.6667   \n",
       "\n",
       "        Peak  \n",
       "251  14552.5  \n",
       "250  15260.8  \n",
       "249  16485.3  \n",
       "248  16681.1  \n",
       "247  16293.1  "
      ]
     },
     "execution_count": 18,
     "metadata": {},
     "output_type": "execute_result"
    }
   ],
   "source": [
    "df = pd.read_csv(\"Data/Joules_of_Siam_Data - Dataset_Strech.csv\")\n",
    "df.head()\n",
    "\n",
    "df = df[::-1]\n",
    "df.head()"
   ]
  },
  {
   "cell_type": "code",
   "execution_count": 19,
   "metadata": {},
   "outputs": [],
   "source": [
    "# Convert Date data to Datetime\n",
    "\n",
    "df['Date']= pd.to_datetime(df['Date'])\n",
    "df['Year']= df['Date'].dt.year\n",
    "df['Month']= df['Date'].dt.month\n",
    "\n",
    "df.set_index(\"Date\", inplace=True)\n"
   ]
  },
  {
   "cell_type": "code",
   "execution_count": 20,
   "metadata": {},
   "outputs": [
    {
     "name": "stdout",
     "output_type": "stream",
     "text": [
      "216\n",
      "36\n"
     ]
    }
   ],
   "source": [
    "# Split train, test\n",
    "\n",
    "train = df[df.Year < 2020]\n",
    "test  = df[df.Year >= 2020]\n",
    "\n",
    "print(len(train))\n",
    "print(len(test))"
   ]
  },
  {
   "cell_type": "code",
   "execution_count": 6,
   "metadata": {},
   "outputs": [
    {
     "name": "stdout",
     "output_type": "stream",
     "text": [
      "Performing stepwise search to minimize aic\n",
      " ARIMA(0,0,0)(1,0,1)[12] intercept   : AIC=inf, Time=8.62 sec\n",
      " ARIMA(0,0,0)(0,0,0)[12] intercept   : AIC=4159.428, Time=0.09 sec\n",
      " ARIMA(1,0,0)(1,0,0)[12] intercept   : AIC=3463.791, Time=6.26 sec\n",
      " ARIMA(0,0,1)(0,0,1)[12] intercept   : AIC=3775.246, Time=10.74 sec\n",
      " ARIMA(0,0,0)(0,0,0)[12]             : AIC=4951.618, Time=0.07 sec\n",
      " ARIMA(1,0,0)(0,0,0)[12] intercept   : AIC=3527.255, Time=0.05 sec\n",
      " ARIMA(1,0,0)(2,0,0)[12] intercept   : AIC=3450.350, Time=16.15 sec\n",
      " ARIMA(1,0,0)(2,0,1)[12] intercept   : AIC=3437.903, Time=17.30 sec\n",
      " ARIMA(1,0,0)(1,0,1)[12] intercept   : AIC=3433.114, Time=10.99 sec\n",
      " ARIMA(1,0,0)(0,0,1)[12] intercept   : AIC=3487.562, Time=5.15 sec\n",
      " ARIMA(1,0,0)(1,0,2)[12] intercept   : AIC=3438.713, Time=19.68 sec\n",
      " ARIMA(1,0,0)(0,0,2)[12] intercept   : AIC=3480.272, Time=8.16 sec\n",
      " ARIMA(1,0,0)(2,0,2)[12] intercept   : AIC=inf, Time=19.71 sec\n",
      " ARIMA(2,0,0)(1,0,1)[12] intercept   : AIC=3448.758, Time=11.83 sec\n",
      " ARIMA(1,0,1)(1,0,1)[12] intercept   : AIC=3449.915, Time=14.10 sec\n",
      " ARIMA(0,0,1)(1,0,1)[12] intercept   : AIC=3776.014, Time=11.91 sec\n",
      " ARIMA(2,0,1)(1,0,1)[12] intercept   : AIC=inf, Time=18.19 sec\n",
      " ARIMA(1,0,0)(1,0,1)[12]             : AIC=3418.172, Time=5.88 sec\n",
      " ARIMA(1,0,0)(0,0,1)[12]             : AIC=3490.664, Time=3.81 sec\n",
      " ARIMA(1,0,0)(1,0,0)[12]             : AIC=inf, Time=3.27 sec\n",
      " ARIMA(1,0,0)(2,0,1)[12]             : AIC=3419.988, Time=12.45 sec\n",
      " ARIMA(1,0,0)(1,0,2)[12]             : AIC=3419.858, Time=10.89 sec\n",
      " ARIMA(1,0,0)(0,0,0)[12]             : AIC=inf, Time=0.09 sec\n",
      " ARIMA(1,0,0)(0,0,2)[12]             : AIC=3483.524, Time=11.42 sec\n",
      " ARIMA(1,0,0)(2,0,0)[12]             : AIC=inf, Time=10.05 sec\n",
      " ARIMA(1,0,0)(2,0,2)[12]             : AIC=inf, Time=21.02 sec\n",
      " ARIMA(0,0,0)(1,0,1)[12]             : AIC=3747.054, Time=4.48 sec\n",
      " ARIMA(2,0,0)(1,0,1)[12]             : AIC=3416.104, Time=8.13 sec\n",
      " ARIMA(2,0,0)(0,0,1)[12]             : AIC=3491.375, Time=7.76 sec\n",
      " ARIMA(2,0,0)(1,0,0)[12]             : AIC=inf, Time=7.42 sec\n",
      " ARIMA(2,0,0)(2,0,1)[12]             : AIC=3417.880, Time=18.99 sec\n",
      " ARIMA(2,0,0)(1,0,2)[12]             : AIC=inf, Time=17.38 sec\n",
      " ARIMA(2,0,0)(0,0,0)[12]             : AIC=inf, Time=0.17 sec\n",
      " ARIMA(2,0,0)(0,0,2)[12]             : AIC=3487.215, Time=6.45 sec\n",
      " ARIMA(2,0,0)(2,0,0)[12]             : AIC=inf, Time=7.86 sec\n",
      " ARIMA(2,0,0)(2,0,2)[12]             : AIC=inf, Time=27.59 sec\n",
      " ARIMA(3,0,0)(1,0,1)[12]             : AIC=3407.799, Time=12.64 sec\n",
      " ARIMA(3,0,0)(0,0,1)[12]             : AIC=3485.818, Time=7.00 sec\n",
      " ARIMA(3,0,0)(1,0,0)[12]             : AIC=inf, Time=11.26 sec\n",
      " ARIMA(3,0,0)(2,0,1)[12]             : AIC=inf, Time=23.21 sec\n",
      " ARIMA(3,0,0)(1,0,2)[12]             : AIC=3408.791, Time=18.92 sec\n",
      " ARIMA(3,0,0)(0,0,0)[12]             : AIC=inf, Time=0.60 sec\n",
      " ARIMA(3,0,0)(0,0,2)[12]             : AIC=3480.899, Time=12.59 sec\n",
      " ARIMA(3,0,0)(2,0,0)[12]             : AIC=inf, Time=15.10 sec\n",
      " ARIMA(3,0,0)(2,0,2)[12]             : AIC=inf, Time=22.47 sec\n",
      " ARIMA(4,0,0)(1,0,1)[12]             : AIC=inf, Time=14.24 sec\n",
      " ARIMA(3,0,1)(1,0,1)[12]             : AIC=3413.413, Time=14.86 sec\n",
      " ARIMA(2,0,1)(1,0,1)[12]             : AIC=inf, Time=13.50 sec\n",
      " ARIMA(4,0,1)(1,0,1)[12]             : AIC=3412.426, Time=20.73 sec\n",
      " ARIMA(3,0,0)(1,0,1)[12] intercept   : AIC=3437.730, Time=16.72 sec\n",
      "\n",
      "Best model:  ARIMA(3,0,0)(1,0,1)[12]          \n",
      "Total fit time: 568.097 seconds\n"
     ]
    }
   ],
   "source": [
    "import pmdarima as pm\n",
    "\n",
    "model = pm.auto_arima(train['Peak'], \n",
    "                        m=12, seasonal=True,\n",
    "                      start_p=0, start_q=0, max_order=4, test='adf',error_action='ignore',  \n",
    "                           suppress_warnings=True,\n",
    "                      stepwise=True, trace=True)"
   ]
  },
  {
   "cell_type": "code",
   "execution_count": 9,
   "metadata": {},
   "outputs": [],
   "source": [
    "import pickle\n",
    "file = open(\"./Models/ARIMA_model.pkl\", \"wb\")\n",
    "pickle.dump(obj=model, file=file)"
   ]
  },
  {
   "cell_type": "code",
   "execution_count": 10,
   "metadata": {},
   "outputs": [],
   "source": [
    "file = open(\"./Models/ARIMA_model.pkl\", \"rb\")\n",
    "test = pickle.load(file)"
   ]
  },
  {
   "cell_type": "code",
   "execution_count": 22,
   "metadata": {},
   "outputs": [
    {
     "data": {
      "text/html": [
       "<style>#sk-container-id-4 {color: black;background-color: white;}#sk-container-id-4 pre{padding: 0;}#sk-container-id-4 div.sk-toggleable {background-color: white;}#sk-container-id-4 label.sk-toggleable__label {cursor: pointer;display: block;width: 100%;margin-bottom: 0;padding: 0.3em;box-sizing: border-box;text-align: center;}#sk-container-id-4 label.sk-toggleable__label-arrow:before {content: \"▸\";float: left;margin-right: 0.25em;color: #696969;}#sk-container-id-4 label.sk-toggleable__label-arrow:hover:before {color: black;}#sk-container-id-4 div.sk-estimator:hover label.sk-toggleable__label-arrow:before {color: black;}#sk-container-id-4 div.sk-toggleable__content {max-height: 0;max-width: 0;overflow: hidden;text-align: left;background-color: #f0f8ff;}#sk-container-id-4 div.sk-toggleable__content pre {margin: 0.2em;color: black;border-radius: 0.25em;background-color: #f0f8ff;}#sk-container-id-4 input.sk-toggleable__control:checked~div.sk-toggleable__content {max-height: 200px;max-width: 100%;overflow: auto;}#sk-container-id-4 input.sk-toggleable__control:checked~label.sk-toggleable__label-arrow:before {content: \"▾\";}#sk-container-id-4 div.sk-estimator input.sk-toggleable__control:checked~label.sk-toggleable__label {background-color: #d4ebff;}#sk-container-id-4 div.sk-label input.sk-toggleable__control:checked~label.sk-toggleable__label {background-color: #d4ebff;}#sk-container-id-4 input.sk-hidden--visually {border: 0;clip: rect(1px 1px 1px 1px);clip: rect(1px, 1px, 1px, 1px);height: 1px;margin: -1px;overflow: hidden;padding: 0;position: absolute;width: 1px;}#sk-container-id-4 div.sk-estimator {font-family: monospace;background-color: #f0f8ff;border: 1px dotted black;border-radius: 0.25em;box-sizing: border-box;margin-bottom: 0.5em;}#sk-container-id-4 div.sk-estimator:hover {background-color: #d4ebff;}#sk-container-id-4 div.sk-parallel-item::after {content: \"\";width: 100%;border-bottom: 1px solid gray;flex-grow: 1;}#sk-container-id-4 div.sk-label:hover label.sk-toggleable__label {background-color: #d4ebff;}#sk-container-id-4 div.sk-serial::before {content: \"\";position: absolute;border-left: 1px solid gray;box-sizing: border-box;top: 0;bottom: 0;left: 50%;z-index: 0;}#sk-container-id-4 div.sk-serial {display: flex;flex-direction: column;align-items: center;background-color: white;padding-right: 0.2em;padding-left: 0.2em;position: relative;}#sk-container-id-4 div.sk-item {position: relative;z-index: 1;}#sk-container-id-4 div.sk-parallel {display: flex;align-items: stretch;justify-content: center;background-color: white;position: relative;}#sk-container-id-4 div.sk-item::before, #sk-container-id-4 div.sk-parallel-item::before {content: \"\";position: absolute;border-left: 1px solid gray;box-sizing: border-box;top: 0;bottom: 0;left: 50%;z-index: -1;}#sk-container-id-4 div.sk-parallel-item {display: flex;flex-direction: column;z-index: 1;position: relative;background-color: white;}#sk-container-id-4 div.sk-parallel-item:first-child::after {align-self: flex-end;width: 50%;}#sk-container-id-4 div.sk-parallel-item:last-child::after {align-self: flex-start;width: 50%;}#sk-container-id-4 div.sk-parallel-item:only-child::after {width: 0;}#sk-container-id-4 div.sk-dashed-wrapped {border: 1px dashed gray;margin: 0 0.4em 0.5em 0.4em;box-sizing: border-box;padding-bottom: 0.4em;background-color: white;}#sk-container-id-4 div.sk-label label {font-family: monospace;font-weight: bold;display: inline-block;line-height: 1.2em;}#sk-container-id-4 div.sk-label-container {text-align: center;}#sk-container-id-4 div.sk-container {/* jupyter's `normalize.less` sets `[hidden] { display: none; }` but bootstrap.min.css set `[hidden] { display: none !important; }` so we also need the `!important` here to be able to override the default hidden behavior on the sphinx rendered scikit-learn.org. See: https://github.com/scikit-learn/scikit-learn/issues/21755 */display: inline-block !important;position: relative;}#sk-container-id-4 div.sk-text-repr-fallback {display: none;}</style><div id=\"sk-container-id-4\" class=\"sk-top-container\"><div class=\"sk-text-repr-fallback\"><pre> ARIMA(3,0,0)(1,0,1)[12]          </pre><b>In a Jupyter environment, please rerun this cell to show the HTML representation or trust the notebook. <br />On GitHub, the HTML representation is unable to render, please try loading this page with nbviewer.org.</b></div><div class=\"sk-container\" hidden><div class=\"sk-item\"><div class=\"sk-estimator sk-toggleable\"><input class=\"sk-toggleable__control sk-hidden--visually\" id=\"sk-estimator-id-4\" type=\"checkbox\" checked><label for=\"sk-estimator-id-4\" class=\"sk-toggleable__label sk-toggleable__label-arrow\">ARIMA</label><div class=\"sk-toggleable__content\"><pre> ARIMA(3,0,0)(1,0,1)[12]          </pre></div></div></div></div></div>"
      ],
      "text/plain": [
       "ARIMA(order=(3, 0, 0), scoring_args={}, seasonal_order=(1, 0, 1, 12),\n",
       "      suppress_warnings=True, with_intercept=False)"
      ]
     },
     "execution_count": 22,
     "metadata": {},
     "output_type": "execute_result"
    }
   ],
   "source": [
    "model.fit(train['Peak'])"
   ]
  },
  {
   "cell_type": "code",
   "execution_count": 37,
   "metadata": {},
   "outputs": [
    {
     "name": "stderr",
     "output_type": "stream",
     "text": [
      "/usr/local/lib/python3.10/dist-packages/statsmodels/tsa/base/tsa_model.py:834: ValueWarning: No supported index is available. Prediction results will be given with an integer index beginning at `start`.\n",
      "  return get_prediction_index(\n"
     ]
    }
   ],
   "source": [
    "results = model.predict(n_periods=120)"
   ]
  },
  {
   "cell_type": "code",
   "execution_count": 39,
   "metadata": {},
   "outputs": [],
   "source": [
    "Arima_values = results.values"
   ]
  },
  {
   "cell_type": "code",
   "execution_count": 42,
   "metadata": {},
   "outputs": [],
   "source": [
    "file = open(\"./Data/Dashboard_Data/forecast_ARIMA.pkl\", \"wb\")\n",
    "pickle.dump(Arima_values, file)"
   ]
  },
  {
   "cell_type": "code",
   "execution_count": 75,
   "metadata": {},
   "outputs": [],
   "source": [
    "# Split train set and test set from train for training.\n",
    "\n",
    "from sklearn.model_selection import train_test_split\n",
    "\n",
    "X_train, X_test, y_train, y_test = train_test_split(train.drop('Peak',axis=1), \n",
    "                                                    train['Peak'], test_size=0.30)"
   ]
  },
  {
   "cell_type": "code",
   "execution_count": 76,
   "metadata": {},
   "outputs": [
    {
     "name": "stdout",
     "output_type": "stream",
     "text": [
      "<class 'pandas.core.frame.DataFrame'>\n",
      "DatetimeIndex: 151 entries, 2011-01-07 to 2016-01-11\n",
      "Data columns (total 6 columns):\n",
      " #   Column       Non-Null Count  Dtype  \n",
      "---  ------       --------------  -----  \n",
      " 0   Year         151 non-null    int64  \n",
      " 1   Month        151 non-null    int64  \n",
      " 2   Population   151 non-null    float64\n",
      " 3   Temperature  151 non-null    float64\n",
      " 4   CPI          151 non-null    float64\n",
      " 5   GDP          151 non-null    float64\n",
      "dtypes: float64(4), int64(2)\n",
      "memory usage: 8.3 KB\n"
     ]
    }
   ],
   "source": [
    "X_train.info()"
   ]
  },
  {
   "cell_type": "code",
   "execution_count": 77,
   "metadata": {},
   "outputs": [
    {
     "name": "stdout",
     "output_type": "stream",
     "text": [
      "[18:24:11] WARNING: ../src/learner.cc:767: \n",
      "Parameters: { \"silent\" } are not used.\n",
      "[18:24:11] WARNING: ../src/learner.cc:767: \n",
      "Parameters: { \"silent\" } are not used.\n",
      "\n",
      "\n",
      "[18:24:11] WARNING: ../src/learner.cc:767: \n",
      "Parameters: { \"silent\" } are not used.\n",
      "\n",
      "[18:24:11] WARNING: ../src/learner.cc:767: \n",
      "Parameters: { \"silent\" } are not used.\n",
      "\n",
      "[18:24:11] WARNING: ../src/learner.cc:767: \n",
      "Parameters: { \"silent\" } are not used.\n",
      "\n",
      "[18:24:11] WARNING: ../src/learner.cc:767: \n",
      "Parameters: { \"silent\" } are not used.\n",
      "\n",
      "[18:24:11] WARNING: ../src/learner.cc:767: \n",
      "Parameters: { \"silent\" } are not used.\n",
      "\n",
      "[18:24:11] WARNING: ../src/learner.cc:767: \n",
      "Parameters: { \"silent\" } are not used.\n",
      "\n",
      "[18:24:12] WARNING: ../src/learner.cc:767: \n",
      "Parameters: { \"silent\" } are not used.\n",
      "\n",
      "[18:24:12] WARNING: ../src/learner.cc:767: \n",
      "Parameters: { \"silent\" } are not used.\n",
      "\n",
      "[18:24:12] WARNING: ../src/learner.cc:767: \n",
      "Parameters: { \"silent\" } are not used.\n",
      "\n",
      "[18:24:13] WARNING: ../src/learner.cc:767: \n",
      "Parameters: { \"silent\" } are not used.\n",
      "\n",
      "[18:24:13] WARNING: ../src/learner.cc:767: \n",
      "Parameters: { \"silent\" } are not used.\n",
      "\n",
      "[18:24:13] WARNING: ../src/learner.cc:767: \n",
      "Parameters: { \"silent\" } are not used.\n",
      "\n",
      "[18:24:14] WARNING: ../src/learner.cc:767: \n",
      "Parameters: { \"silent\" } are not used.\n",
      "\n",
      "[18:24:14] WARNING: ../src/learner.cc:767: \n",
      "Parameters: { \"silent\" } are not used.\n",
      "\n",
      "[18:24:15] WARNING: ../src/learner.cc:767: \n",
      "Parameters: { \"silent\" } are not used.\n",
      "\n",
      "[18:24:15] WARNING: ../src/learner.cc:767: \n",
      "Parameters: { \"silent\" } are not used.\n",
      "\n",
      "[18:24:16] WARNING: ../src/learner.cc:767: \n",
      "Parameters: { \"silent\" } are not used.\n",
      "\n",
      "[18:24:17] WARNING: ../src/learner.cc:767: \n",
      "Parameters: { \"silent\" } are not used.\n",
      "\n",
      "[18:24:18] WARNING: ../src/learner.cc:767: \n",
      "Parameters: { \"silent\" } are not used.\n",
      "\n",
      "[18:24:18] WARNING: ../src/learner.cc:767: \n",
      "Parameters: { \"silent\" } are not used.\n",
      "\n",
      "[18:24:19] WARNING: ../src/learner.cc:767: \n",
      "Parameters: { \"silent\" } are not used.\n",
      "\n",
      "[18:24:22] WARNING: ../src/learner.cc:767: \n",
      "Parameters: { \"silent\" } are not used.\n",
      "\n",
      "[18:24:23] WARNING: ../src/learner.cc:767: \n",
      "Parameters: { \"silent\" } are not used.\n",
      "\n",
      "[18:24:24] WARNING: ../src/learner.cc:767: \n",
      "Parameters: { \"silent\" } are not used.\n",
      "\n",
      "[18:24:24] WARNING: ../src/learner.cc:767: \n",
      "Parameters: { \"silent\" } are not used.\n",
      "\n",
      "[18:24:24] WARNING: ../src/learner.cc:767: \n",
      "Parameters: { \"silent\" } are not used.\n",
      "\n",
      "[18:24:24] WARNING: ../src/learner.cc:767: \n",
      "Parameters: { \"silent\" } are not used.\n",
      "\n",
      "[18:24:26] WARNING: ../src/learner.cc:767: \n",
      "Parameters: { \"silent\" } are not used.\n",
      "\n",
      "[18:24:26] WARNING: ../src/learner.cc:767: \n",
      "Parameters: { \"silent\" } are not used.\n",
      "\n",
      "[18:24:27] WARNING: ../src/learner.cc:767: \n",
      "Parameters: { \"silent\" } are not used.\n",
      "\n",
      "[18:24:27] WARNING: ../src/learner.cc:767: \n",
      "Parameters: { \"silent\" } are not used.\n",
      "\n",
      "[18:24:28] WARNING: ../src/learner.cc:767: \n",
      "Parameters: { \"silent\" } are not used.\n",
      "\n",
      "[18:24:28] WARNING: ../src/learner.cc:767: \n",
      "Parameters: { \"silent\" } are not used.\n",
      "\n",
      "[18:24:28] WARNING: ../src/learner.cc:767: \n",
      "Parameters: { \"silent\" } are not used.\n",
      "\n",
      "[18:24:28] WARNING: ../src/learner.cc:767: \n",
      "Parameters: { \"silent\" } are not used.\n",
      "\n",
      "[18:24:28] WARNING: ../src/learner.cc:767: \n",
      "Parameters: { \"silent\" } are not used.\n",
      "\n",
      "[18:24:30] WARNING: ../src/learner.cc:767: \n",
      "Parameters: { \"silent\" } are not used.\n",
      "\n",
      "[18:24:30] WARNING: ../src/learner.cc:767: \n",
      "Parameters: { \"silent\" } are not used.\n",
      "\n",
      "[18:24:32] WARNING: ../src/learner.cc:767: \n",
      "Parameters: { \"silent\" } are not used.\n",
      "\n",
      "[18:24:34] WARNING: ../src/learner.cc:767: \n",
      "Parameters: { \"silent\" } are not used.\n",
      "\n",
      "[18:24:35] WARNING: ../src/learner.cc:767: \n",
      "Parameters: { \"silent\" } are not used.\n",
      "\n",
      "[18:24:35] WARNING: ../src/learner.cc:767: \n",
      "Parameters: { \"silent\" } are not used.\n",
      "\n",
      "[18:24:35] WARNING: ../src/learner.cc:767: \n",
      "Parameters: { \"silent\" } are not used.\n",
      "\n",
      "[18:24:36] WARNING: ../src/learner.cc:767: \n",
      "Parameters: { \"silent\" } are not used.\n",
      "\n",
      "[18:24:36] WARNING: ../src/learner.cc:767: \n",
      "Parameters: { \"silent\" } are not used.\n",
      "\n",
      "[18:24:38] WARNING: ../src/learner.cc:767: \n",
      "Parameters: { \"silent\" } are not used.\n",
      "\n",
      "[18:24:38] WARNING: ../src/learner.cc:767: \n",
      "Parameters: { \"silent\" } are not used.\n",
      "\n",
      "[18:24:40] WARNING: ../src/learner.cc:767: \n",
      "Parameters: { \"silent\" } are not used.\n",
      "\n",
      "[18:24:41] WARNING: ../src/learner.cc:767: \n",
      "Parameters: { \"silent\" } are not used.\n",
      "\n",
      "[18:24:41] WARNING: ../src/learner.cc:767: \n",
      "Parameters: { \"silent\" } are not used.\n",
      "\n",
      "[18:24:42] WARNING: ../src/learner.cc:767: \n",
      "Parameters: { \"silent\" } are not used.\n",
      "\n",
      "[18:24:42] WARNING: ../src/learner.cc:767: \n",
      "Parameters: { \"silent\" } are not used.\n",
      "\n",
      "[18:24:42] WARNING: ../src/learner.cc:767: \n",
      "Parameters: { \"silent\" } are not used.\n",
      "\n",
      "[18:24:43] WARNING: ../src/learner.cc:767: \n",
      "Parameters: { \"silent\" } are not used.\n",
      "\n",
      "[18:24:43] WARNING: ../src/learner.cc:767: \n",
      "Parameters: { \"silent\" } are not used.\n",
      "\n",
      "[18:24:43] WARNING: ../src/learner.cc:767: \n",
      "Parameters: { \"silent\" } are not used.\n",
      "\n",
      "[18:24:44] WARNING: ../src/learner.cc:767: \n",
      "Parameters: { \"silent\" } are not used.\n",
      "\n",
      "[18:24:44] WARNING: ../src/learner.cc:767: \n",
      "Parameters: { \"silent\" } are not used.\n",
      "\n",
      "[18:24:48] WARNING: ../src/learner.cc:767: \n",
      "Parameters: { \"silent\" } are not used.\n",
      "\n",
      "[18:24:48] WARNING: ../src/learner.cc:767: \n",
      "Parameters: { \"silent\" } are not used.\n",
      "\n",
      "[18:24:48] WARNING: ../src/learner.cc:767: \n",
      "Parameters: { \"silent\" } are not used.\n",
      "\n",
      "[18:24:49] WARNING: ../src/learner.cc:767: \n",
      "Parameters: { \"silent\" } are not used.\n",
      "\n",
      "[18:24:49] WARNING: ../src/learner.cc:767: \n",
      "Parameters: { \"silent\" } are not used.\n",
      "\n",
      "[18:24:51] WARNING: ../src/learner.cc:767: \n",
      "Parameters: { \"silent\" } are not used.\n",
      "\n",
      "[18:24:51] WARNING: ../src/learner.cc:767: \n",
      "Parameters: { \"silent\" } are not used.\n",
      "\n",
      "[18:24:51] WARNING: ../src/learner.cc:767: \n",
      "Parameters: { \"silent\" } are not used.\n",
      "\n",
      "[18:24:52] WARNING: ../src/learner.cc:767: \n",
      "Parameters: { \"silent\" } are not used.\n",
      "\n",
      "[18:24:52] WARNING: ../src/learner.cc:767: \n",
      "Parameters: { \"silent\" } are not used.\n",
      "\n",
      "[18:24:52] WARNING: ../src/learner.cc:767: \n",
      "Parameters: { \"silent\" } are not used.\n",
      "\n",
      "[18:24:54] WARNING: ../src/learner.cc:767: \n",
      "Parameters: { \"silent\" } are not used.\n",
      "\n",
      "[18:24:55] WARNING: ../src/learner.cc:767: \n",
      "Parameters: { \"silent\" } are not used.\n",
      "\n",
      "[18:24:56] WARNING: ../src/learner.cc:767: \n",
      "Parameters: { \"silent\" } are not used.\n",
      "\n",
      "[18:24:57] WARNING: ../src/learner.cc:767: \n",
      "Parameters: { \"silent\" } are not used.\n",
      "\n",
      "[18:24:58] WARNING: ../src/learner.cc:767: \n",
      "Parameters: { \"silent\" } are not used.\n",
      "\n",
      "[18:25:00] WARNING: ../src/learner.cc:767: \n",
      "Parameters: { \"silent\" } are not used.\n",
      "\n",
      "[18:25:00] WARNING: ../src/learner.cc:767: \n",
      "Parameters: { \"silent\" } are not used.\n",
      "\n",
      "[18:25:01] WARNING: ../src/learner.cc:767: \n",
      "Parameters: { \"silent\" } are not used.\n",
      "\n",
      "[18:25:02] WARNING: ../src/learner.cc:767: \n",
      "Parameters: { \"silent\" } are not used.\n",
      "\n",
      "[18:25:03] WARNING: ../src/learner.cc:767: \n",
      "Parameters: { \"silent\" } are not used.\n",
      "\n",
      "[18:25:03] WARNING: ../src/learner.cc:767: \n",
      "Parameters: { \"silent\" } are not used.\n",
      "\n",
      "[18:25:03] WARNING: ../src/learner.cc:767: \n",
      "Parameters: { \"silent\" } are not used.\n",
      "\n",
      "[18:25:05] WARNING: ../src/learner.cc:767: \n",
      "Parameters: { \"silent\" } are not used.\n",
      "\n",
      "[18:25:06] WARNING: ../src/learner.cc:767: \n",
      "Parameters: { \"silent\" } are not used.\n",
      "\n",
      "[18:25:08] WARNING: ../src/learner.cc:767: \n",
      "Parameters: { \"silent\" } are not used.\n",
      "\n",
      "[18:25:09] WARNING: ../src/learner.cc:767: \n",
      "Parameters: { \"silent\" } are not used.\n",
      "\n",
      "[18:25:12] WARNING: ../src/learner.cc:767: \n",
      "Parameters: { \"silent\" } are not used.\n",
      "\n",
      "[18:25:12] WARNING: ../src/learner.cc:767: \n",
      "Parameters: { \"silent\" } are not used.\n",
      "\n",
      "[18:25:12] WARNING: ../src/learner.cc:767: \n",
      "Parameters: { \"silent\" } are not used.\n",
      "\n",
      "[18:25:13] WARNING: ../src/learner.cc:767: \n",
      "Parameters: { \"silent\" } are not used.\n",
      "\n",
      "[18:25:13] WARNING: ../src/learner.cc:767: \n",
      "Parameters: { \"silent\" } are not used.\n",
      "\n",
      "[18:25:15] WARNING: ../src/learner.cc:767: \n",
      "Parameters: { \"silent\" } are not used.\n",
      "\n",
      "[18:25:16] WARNING: ../src/learner.cc:767: \n",
      "Parameters: { \"silent\" } are not used.\n",
      "\n",
      "[18:25:16] WARNING: ../src/learner.cc:767: \n",
      "Parameters: { \"silent\" } are not used.\n",
      "\n",
      "[18:25:16] WARNING: ../src/learner.cc:767: \n",
      "Parameters: { \"silent\" } are not used.\n",
      "\n",
      "[18:25:16] WARNING: ../src/learner.cc:767: \n",
      "Parameters: { \"silent\" } are not used.\n",
      "\n",
      "[18:25:18] WARNING: ../src/learner.cc:767: \n",
      "Parameters: { \"silent\" } are not used.\n",
      "\n",
      "[18:25:19] WARNING: ../src/learner.cc:767: \n",
      "Parameters: { \"silent\" } are not used.\n",
      "\n",
      "[18:25:20] WARNING: ../src/learner.cc:767: \n",
      "Parameters: { \"silent\" } are not used.\n",
      "\n",
      "[18:25:20] WARNING: ../src/learner.cc:767: \n",
      "Parameters: { \"silent\" } are not used.\n",
      "\n",
      "[18:25:22] WARNING: ../src/learner.cc:767: \n",
      "Parameters: { \"silent\" } are not used.\n",
      "\n",
      "[18:25:22] WARNING: ../src/learner.cc:767: \n",
      "Parameters: { \"silent\" } are not used.\n",
      "\n",
      "[18:25:23] WARNING: ../src/learner.cc:767: \n",
      "Parameters: { \"silent\" } are not used.\n",
      "\n",
      "[18:25:25] WARNING: ../src/learner.cc:767: \n",
      "Parameters: { \"silent\" } are not used.\n",
      "\n",
      "[18:25:26] WARNING: ../src/learner.cc:767: \n",
      "Parameters: { \"silent\" } are not used.\n",
      "\n",
      "[18:25:27] WARNING: ../src/learner.cc:767: \n",
      "Parameters: { \"silent\" } are not used.\n",
      "\n",
      "[18:25:28] WARNING: ../src/learner.cc:767: \n",
      "Parameters: { \"silent\" } are not used.\n",
      "\n",
      "[18:25:32] WARNING: ../src/learner.cc:767: \n",
      "Parameters: { \"silent\" } are not used.\n",
      "\n",
      "0.9180619682307906\n",
      "{'colsample_bytree': 0.7, 'learning_rate': 0.05, 'max_depth': 7, 'min_child_weight': 4, 'n_estimators': 500, 'nthread': 4, 'objective': 'count:poisson', 'silent': 1, 'subsample': 0.7}\n"
     ]
    }
   ],
   "source": [
    "import xgboost\n",
    "from xgboost import XGBRegressor\n",
    "from sklearn.model_selection import GridSearchCV\n",
    "\n",
    "model = XGBRegressor(objective='count:poisson',n_estimators=300, verbosity=3)\n",
    "\n",
    "# Various hyper-parameters to tune\n",
    "xgb1 = XGBRegressor()\n",
    "parameters = {'nthread':[4], #when use hyperthread, xgboost may become slower\n",
    "              'objective':['reg:squarederror', 'count:poisson'],\n",
    "              'learning_rate': [.03, 0.05, .07], #so called `eta` value\n",
    "              'max_depth': [5, 6, 7],\n",
    "              'min_child_weight': [4],\n",
    "              'silent': [1],\n",
    "              'subsample': [0.7],\n",
    "              'colsample_bytree': [0.7],\n",
    "              'n_estimators': [50, 100, 500]}\n",
    "\n",
    "xgb_grid = GridSearchCV(xgb1,\n",
    "                        parameters,\n",
    "                        cv = 2,\n",
    "                        n_jobs = 5,\n",
    "                        verbose=False)\n",
    "\n",
    "\n",
    "#xgbmodel = model.fit(X_train, y_train)\n",
    "\n",
    "xgb_grid.fit(X_train, y_train)\n",
    "print(xgb_grid.best_score_)\n",
    "print(xgb_grid.best_params_) "
   ]
  },
  {
   "cell_type": "code",
   "execution_count": 78,
   "metadata": {},
   "outputs": [],
   "source": [
    "# Train using the best parameters\n",
    "#parameters = {'colsample_bytree': 0.7, 'learning_rate': 0.05, 'max_depth': 7, 'min_child_weight': 4, 'n_estimators': 100, 'nthread': 4, 'objective': 'reg:squarederror', 'silent': 1, 'subsample': 0.7}\n",
    "# For 4 features\n",
    "#model = XGBRegressor(colsample_bytree=0.7, learning_rate=0.05, max_depth=7, min_child_weight=4, n_estimators=100, n_thread=4, objective='reg:squarederror', silent=1, subsample=0.7)\n",
    "\n",
    "# For 5 features\n",
    "model = XGBRegressor(colsample_bytree=0.7, learning_rate=0.05, max_depth=7, min_child_weight=4, n_estimators=500, n_thread=4, objective='count:poisson', silent=1, subsample=0.7)"
   ]
  },
  {
   "cell_type": "code",
   "execution_count": 79,
   "metadata": {},
   "outputs": [
    {
     "name": "stdout",
     "output_type": "stream",
     "text": [
      "[18:26:46] WARNING: ../src/learner.cc:767: \n",
      "Parameters: { \"n_thread\", \"silent\" } are not used.\n",
      "\n"
     ]
    }
   ],
   "source": [
    "# Fit model\n",
    "xgbmodel = model.fit(X_train, y_train)"
   ]
  },
  {
   "cell_type": "code",
   "execution_count": 80,
   "metadata": {},
   "outputs": [
    {
     "name": "stdout",
     "output_type": "stream",
     "text": [
      "XGBoost - Root Mean Square Error (RMSE): 869.025\n"
     ]
    }
   ],
   "source": [
    "# Hmmm, a lot of errors\n",
    "\n",
    "from sklearn.metrics import mean_squared_error\n",
    "from math import sqrt\n",
    "\n",
    "predictions_xgb = model.predict(X_test)\n",
    "rmse_xgb = sqrt(mean_squared_error(y_test, predictions_xgb))\n",
    "print(\"XGBoost - Root Mean Square Error (RMSE): %.3f\" % rmse_xgb)"
   ]
  },
  {
   "cell_type": "code",
   "execution_count": 81,
   "metadata": {},
   "outputs": [
    {
     "data": {
      "text/plain": [
       "array([21807.918, 20343.31 , 26161.666, 23725.88 , 24503.568, 17492.85 ,\n",
       "       20832.83 , 27288.691, 22748.21 , 20909.72 , 26498.238, 18378.562,\n",
       "       16257.786, 27165.2  , 21492.844, 24348.592, 22291.484, 26075.084,\n",
       "       21441.621, 21010.727, 17151.758, 20433.316, 26098.943, 26585.084,\n",
       "       28137.56 , 26465.938, 18250.379, 21145.023, 18484.996, 16352.593,\n",
       "       22575.727, 17151.758, 22291.484, 30228.393, 27205.436, 18253.756,\n",
       "       15906.67 , 16357.038, 22227.863, 18407.785, 21044.234, 22302.266,\n",
       "       18345.693, 25058.902, 24700.135, 23258.084, 23403.13 , 20041.178,\n",
       "       21722.586, 18397.361, 19291.193, 24096.361, 22263.123, 20539.6  ,\n",
       "       23702.045, 20854.695, 18457.656, 25087.453, 21035.146, 16560.508,\n",
       "       19987.295, 26217.812, 25476.764, 23702.045, 19003.309],\n",
       "      dtype=float32)"
      ]
     },
     "execution_count": 81,
     "metadata": {},
     "output_type": "execute_result"
    }
   ],
   "source": [
    "predictions_xgb"
   ]
  },
  {
   "cell_type": "code",
   "execution_count": 82,
   "metadata": {},
   "outputs": [
    {
     "data": {
      "text/plain": [
       "0.053312136404359486"
      ]
     },
     "execution_count": 82,
     "metadata": {},
     "output_type": "execute_result"
    }
   ],
   "source": [
    "# Normalize root mean squared, pretty good\n",
    "\n",
    "rmse_xgb/(train['Peak'].max()-train['Peak'].min())"
   ]
  },
  {
   "cell_type": "code",
   "execution_count": 83,
   "metadata": {},
   "outputs": [],
   "source": [
    "# Set index for test set\n",
    "test = test.set_index('Date')"
   ]
  },
  {
   "cell_type": "code",
   "execution_count": 84,
   "metadata": {},
   "outputs": [],
   "source": [
    "test_wo_peak = test.drop('Peak',axis=1)"
   ]
  },
  {
   "cell_type": "code",
   "execution_count": 85,
   "metadata": {},
   "outputs": [],
   "source": [
    "# Make predictions\n",
    "\n",
    "predictions = model.predict(test_wo_peak)\n",
    "#predictions = pd.DataFrame({'Predictions': predictions})"
   ]
  },
  {
   "cell_type": "code",
   "execution_count": 86,
   "metadata": {},
   "outputs": [
    {
     "name": "stdout",
     "output_type": "stream",
     "text": [
      "XGBoost - Root Mean Square Error (RMSE) for test set: 2168.758\n"
     ]
    }
   ],
   "source": [
    "# Test with unobserved data\n",
    "predictions\n",
    "rmse_xgb_test = sqrt(mean_squared_error(test[\"Peak\"], predictions))\n",
    "print(\"XGBoost - Root Mean Square Error (RMSE) for test set: %.3f\" % rmse_xgb_test)"
   ]
  },
  {
   "cell_type": "code",
   "execution_count": 87,
   "metadata": {},
   "outputs": [
    {
     "data": {
      "text/plain": [
       "0.1305312938426074"
      ]
     },
     "execution_count": 87,
     "metadata": {},
     "output_type": "execute_result"
    }
   ],
   "source": [
    "# Normalize root mean squared, pretty good\n",
    "rmse_xgb/(test['Peak'].max()-test['Peak'].min())"
   ]
  }
 ],
 "metadata": {
  "kernelspec": {
   "display_name": "Python 3",
   "language": "python",
   "name": "python3"
  },
  "language_info": {
   "codemirror_mode": {
    "name": "ipython",
    "version": 3
   },
   "file_extension": ".py",
   "mimetype": "text/x-python",
   "name": "python",
   "nbconvert_exporter": "python",
   "pygments_lexer": "ipython3",
   "version": "3.10.6"
  },
  "orig_nbformat": 4
 },
 "nbformat": 4,
 "nbformat_minor": 2
}
