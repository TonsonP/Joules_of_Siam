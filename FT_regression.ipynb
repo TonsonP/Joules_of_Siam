{
 "cells": [
  {
   "cell_type": "code",
   "execution_count": 1,
   "metadata": {},
   "outputs": [
    {
     "data": {
      "text/html": [
       "<div>\n",
       "<style scoped>\n",
       "    .dataframe tbody tr th:only-of-type {\n",
       "        vertical-align: middle;\n",
       "    }\n",
       "\n",
       "    .dataframe tbody tr th {\n",
       "        vertical-align: top;\n",
       "    }\n",
       "\n",
       "    .dataframe thead th {\n",
       "        text-align: right;\n",
       "    }\n",
       "</style>\n",
       "<table border=\"1\" class=\"dataframe\">\n",
       "  <thead>\n",
       "    <tr style=\"text-align: right;\">\n",
       "      <th></th>\n",
       "      <th>Year</th>\n",
       "      <th>Population (Million persons)</th>\n",
       "      <th>GDP Chain volume measures (billion baht)</th>\n",
       "      <th>Core Consumer Price Index</th>\n",
       "      <th>Trade balance (Billions of USD)</th>\n",
       "      <th>Total energry generation</th>\n",
       "      <th>Temperature</th>\n",
       "      <th>Rainfall</th>\n",
       "      <th>Exchange rate</th>\n",
       "      <th>Total_Comsumption</th>\n",
       "    </tr>\n",
       "  </thead>\n",
       "  <tbody>\n",
       "    <tr>\n",
       "      <th>0</th>\n",
       "      <td>2022</td>\n",
       "      <td>66.09</td>\n",
       "      <td>10680.0</td>\n",
       "      <td>103.04</td>\n",
       "      <td>36.8</td>\n",
       "      <td>215824</td>\n",
       "      <td>26.30</td>\n",
       "      <td>2011.9</td>\n",
       "      <td>35.07</td>\n",
       "      <td>197256</td>\n",
       "    </tr>\n",
       "    <tr>\n",
       "      <th>1</th>\n",
       "      <td>2021</td>\n",
       "      <td>66.17</td>\n",
       "      <td>10409.9</td>\n",
       "      <td>100.52</td>\n",
       "      <td>32.4</td>\n",
       "      <td>209717</td>\n",
       "      <td>26.91</td>\n",
       "      <td>1759.3</td>\n",
       "      <td>31.98</td>\n",
       "      <td>190468</td>\n",
       "    </tr>\n",
       "    <tr>\n",
       "      <th>2</th>\n",
       "      <td>2020</td>\n",
       "      <td>66.19</td>\n",
       "      <td>10246.5</td>\n",
       "      <td>100.29</td>\n",
       "      <td>40.4</td>\n",
       "      <td>206034</td>\n",
       "      <td>27.43</td>\n",
       "      <td>1527.3</td>\n",
       "      <td>31.30</td>\n",
       "      <td>187046</td>\n",
       "    </tr>\n",
       "    <tr>\n",
       "      <th>3</th>\n",
       "      <td>2019</td>\n",
       "      <td>66.56</td>\n",
       "      <td>10923.3</td>\n",
       "      <td>100.00</td>\n",
       "      <td>26.7</td>\n",
       "      <td>212050</td>\n",
       "      <td>27.52</td>\n",
       "      <td>1343.4</td>\n",
       "      <td>31.05</td>\n",
       "      <td>192960</td>\n",
       "    </tr>\n",
       "    <tr>\n",
       "      <th>4</th>\n",
       "      <td>2018</td>\n",
       "      <td>66.41</td>\n",
       "      <td>10693.2</td>\n",
       "      <td>99.48</td>\n",
       "      <td>22.4</td>\n",
       "      <td>204428</td>\n",
       "      <td>26.92</td>\n",
       "      <td>1660.9</td>\n",
       "      <td>32.31</td>\n",
       "      <td>187832</td>\n",
       "    </tr>\n",
       "  </tbody>\n",
       "</table>\n",
       "</div>"
      ],
      "text/plain": [
       "   Year  Population (Million persons)  \\\n",
       "0  2022                         66.09   \n",
       "1  2021                         66.17   \n",
       "2  2020                         66.19   \n",
       "3  2019                         66.56   \n",
       "4  2018                         66.41   \n",
       "\n",
       "   GDP Chain volume measures (billion baht)  Core Consumer Price Index  \\\n",
       "0                                   10680.0                     103.04   \n",
       "1                                   10409.9                     100.52   \n",
       "2                                   10246.5                     100.29   \n",
       "3                                   10923.3                     100.00   \n",
       "4                                   10693.2                      99.48   \n",
       "\n",
       "   Trade balance (Billions of USD)  Total energry generation  Temperature  \\\n",
       "0                             36.8                    215824        26.30   \n",
       "1                             32.4                    209717        26.91   \n",
       "2                             40.4                    206034        27.43   \n",
       "3                             26.7                    212050        27.52   \n",
       "4                             22.4                    204428        26.92   \n",
       "\n",
       "   Rainfall  Exchange rate  Total_Comsumption  \n",
       "0    2011.9          35.07             197256  \n",
       "1    1759.3          31.98             190468  \n",
       "2    1527.3          31.30             187046  \n",
       "3    1343.4          31.05             192960  \n",
       "4    1660.9          32.31             187832  "
      ]
     },
     "execution_count": 1,
     "metadata": {},
     "output_type": "execute_result"
    }
   ],
   "source": [
    "import pandas as pd\n",
    "df = pd.read_csv('./Joules_of_Siam_Data - Dataset_1.csv')\n",
    "df.head()"
   ]
  },
  {
   "cell_type": "code",
   "execution_count": 2,
   "metadata": {},
   "outputs": [],
   "source": [
    "df.rename(columns={'Population (Million persons)':'Population', 'GDP Chain volume measures (billion baht)': 'GDP'}, inplace=True)"
   ]
  },
  {
   "cell_type": "code",
   "execution_count": 3,
   "metadata": {},
   "outputs": [],
   "source": [
    "from sklearn.preprocessing import StandardScaler\n",
    "\n",
    "#2. create the object\n",
    "sc = StandardScaler()\n",
    "\n",
    "#3. fit and transform\n",
    "standardized_data = sc.fit_transform(df[['Population','GDP','Temperature', 'Rainfall']])"
   ]
  },
  {
   "cell_type": "code",
   "execution_count": 5,
   "metadata": {},
   "outputs": [],
   "source": [
    "from sklearn.model_selection import train_test_split\n",
    "X = standardized_data\n",
    "y = df.iloc[:,-1]\n",
    "X_train, X_test, y_train, y_test = train_test_split(X, y, test_size=0.4, random_state=555)"
   ]
  },
  {
   "cell_type": "code",
   "execution_count": 6,
   "metadata": {},
   "outputs": [
    {
     "data": {
      "text/plain": [
       "((12, 4), (9, 4), (12,), (9,))"
      ]
     },
     "execution_count": 6,
     "metadata": {},
     "output_type": "execute_result"
    }
   ],
   "source": [
    "X_train.shape, X_test.shape, y_train.shape, y_test.shape"
   ]
  },
  {
   "cell_type": "code",
   "execution_count": 7,
   "metadata": {},
   "outputs": [
    {
     "data": {
      "text/plain": [
       "0.9900762880145798"
      ]
     },
     "execution_count": 7,
     "metadata": {},
     "output_type": "execute_result"
    }
   ],
   "source": [
    "from sklearn.linear_model import LinearRegression\n",
    "lr = LinearRegression()\n",
    "lr.fit(X_train, y_train)\n",
    "lr.score(X_test, y_test)"
   ]
  },
  {
   "cell_type": "code",
   "execution_count": 8,
   "metadata": {},
   "outputs": [
    {
     "data": {
      "text/plain": [
       "154945.44315362416"
      ]
     },
     "execution_count": 8,
     "metadata": {},
     "output_type": "execute_result"
    }
   ],
   "source": [
    "lr.intercept_"
   ]
  },
  {
   "cell_type": "code",
   "execution_count": 9,
   "metadata": {},
   "outputs": [
    {
     "data": {
      "text/plain": [
       "array([ -976.61832248, 29480.94349372,  1699.86974715,  2460.06296657])"
      ]
     },
     "execution_count": 9,
     "metadata": {},
     "output_type": "execute_result"
    }
   ],
   "source": [
    "lr.coef_"
   ]
  },
  {
   "cell_type": "code",
   "execution_count": 10,
   "metadata": {},
   "outputs": [
    {
     "data": {
      "text/plain": [
       "<AxesSubplot:>"
      ]
     },
     "execution_count": 10,
     "metadata": {},
     "output_type": "execute_result"
    },
    {
     "data": {
      "image/png": "[encoded data removed]",
      "text/plain": [
       "<Figure size 432x288 with 1 Axes>"
      ]
     },
     "metadata": {
      "needs_background": "light"
     },
     "output_type": "display_data"
    }
   ],
   "source": [
    "import seaborn as sns\n",
    "pd.Series(lr.coef_, index=['Population','GDP','Temperature', 'Rainfall']).nlargest(4).plot(kind='barh')"
   ]
  },
  {
   "cell_type": "code",
   "execution_count": 11,
   "metadata": {},
   "outputs": [],
   "source": [
    "temp = pd.DataFrame(lr.coef_)"
   ]
  },
  {
   "cell_type": "code",
   "execution_count": 12,
   "metadata": {},
   "outputs": [],
   "source": [
    "yhat = lr.predict(X_test)"
   ]
  },
  {
   "cell_type": "code",
   "execution_count": 13,
   "metadata": {},
   "outputs": [
    {
     "data": {
      "text/plain": [
       "(9042437.741541948, 3007.0646387369106, 2323.008172420319)"
      ]
     },
     "execution_count": 13,
     "metadata": {},
     "output_type": "execute_result"
    }
   ],
   "source": [
    "from sklearn.metrics import mean_squared_error\n",
    "from sklearn.metrics import mean_absolute_error\n",
    "import math\n",
    "\n",
    "MSE  = mean_squared_error(y_test, yhat)\n",
    "RMSE = math.sqrt(MSE)\n",
    "MAE  = mean_absolute_error(y_test, yhat)\n",
    "\n",
    "MSE, RMSE, MAE"
   ]
  }
 ],
 "metadata": {
  "kernelspec": {
   "display_name": "Python 3",
   "language": "python",
   "name": "python3"
  },
  "language_info": {
   "codemirror_mode": {
    "name": "ipython",
    "version": 3
   },
   "file_extension": ".py",
   "mimetype": "text/x-python",
   "name": "python",
   "nbconvert_exporter": "python",
   "pygments_lexer": "ipython3",
   "version": "3.10.4"
  },
  "orig_nbformat": 4
 },
 "nbformat": 4,
 "nbformat_minor": 2
}
