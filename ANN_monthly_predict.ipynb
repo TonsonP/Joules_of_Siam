{
 "cells": [
  {
   "cell_type": "code",
   "execution_count": 1,
   "metadata": {},
   "outputs": [
    {
     "data": {
      "text/html": [
       "<div>\n",
       "<style scoped>\n",
       "    .dataframe tbody tr th:only-of-type {\n",
       "        vertical-align: middle;\n",
       "    }\n",
       "\n",
       "    .dataframe tbody tr th {\n",
       "        vertical-align: top;\n",
       "    }\n",
       "\n",
       "    .dataframe thead th {\n",
       "        text-align: right;\n",
       "    }\n",
       "</style>\n",
       "<table border=\"1\" class=\"dataframe\">\n",
       "  <thead>\n",
       "    <tr style=\"text-align: right;\">\n",
       "      <th></th>\n",
       "      <th>Year</th>\n",
       "      <th>Month</th>\n",
       "      <th>Date</th>\n",
       "      <th>Population (million)</th>\n",
       "      <th>Temperature (celsius)</th>\n",
       "      <th>CPI</th>\n",
       "      <th>GDP (million bahts)</th>\n",
       "      <th>Peak Load (MW)</th>\n",
       "      <th>Generation (GWh)</th>\n",
       "      <th>Consumption (GWh)</th>\n",
       "    </tr>\n",
       "  </thead>\n",
       "  <tbody>\n",
       "    <tr>\n",
       "      <th>0</th>\n",
       "      <td>2002</td>\n",
       "      <td>Jan</td>\n",
       "      <td>2002-Jan</td>\n",
       "      <td>63.25</td>\n",
       "      <td>26.45</td>\n",
       "      <td>70.23</td>\n",
       "      <td>480343.33</td>\n",
       "      <td>14552.5</td>\n",
       "      <td>8261.93</td>\n",
       "      <td>7326.80</td>\n",
       "    </tr>\n",
       "    <tr>\n",
       "      <th>1</th>\n",
       "      <td>2002</td>\n",
       "      <td>Feb</td>\n",
       "      <td>2002-Feb</td>\n",
       "      <td>63.21</td>\n",
       "      <td>26.49</td>\n",
       "      <td>70.23</td>\n",
       "      <td>480343.33</td>\n",
       "      <td>15260.8</td>\n",
       "      <td>8187.95</td>\n",
       "      <td>7359.06</td>\n",
       "    </tr>\n",
       "    <tr>\n",
       "      <th>2</th>\n",
       "      <td>2002</td>\n",
       "      <td>Mar</td>\n",
       "      <td>2002-Mar</td>\n",
       "      <td>63.17</td>\n",
       "      <td>26.52</td>\n",
       "      <td>70.23</td>\n",
       "      <td>480343.33</td>\n",
       "      <td>16485.3</td>\n",
       "      <td>9687.11</td>\n",
       "      <td>8471.25</td>\n",
       "    </tr>\n",
       "    <tr>\n",
       "      <th>3</th>\n",
       "      <td>2002</td>\n",
       "      <td>Apr</td>\n",
       "      <td>2002-Apr</td>\n",
       "      <td>63.13</td>\n",
       "      <td>26.55</td>\n",
       "      <td>70.23</td>\n",
       "      <td>470404.67</td>\n",
       "      <td>16681.1</td>\n",
       "      <td>9378.36</td>\n",
       "      <td>8461.08</td>\n",
       "    </tr>\n",
       "    <tr>\n",
       "      <th>4</th>\n",
       "      <td>2002</td>\n",
       "      <td>May</td>\n",
       "      <td>2002-May</td>\n",
       "      <td>63.09</td>\n",
       "      <td>26.58</td>\n",
       "      <td>70.07</td>\n",
       "      <td>470404.67</td>\n",
       "      <td>16293.1</td>\n",
       "      <td>9654.67</td>\n",
       "      <td>8730.29</td>\n",
       "    </tr>\n",
       "  </tbody>\n",
       "</table>\n",
       "</div>"
      ],
      "text/plain": [
       "   Year Month      Date  Population (million)  Temperature (celsius)    CPI   \n",
       "0  2002   Jan  2002-Jan                 63.25                  26.45  70.23  \\\n",
       "1  2002   Feb  2002-Feb                 63.21                  26.49  70.23   \n",
       "2  2002   Mar  2002-Mar                 63.17                  26.52  70.23   \n",
       "3  2002   Apr  2002-Apr                 63.13                  26.55  70.23   \n",
       "4  2002   May  2002-May                 63.09                  26.58  70.07   \n",
       "\n",
       "   GDP (million bahts)  Peak Load (MW)  Generation (GWh)  Consumption (GWh)  \n",
       "0            480343.33         14552.5           8261.93            7326.80  \n",
       "1            480343.33         15260.8           8187.95            7359.06  \n",
       "2            480343.33         16485.3           9687.11            8471.25  \n",
       "3            470404.67         16681.1           9378.36            8461.08  \n",
       "4            470404.67         16293.1           9654.67            8730.29  "
      ]
     },
     "execution_count": 1,
     "metadata": {},
     "output_type": "execute_result"
    }
   ],
   "source": [
    "import pandas as pd\n",
    "\n",
    "df1 = pd.read_csv('monthly_dataset.csv')\n",
    "\n",
    "df1.head()"
   ]
  },
  {
   "cell_type": "code",
   "execution_count": 2,
   "metadata": {},
   "outputs": [
    {
     "data": {
      "text/html": [
       "<div>\n",
       "<style scoped>\n",
       "    .dataframe tbody tr th:only-of-type {\n",
       "        vertical-align: middle;\n",
       "    }\n",
       "\n",
       "    .dataframe tbody tr th {\n",
       "        vertical-align: top;\n",
       "    }\n",
       "\n",
       "    .dataframe thead th {\n",
       "        text-align: right;\n",
       "    }\n",
       "</style>\n",
       "<table border=\"1\" class=\"dataframe\">\n",
       "  <thead>\n",
       "    <tr style=\"text-align: right;\">\n",
       "      <th></th>\n",
       "      <th>Population (million)</th>\n",
       "      <th>Temperature (celsius)</th>\n",
       "      <th>CPI</th>\n",
       "      <th>GDP (million bahts)</th>\n",
       "      <th>Peak Load (MW)</th>\n",
       "    </tr>\n",
       "  </thead>\n",
       "  <tbody>\n",
       "    <tr>\n",
       "      <th>0</th>\n",
       "      <td>63.25</td>\n",
       "      <td>26.45</td>\n",
       "      <td>70.23</td>\n",
       "      <td>480343.33</td>\n",
       "      <td>14552.5</td>\n",
       "    </tr>\n",
       "    <tr>\n",
       "      <th>1</th>\n",
       "      <td>63.21</td>\n",
       "      <td>26.49</td>\n",
       "      <td>70.23</td>\n",
       "      <td>480343.33</td>\n",
       "      <td>15260.8</td>\n",
       "    </tr>\n",
       "    <tr>\n",
       "      <th>2</th>\n",
       "      <td>63.17</td>\n",
       "      <td>26.52</td>\n",
       "      <td>70.23</td>\n",
       "      <td>480343.33</td>\n",
       "      <td>16485.3</td>\n",
       "    </tr>\n",
       "    <tr>\n",
       "      <th>3</th>\n",
       "      <td>63.13</td>\n",
       "      <td>26.55</td>\n",
       "      <td>70.23</td>\n",
       "      <td>470404.67</td>\n",
       "      <td>16681.1</td>\n",
       "    </tr>\n",
       "    <tr>\n",
       "      <th>4</th>\n",
       "      <td>63.09</td>\n",
       "      <td>26.58</td>\n",
       "      <td>70.07</td>\n",
       "      <td>470404.67</td>\n",
       "      <td>16293.1</td>\n",
       "    </tr>\n",
       "  </tbody>\n",
       "</table>\n",
       "</div>"
      ],
      "text/plain": [
       "   Population (million)  Temperature (celsius)    CPI  GDP (million bahts)   \n",
       "0                 63.25                  26.45  70.23            480343.33  \\\n",
       "1                 63.21                  26.49  70.23            480343.33   \n",
       "2                 63.17                  26.52  70.23            480343.33   \n",
       "3                 63.13                  26.55  70.23            470404.67   \n",
       "4                 63.09                  26.58  70.07            470404.67   \n",
       "\n",
       "   Peak Load (MW)  \n",
       "0         14552.5  \n",
       "1         15260.8  \n",
       "2         16485.3  \n",
       "3         16681.1  \n",
       "4         16293.1  "
      ]
     },
     "execution_count": 2,
     "metadata": {},
     "output_type": "execute_result"
    }
   ],
   "source": [
    "df1 = df1.drop(['Year', 'Month', 'Date', 'Generation (GWh)', 'Consumption (GWh)'], axis=1)\n",
    "\n",
    "df1.head()"
   ]
  },
  {
   "cell_type": "code",
   "execution_count": 4,
   "metadata": {},
   "outputs": [
    {
     "data": {
      "text/plain": [
       "((252, 4), (252,))"
      ]
     },
     "execution_count": 4,
     "metadata": {},
     "output_type": "execute_result"
    }
   ],
   "source": [
    "X1 = df1.drop(['Peak Load (MW)'], axis=1).values\n",
    "y = df1['Peak Load (MW)'].values\n",
    "\n",
    "X1.shape, y.shape"
   ]
  },
  {
   "cell_type": "code",
   "execution_count": 5,
   "metadata": {},
   "outputs": [
    {
     "data": {
      "text/html": [
       "<div>\n",
       "<style scoped>\n",
       "    .dataframe tbody tr th:only-of-type {\n",
       "        vertical-align: middle;\n",
       "    }\n",
       "\n",
       "    .dataframe tbody tr th {\n",
       "        vertical-align: top;\n",
       "    }\n",
       "\n",
       "    .dataframe thead th {\n",
       "        text-align: right;\n",
       "    }\n",
       "</style>\n",
       "<table border=\"1\" class=\"dataframe\">\n",
       "  <thead>\n",
       "    <tr style=\"text-align: right;\">\n",
       "      <th></th>\n",
       "      <th>Date</th>\n",
       "      <th>Year</th>\n",
       "      <th>Month</th>\n",
       "      <th>GDP2</th>\n",
       "      <th>GDP3</th>\n",
       "      <th>GDP4</th>\n",
       "      <th>Population005</th>\n",
       "      <th>Population01</th>\n",
       "      <th>Population015</th>\n",
       "      <th>CPI2</th>\n",
       "      <th>CPI3</th>\n",
       "      <th>CPI4</th>\n",
       "      <th>Temperature</th>\n",
       "    </tr>\n",
       "  </thead>\n",
       "  <tbody>\n",
       "    <tr>\n",
       "      <th>0</th>\n",
       "      <td>2023-01</td>\n",
       "      <td>2023</td>\n",
       "      <td>1</td>\n",
       "      <td>925573.3889</td>\n",
       "      <td>926343.4166</td>\n",
       "      <td>927113.4444</td>\n",
       "      <td>66.092754</td>\n",
       "      <td>66.095507</td>\n",
       "      <td>66.098261</td>\n",
       "      <td>106.647450</td>\n",
       "      <td>106.736175</td>\n",
       "      <td>106.824900</td>\n",
       "      <td>26.584549</td>\n",
       "    </tr>\n",
       "    <tr>\n",
       "      <th>1</th>\n",
       "      <td>2023-02</td>\n",
       "      <td>2023</td>\n",
       "      <td>2</td>\n",
       "      <td>927116.0112</td>\n",
       "      <td>928659.2752</td>\n",
       "      <td>930203.8226</td>\n",
       "      <td>66.095508</td>\n",
       "      <td>66.101015</td>\n",
       "      <td>66.106524</td>\n",
       "      <td>106.825196</td>\n",
       "      <td>107.003015</td>\n",
       "      <td>107.180983</td>\n",
       "      <td>26.393308</td>\n",
       "    </tr>\n",
       "    <tr>\n",
       "      <th>2</th>\n",
       "      <td>2023-03</td>\n",
       "      <td>2023</td>\n",
       "      <td>3</td>\n",
       "      <td>928661.2045</td>\n",
       "      <td>930980.9234</td>\n",
       "      <td>933304.5020</td>\n",
       "      <td>66.098262</td>\n",
       "      <td>66.106524</td>\n",
       "      <td>66.114787</td>\n",
       "      <td>107.003238</td>\n",
       "      <td>107.270523</td>\n",
       "      <td>107.538253</td>\n",
       "      <td>26.543848</td>\n",
       "    </tr>\n",
       "    <tr>\n",
       "      <th>3</th>\n",
       "      <td>2023-04</td>\n",
       "      <td>2023</td>\n",
       "      <td>4</td>\n",
       "      <td>930208.9732</td>\n",
       "      <td>933308.3757</td>\n",
       "      <td>936415.5170</td>\n",
       "      <td>66.101016</td>\n",
       "      <td>66.112033</td>\n",
       "      <td>66.123051</td>\n",
       "      <td>107.181577</td>\n",
       "      <td>107.538699</td>\n",
       "      <td>107.896714</td>\n",
       "      <td>26.605915</td>\n",
       "    </tr>\n",
       "    <tr>\n",
       "      <th>4</th>\n",
       "      <td>2023-05</td>\n",
       "      <td>2023</td>\n",
       "      <td>5</td>\n",
       "      <td>931759.3215</td>\n",
       "      <td>935641.6466</td>\n",
       "      <td>939536.9020</td>\n",
       "      <td>66.103770</td>\n",
       "      <td>66.117542</td>\n",
       "      <td>66.131317</td>\n",
       "      <td>107.360212</td>\n",
       "      <td>107.807546</td>\n",
       "      <td>108.256370</td>\n",
       "      <td>26.672819</td>\n",
       "    </tr>\n",
       "  </tbody>\n",
       "</table>\n",
       "</div>"
      ],
      "text/plain": [
       "      Date  Year  Month         GDP2         GDP3         GDP4  Population005   \n",
       "0  2023-01  2023      1  925573.3889  926343.4166  927113.4444      66.092754  \\\n",
       "1  2023-02  2023      2  927116.0112  928659.2752  930203.8226      66.095508   \n",
       "2  2023-03  2023      3  928661.2045  930980.9234  933304.5020      66.098262   \n",
       "3  2023-04  2023      4  930208.9732  933308.3757  936415.5170      66.101016   \n",
       "4  2023-05  2023      5  931759.3215  935641.6466  939536.9020      66.103770   \n",
       "\n",
       "   Population01  Population015        CPI2        CPI3        CPI4   \n",
       "0     66.095507      66.098261  106.647450  106.736175  106.824900  \\\n",
       "1     66.101015      66.106524  106.825196  107.003015  107.180983   \n",
       "2     66.106524      66.114787  107.003238  107.270523  107.538253   \n",
       "3     66.112033      66.123051  107.181577  107.538699  107.896714   \n",
       "4     66.117542      66.131317  107.360212  107.807546  108.256370   \n",
       "\n",
       "   Temperature  \n",
       "0    26.584549  \n",
       "1    26.393308  \n",
       "2    26.543848  \n",
       "3    26.605915  \n",
       "4    26.672819  "
      ]
     },
     "execution_count": 5,
     "metadata": {},
     "output_type": "execute_result"
    }
   ],
   "source": [
    "df2 = pd.read_csv('Assume_features.csv')\n",
    "\n",
    "df2.head()"
   ]
  },
  {
   "cell_type": "code",
   "execution_count": 6,
   "metadata": {},
   "outputs": [
    {
     "data": {
      "text/plain": [
       "((120, 4), (120, 4), (120, 4))"
      ]
     },
     "execution_count": 6,
     "metadata": {},
     "output_type": "execute_result"
    }
   ],
   "source": [
    "X2_base = df2[['Population005', 'Temperature', 'CPI2', 'GDP2']].values\n",
    "X2_mid = df2[['Population01', 'Temperature', 'CPI3', 'GDP3']].values\n",
    "X2_high = df2[['Population015', 'Temperature', 'CPI4', 'GDP4']].values\n",
    "\n",
    "X2_base.shape, X2_mid.shape, X2_high.shape\n"
   ]
  },
  {
   "cell_type": "code",
   "execution_count": 7,
   "metadata": {},
   "outputs": [],
   "source": [
    "import pickle\n",
    "\n",
    "scaler = pickle.load(open('monthly_scaler.pkl', 'rb'))"
   ]
  },
  {
   "cell_type": "code",
   "execution_count": 8,
   "metadata": {},
   "outputs": [],
   "source": [
    "X2_base = scaler.transform(X2_base)\n",
    "X2_mid = scaler.transform(X2_mid)\n",
    "X2_high = scaler.transform(X2_high)"
   ]
  },
  {
   "cell_type": "code",
   "execution_count": 9,
   "metadata": {},
   "outputs": [
    {
     "data": {
      "text/plain": [
       "array([[ 1.00300243, -0.49940668,  1.48390559,  1.5144528 ],\n",
       "       [ 1.00483966, -0.84952646,  1.50041562,  1.52589212],\n",
       "       [ 1.00667697, -0.57392164,  1.51695317,  1.5373505 ],\n",
       "       [ 1.00851436, -0.46029043,  1.53351828,  1.54882799],\n",
       "       [ 1.01035182, -0.33780501,  1.550111  ,  1.5603246 ]])"
      ]
     },
     "execution_count": 9,
     "metadata": {},
     "output_type": "execute_result"
    }
   ],
   "source": [
    "X2_base[:5]"
   ]
  },
  {
   "cell_type": "code",
   "execution_count": 10,
   "metadata": {},
   "outputs": [
    {
     "data": {
      "text/plain": [
       "array([[-0.89353222, -0.74573656, -1.89875305, -1.78715195],\n",
       "       [-0.9202181 , -0.67250547, -1.89875305, -1.78715195],\n",
       "       [-0.94690398, -0.61758216, -1.89875305, -1.78715195],\n",
       "       [-0.97358986, -0.56265884, -1.89875305, -1.86085211],\n",
       "       [-1.00027574, -0.50773553, -1.91361475, -1.86085211]])"
      ]
     },
     "execution_count": 10,
     "metadata": {},
     "output_type": "execute_result"
    }
   ],
   "source": [
    "X1 = scaler.transform(X1)\n",
    "X1[:5]"
   ]
  },
  {
   "cell_type": "code",
   "execution_count": 11,
   "metadata": {},
   "outputs": [],
   "source": [
    "import tensorflow as tf\n",
    "\n",
    "model = tf.keras.models.load_model('ANN_monthly_peak')"
   ]
  },
  {
   "cell_type": "code",
   "execution_count": 17,
   "metadata": {},
   "outputs": [
    {
     "data": {
      "text/plain": [
       "((372, 4), (372, 4), (372, 4))"
      ]
     },
     "execution_count": 17,
     "metadata": {},
     "output_type": "execute_result"
    }
   ],
   "source": [
    "import numpy as np\n",
    "\n",
    "X_base = np.concatenate((X1, X2_base), axis=0)\n",
    "X_mid = np.concatenate((X1, X2_mid), axis=0)\n",
    "X_high = np.concatenate((X1, X2_high), axis=0)\n",
    "\n",
    "X_base.shape, X_mid.shape, X_high.shape"
   ]
  },
  {
   "cell_type": "code",
   "execution_count": 18,
   "metadata": {},
   "outputs": [
    {
     "name": "stdout",
     "output_type": "stream",
     "text": [
      "12/12 [==============================] - 0s 1ms/step\n",
      "12/12 [==============================] - 0s 1ms/step\n",
      "12/12 [==============================] - 0s 1ms/step\n"
     ]
    }
   ],
   "source": [
    "y_pred_base = model.predict(X_base)\n",
    "y_pred_mid = model.predict(X_mid)\n",
    "y_pred_high = model.predict(X_high)"
   ]
  },
  {
   "cell_type": "code",
   "execution_count": 19,
   "metadata": {},
   "outputs": [
    {
     "data": {
      "image/png": "[encoded data removed]",
      "text/plain": [
       "<Figure size 1000x600 with 1 Axes>"
      ]
     },
     "metadata": {},
     "output_type": "display_data"
    }
   ],
   "source": [
    "import matplotlib.pyplot as plt\n",
    "\n",
    "plt.figure(figsize=(10, 6))\n",
    "plt.plot(y, label='Actual')\n",
    "plt.plot(y_pred_base, label='Base')\n",
    "plt.plot(y_pred_mid, label='Mid')\n",
    "plt.plot(y_pred_high, label='High')\n",
    "plt.legend()\n",
    "plt.show()"
   ]
  }
 ],
 "metadata": {
  "kernelspec": {
   "display_name": "myenv",
   "language": "python",
   "name": "python3"
  },
  "language_info": {
   "codemirror_mode": {
    "name": "ipython",
    "version": 3
   },
   "file_extension": ".py",
   "mimetype": "text/x-python",
   "name": "python",
   "nbconvert_exporter": "python",
   "pygments_lexer": "ipython3",
   "version": "3.11.2"
  },
  "orig_nbformat": 4
 },
 "nbformat": 4,
 "nbformat_minor": 2
}
