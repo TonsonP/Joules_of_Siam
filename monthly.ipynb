{
 "cells": [
  {
   "cell_type": "code",
   "execution_count": 73,
   "metadata": {},
   "outputs": [
    {
     "data": {
      "text/html": [
       "<div>\n",
       "<style scoped>\n",
       "    .dataframe tbody tr th:only-of-type {\n",
       "        vertical-align: middle;\n",
       "    }\n",
       "\n",
       "    .dataframe tbody tr th {\n",
       "        vertical-align: top;\n",
       "    }\n",
       "\n",
       "    .dataframe thead th {\n",
       "        text-align: right;\n",
       "    }\n",
       "</style>\n",
       "<table border=\"1\" class=\"dataframe\">\n",
       "  <thead>\n",
       "    <tr style=\"text-align: right;\">\n",
       "      <th></th>\n",
       "      <th>Date</th>\n",
       "      <th>Hydro Electricity</th>\n",
       "      <th>Fuel Oil</th>\n",
       "      <th>Coal &amp; Lignite</th>\n",
       "      <th>Natural Gas</th>\n",
       "      <th>Diesel</th>\n",
       "      <th>Imported</th>\n",
       "      <th>Renewable Energy</th>\n",
       "      <th>Total</th>\n",
       "    </tr>\n",
       "  </thead>\n",
       "  <tbody>\n",
       "    <tr>\n",
       "      <th>0</th>\n",
       "      <td>2002-1</td>\n",
       "      <td>512.6</td>\n",
       "      <td>168.3</td>\n",
       "      <td>1,623.40</td>\n",
       "      <td>5,689.20</td>\n",
       "      <td>8.2</td>\n",
       "      <td>190.3</td>\n",
       "      <td>71.8</td>\n",
       "      <td>8,264.00</td>\n",
       "    </tr>\n",
       "    <tr>\n",
       "      <th>1</th>\n",
       "      <td>2002-2</td>\n",
       "      <td>588.9</td>\n",
       "      <td>138</td>\n",
       "      <td>1,552.00</td>\n",
       "      <td>5,683.20</td>\n",
       "      <td>8.3</td>\n",
       "      <td>149.2</td>\n",
       "      <td>68.3</td>\n",
       "      <td>8,188.00</td>\n",
       "    </tr>\n",
       "    <tr>\n",
       "      <th>2</th>\n",
       "      <td>2002-3</td>\n",
       "      <td>798</td>\n",
       "      <td>218.3</td>\n",
       "      <td>1,775.30</td>\n",
       "      <td>6,674.40</td>\n",
       "      <td>5.0</td>\n",
       "      <td>146.5</td>\n",
       "      <td>69.6</td>\n",
       "      <td>9,687.10</td>\n",
       "    </tr>\n",
       "    <tr>\n",
       "      <th>3</th>\n",
       "      <td>2002-4</td>\n",
       "      <td>718.8</td>\n",
       "      <td>250.8</td>\n",
       "      <td>1,772.50</td>\n",
       "      <td>6,399.20</td>\n",
       "      <td>3.4</td>\n",
       "      <td>163.5</td>\n",
       "      <td>70.3</td>\n",
       "      <td>9,378.40</td>\n",
       "    </tr>\n",
       "    <tr>\n",
       "      <th>4</th>\n",
       "      <td>2002-5</td>\n",
       "      <td>602.4</td>\n",
       "      <td>186.5</td>\n",
       "      <td>1,536.40</td>\n",
       "      <td>7,023.40</td>\n",
       "      <td>15.5</td>\n",
       "      <td>221.7</td>\n",
       "      <td>68.7</td>\n",
       "      <td>9,654.70</td>\n",
       "    </tr>\n",
       "  </tbody>\n",
       "</table>\n",
       "</div>"
      ],
      "text/plain": [
       "     Date Hydro Electricity Fuel Oil Coal & Lignite Natural Gas  Diesel  \\\n",
       "0  2002-1             512.6    168.3       1,623.40    5,689.20     8.2   \n",
       "1  2002-2             588.9      138       1,552.00    5,683.20     8.3   \n",
       "2  2002-3               798    218.3       1,775.30    6,674.40     5.0   \n",
       "3  2002-4             718.8    250.8       1,772.50    6,399.20     3.4   \n",
       "4  2002-5             602.4    186.5       1,536.40    7,023.40    15.5   \n",
       "\n",
       "  Imported Renewable Energy     Total  \n",
       "0    190.3             71.8  8,264.00  \n",
       "1    149.2             68.3  8,188.00  \n",
       "2    146.5             69.6  9,687.10  \n",
       "3    163.5             70.3  9,378.40  \n",
       "4    221.7             68.7  9,654.70  "
      ]
     },
     "execution_count": 73,
     "metadata": {},
     "output_type": "execute_result"
    }
   ],
   "source": [
    "import pandas as pd\n",
    "df = pd.read_csv('./Joules_of_Siam_Data - Power_Generation_Classified_By_fuel_type_Monthly.csv')\n",
    "df.head()"
   ]
  },
  {
   "cell_type": "code",
   "execution_count": 74,
   "metadata": {},
   "outputs": [],
   "source": [
    "df.drop(['Date'],axis=1,inplace=True)"
   ]
  },
  {
   "cell_type": "code",
   "execution_count": 75,
   "metadata": {},
   "outputs": [
    {
     "name": "stdout",
     "output_type": "stream",
     "text": [
      "<class 'pandas.core.frame.DataFrame'>\n",
      "RangeIndex: 251 entries, 0 to 250\n",
      "Data columns (total 8 columns):\n",
      " #   Column             Non-Null Count  Dtype  \n",
      "---  ------             --------------  -----  \n",
      " 0   Hydro Electricity  251 non-null    object \n",
      " 1   Fuel Oil           238 non-null    object \n",
      " 2   Coal & Lignite     251 non-null    object \n",
      " 3   Natural Gas        251 non-null    object \n",
      " 4   Diesel             251 non-null    float64\n",
      " 5   Imported           251 non-null    object \n",
      " 6   Renewable Energy   251 non-null    object \n",
      " 7   Total              251 non-null    object \n",
      "dtypes: float64(1), object(7)\n",
      "memory usage: 15.8+ KB\n"
     ]
    }
   ],
   "source": [
    "df.info()"
   ]
  },
  {
   "cell_type": "code",
   "execution_count": 76,
   "metadata": {},
   "outputs": [
    {
     "data": {
      "text/plain": [
       "Hydro Electricity     0\n",
       "Fuel Oil             13\n",
       "Coal & Lignite        0\n",
       "Natural Gas           0\n",
       "Diesel                0\n",
       "Imported              0\n",
       "Renewable Energy      0\n",
       "Total                 0\n",
       "dtype: int64"
      ]
     },
     "execution_count": 76,
     "metadata": {},
     "output_type": "execute_result"
    }
   ],
   "source": [
    "df.isnull().sum()"
   ]
  },
  {
   "cell_type": "code",
   "execution_count": 78,
   "metadata": {},
   "outputs": [],
   "source": [
    "df['Fuel Oil'].fillna(0,inplace=True)"
   ]
  },
  {
   "cell_type": "code",
   "execution_count": 79,
   "metadata": {},
   "outputs": [
    {
     "data": {
      "text/plain": [
       "Hydro Electricity    0\n",
       "Fuel Oil             0\n",
       "Coal & Lignite       0\n",
       "Natural Gas          0\n",
       "Diesel               0\n",
       "Imported             0\n",
       "Renewable Energy     0\n",
       "Total                0\n",
       "dtype: int64"
      ]
     },
     "execution_count": 79,
     "metadata": {},
     "output_type": "execute_result"
    }
   ],
   "source": [
    "df.isnull().sum()"
   ]
  },
  {
   "cell_type": "code",
   "execution_count": 80,
   "metadata": {},
   "outputs": [],
   "source": [
    "df['Fuel Oil'].fillna(0,inplace=True)\n",
    "df = df.replace(',','', regex=True).astype('float')"
   ]
  },
  {
   "cell_type": "code",
   "execution_count": 81,
   "metadata": {},
   "outputs": [
    {
     "data": {
      "text/html": [
       "<div>\n",
       "<style scoped>\n",
       "    .dataframe tbody tr th:only-of-type {\n",
       "        vertical-align: middle;\n",
       "    }\n",
       "\n",
       "    .dataframe tbody tr th {\n",
       "        vertical-align: top;\n",
       "    }\n",
       "\n",
       "    .dataframe thead th {\n",
       "        text-align: right;\n",
       "    }\n",
       "</style>\n",
       "<table border=\"1\" class=\"dataframe\">\n",
       "  <thead>\n",
       "    <tr style=\"text-align: right;\">\n",
       "      <th></th>\n",
       "      <th>Hydro Electricity</th>\n",
       "      <th>Fuel Oil</th>\n",
       "      <th>Coal &amp; Lignite</th>\n",
       "      <th>Natural Gas</th>\n",
       "      <th>Diesel</th>\n",
       "      <th>Imported</th>\n",
       "      <th>Renewable Energy</th>\n",
       "      <th>Total</th>\n",
       "    </tr>\n",
       "  </thead>\n",
       "  <tbody>\n",
       "    <tr>\n",
       "      <th>0</th>\n",
       "      <td>512.6</td>\n",
       "      <td>168.3</td>\n",
       "      <td>1623.4</td>\n",
       "      <td>5689.2</td>\n",
       "      <td>8.2</td>\n",
       "      <td>190.3</td>\n",
       "      <td>71.8</td>\n",
       "      <td>8264.0</td>\n",
       "    </tr>\n",
       "    <tr>\n",
       "      <th>1</th>\n",
       "      <td>588.9</td>\n",
       "      <td>138.0</td>\n",
       "      <td>1552.0</td>\n",
       "      <td>5683.2</td>\n",
       "      <td>8.3</td>\n",
       "      <td>149.2</td>\n",
       "      <td>68.3</td>\n",
       "      <td>8188.0</td>\n",
       "    </tr>\n",
       "    <tr>\n",
       "      <th>2</th>\n",
       "      <td>798.0</td>\n",
       "      <td>218.3</td>\n",
       "      <td>1775.3</td>\n",
       "      <td>6674.4</td>\n",
       "      <td>5.0</td>\n",
       "      <td>146.5</td>\n",
       "      <td>69.6</td>\n",
       "      <td>9687.1</td>\n",
       "    </tr>\n",
       "    <tr>\n",
       "      <th>3</th>\n",
       "      <td>718.8</td>\n",
       "      <td>250.8</td>\n",
       "      <td>1772.5</td>\n",
       "      <td>6399.2</td>\n",
       "      <td>3.4</td>\n",
       "      <td>163.5</td>\n",
       "      <td>70.3</td>\n",
       "      <td>9378.4</td>\n",
       "    </tr>\n",
       "    <tr>\n",
       "      <th>4</th>\n",
       "      <td>602.4</td>\n",
       "      <td>186.5</td>\n",
       "      <td>1536.4</td>\n",
       "      <td>7023.4</td>\n",
       "      <td>15.5</td>\n",
       "      <td>221.7</td>\n",
       "      <td>68.7</td>\n",
       "      <td>9654.7</td>\n",
       "    </tr>\n",
       "  </tbody>\n",
       "</table>\n",
       "</div>"
      ],
      "text/plain": [
       "   Hydro Electricity  Fuel Oil  Coal & Lignite  Natural Gas  Diesel  Imported  \\\n",
       "0              512.6     168.3          1623.4       5689.2     8.2     190.3   \n",
       "1              588.9     138.0          1552.0       5683.2     8.3     149.2   \n",
       "2              798.0     218.3          1775.3       6674.4     5.0     146.5   \n",
       "3              718.8     250.8          1772.5       6399.2     3.4     163.5   \n",
       "4              602.4     186.5          1536.4       7023.4    15.5     221.7   \n",
       "\n",
       "   Renewable Energy   Total  \n",
       "0              71.8  8264.0  \n",
       "1              68.3  8188.0  \n",
       "2              69.6  9687.1  \n",
       "3              70.3  9378.4  \n",
       "4              68.7  9654.7  "
      ]
     },
     "execution_count": 81,
     "metadata": {},
     "output_type": "execute_result"
    }
   ],
   "source": [
    "df.head()"
   ]
  },
  {
   "cell_type": "code",
   "execution_count": 82,
   "metadata": {},
   "outputs": [
    {
     "name": "stdout",
     "output_type": "stream",
     "text": [
      "<class 'pandas.core.frame.DataFrame'>\n",
      "RangeIndex: 251 entries, 0 to 250\n",
      "Data columns (total 8 columns):\n",
      " #   Column             Non-Null Count  Dtype  \n",
      "---  ------             --------------  -----  \n",
      " 0   Hydro Electricity  251 non-null    float64\n",
      " 1   Fuel Oil           251 non-null    float64\n",
      " 2   Coal & Lignite     251 non-null    float64\n",
      " 3   Natural Gas        251 non-null    float64\n",
      " 4   Diesel             251 non-null    float64\n",
      " 5   Imported           251 non-null    float64\n",
      " 6   Renewable Energy   251 non-null    float64\n",
      " 7   Total              251 non-null    float64\n",
      "dtypes: float64(8)\n",
      "memory usage: 15.8 KB\n"
     ]
    }
   ],
   "source": [
    "df.info()"
   ]
  },
  {
   "cell_type": "code",
   "execution_count": 83,
   "metadata": {},
   "outputs": [
    {
     "data": {
      "text/plain": [
       "Hydro Electricity    0\n",
       "Fuel Oil             0\n",
       "Coal & Lignite       0\n",
       "Natural Gas          0\n",
       "Diesel               0\n",
       "Imported             0\n",
       "Renewable Energy     0\n",
       "Total                0\n",
       "dtype: int64"
      ]
     },
     "execution_count": 83,
     "metadata": {},
     "output_type": "execute_result"
    }
   ],
   "source": [
    "df.isnull().sum()"
   ]
  },
  {
   "cell_type": "code",
   "execution_count": 84,
   "metadata": {},
   "outputs": [],
   "source": [
    "from sklearn.preprocessing import StandardScaler\n",
    "\n",
    "#2. create the object\n",
    "sc = StandardScaler()\n",
    "\n",
    "#3. fit and transform\n",
    "standardized_data = sc.fit_transform(df.iloc[:,:-1])"
   ]
  },
  {
   "cell_type": "code",
   "execution_count": 88,
   "metadata": {},
   "outputs": [],
   "source": [
    "from sklearn.model_selection import train_test_split\n",
    "X = standardized_data\n",
    "y = df.iloc[:,-1]\n",
    "X_train, X_test, y_train, y_test = train_test_split(X, y, test_size=0.3, random_state=999)"
   ]
  },
  {
   "cell_type": "code",
   "execution_count": 89,
   "metadata": {},
   "outputs": [
    {
     "data": {
      "text/plain": [
       "((175, 7), (76, 7), (175,), (76,))"
      ]
     },
     "execution_count": 89,
     "metadata": {},
     "output_type": "execute_result"
    }
   ],
   "source": [
    "X_train.shape, X_test.shape, y_train.shape, y_test.shape"
   ]
  },
  {
   "cell_type": "code",
   "execution_count": 90,
   "metadata": {},
   "outputs": [
    {
     "data": {
      "text/plain": [
       "0.9999999988207505"
      ]
     },
     "execution_count": 90,
     "metadata": {},
     "output_type": "execute_result"
    }
   ],
   "source": [
    "from sklearn.linear_model import LinearRegression\n",
    "lr = LinearRegression()\n",
    "lr.fit(X_train, y_train)\n",
    "lr.score(X_test, y_test)"
   ]
  },
  {
   "cell_type": "code",
   "execution_count": 91,
   "metadata": {},
   "outputs": [
    {
     "data": {
      "text/plain": [
       "array([16744.50842283, 13287.69957816, 15711.8104429 ,  9961.8886982 ,\n",
       "       16933.2100051 ,  9599.48169325, 15324.99233639, 11201.59344448,\n",
       "       12479.29547388, 12353.5842313 , 12899.29588417, 14938.71132093,\n",
       "       14084.51612552, 18332.47890109, 10753.09678909, 12272.6947138 ,\n",
       "       17700.00809083, 11867.00102661, 12165.19520637, 16020.30021858,\n",
       "       11419.49190323, 14003.49176446, 16469.0115235 , 12272.4974283 ,\n",
       "       12750.69049503, 17138.31547299, 11107.69267196, 15474.80250168,\n",
       "       10052.49220741, 16199.39755525, 12694.19481483, 17066.00941248,\n",
       "       15341.39793478, 16271.39984063, 12714.19429919, 12435.30155749,\n",
       "       13703.19232457, 16178.30971567, 18376.8109733 , 14633.00197654,\n",
       "       11545.7910563 , 16911.71322069, 14274.99584397, 17013.91470116,\n",
       "       13622.500714  ,  8263.79160681, 16721.96838099, 17472.60902083,\n",
       "       15322.69244428, 17443.81378684, 17276.77356731, 10011.59583141,\n",
       "       12955.09345707, 16836.49969912, 11176.48904455, 14600.80830135,\n",
       "       12576.90036397, 12180.69584875, 16536.59963194, 16747.88819319,\n",
       "       13501.00179141, 18147.30952404, 10333.99623191, 10227.49185592,\n",
       "       15657.79905611, 14510.99605845, 17281.41123971, 15491.79615588,\n",
       "       19168.61650121, 16843.20079154, 10361.48791274, 11885.20086128,\n",
       "       18581.71280707, 14642.19644347, 15999.10139683, 17077.42681727])"
      ]
     },
     "execution_count": 91,
     "metadata": {},
     "output_type": "execute_result"
    }
   ],
   "source": [
    "lr.predict(X_test)"
   ]
  },
  {
   "cell_type": "code",
   "execution_count": 92,
   "metadata": {},
   "outputs": [
    {
     "name": "stdout",
     "output_type": "stream",
     "text": [
      "   Year Month  Value\n",
      "0  2019   Jan     10\n",
      "1  2020   Jan     20\n",
      "2  2021   Jan     30\n",
      "3  2019   Feb     15\n",
      "4  2020   Feb     25\n",
      "5  2021   Feb     35\n",
      "6  2019   Mar     20\n",
      "7  2020   Mar     30\n",
      "8  2021   Mar     40\n"
     ]
    }
   ],
   "source": [
    "import pandas as pd\n",
    "\n",
    "# Example DataFrame\n",
    "df = pd.DataFrame({'Year': [2019, 2020, 2021],\n",
    "                   'Jan': [10, 20, 30],\n",
    "                   'Feb': [15, 25, 35],\n",
    "                   'Mar': [20, 30, 40]})\n",
    "\n",
    "# Use melt function to transform the DataFrame\n",
    "df_melted = df.melt(id_vars='Year', var_name='Month', value_name='Value')\n",
    "\n",
    "# Output the melted DataFrame\n",
    "print(df_melted)"
   ]
  },
  {
   "cell_type": "code",
   "execution_count": 110,
   "metadata": {},
   "outputs": [
    {
     "data": {
      "text/plain": [
       "(31, 12)"
      ]
     },
     "execution_count": 110,
     "metadata": {},
     "output_type": "execute_result"
    }
   ],
   "source": [
    "import pandas as pd\n",
    "df = pd.read_csv('./Joules_of_Siam_Data - FT_electricity_cost.csv')\n",
    "df.drop(['Year','Average'],axis=1,inplace=True)\n",
    "df.shape"
   ]
  },
  {
   "cell_type": "code",
   "execution_count": 111,
   "metadata": {},
   "outputs": [
    {
     "data": {
      "text/html": [
       "<div>\n",
       "<style scoped>\n",
       "    .dataframe tbody tr th:only-of-type {\n",
       "        vertical-align: middle;\n",
       "    }\n",
       "\n",
       "    .dataframe tbody tr th {\n",
       "        vertical-align: top;\n",
       "    }\n",
       "\n",
       "    .dataframe thead th {\n",
       "        text-align: right;\n",
       "    }\n",
       "</style>\n",
       "<table border=\"1\" class=\"dataframe\">\n",
       "  <thead>\n",
       "    <tr style=\"text-align: right;\">\n",
       "      <th></th>\n",
       "      <th>0</th>\n",
       "      <th>1</th>\n",
       "      <th>2</th>\n",
       "      <th>3</th>\n",
       "      <th>4</th>\n",
       "      <th>5</th>\n",
       "      <th>6</th>\n",
       "      <th>7</th>\n",
       "      <th>8</th>\n",
       "      <th>9</th>\n",
       "      <th>...</th>\n",
       "      <th>21</th>\n",
       "      <th>22</th>\n",
       "      <th>23</th>\n",
       "      <th>24</th>\n",
       "      <th>25</th>\n",
       "      <th>26</th>\n",
       "      <th>27</th>\n",
       "      <th>28</th>\n",
       "      <th>29</th>\n",
       "      <th>30</th>\n",
       "    </tr>\n",
       "  </thead>\n",
       "  <tbody>\n",
       "    <tr>\n",
       "      <th>1</th>\n",
       "      <td>1.39</td>\n",
       "      <td>-15.32</td>\n",
       "      <td>-11.60</td>\n",
       "      <td>-11.6</td>\n",
       "      <td>-15.9</td>\n",
       "      <td>-37.29</td>\n",
       "      <td>-4.80</td>\n",
       "      <td>58.96</td>\n",
       "      <td>59.0</td>\n",
       "      <td>52.04</td>\n",
       "      <td>...</td>\n",
       "      <td>0.00</td>\n",
       "      <td>56.32</td>\n",
       "      <td>50.71</td>\n",
       "      <td>42.40</td>\n",
       "      <td>18.28</td>\n",
       "      <td>18.10</td>\n",
       "      <td>7.50</td>\n",
       "      <td>6.91</td>\n",
       "      <td>8.39</td>\n",
       "      <td>0.00</td>\n",
       "    </tr>\n",
       "    <tr>\n",
       "      <th>2</th>\n",
       "      <td>1.39</td>\n",
       "      <td>-15.32</td>\n",
       "      <td>-11.60</td>\n",
       "      <td>-11.6</td>\n",
       "      <td>-15.9</td>\n",
       "      <td>-37.29</td>\n",
       "      <td>-4.80</td>\n",
       "      <td>58.96</td>\n",
       "      <td>59.0</td>\n",
       "      <td>52.04</td>\n",
       "      <td>...</td>\n",
       "      <td>24.44</td>\n",
       "      <td>56.32</td>\n",
       "      <td>50.71</td>\n",
       "      <td>42.40</td>\n",
       "      <td>18.28</td>\n",
       "      <td>18.10</td>\n",
       "      <td>7.50</td>\n",
       "      <td>6.91</td>\n",
       "      <td>8.39</td>\n",
       "      <td>0.00</td>\n",
       "    </tr>\n",
       "    <tr>\n",
       "      <th>3</th>\n",
       "      <td>1.39</td>\n",
       "      <td>-15.32</td>\n",
       "      <td>-11.60</td>\n",
       "      <td>-11.6</td>\n",
       "      <td>-15.9</td>\n",
       "      <td>-37.29</td>\n",
       "      <td>-4.80</td>\n",
       "      <td>58.96</td>\n",
       "      <td>59.0</td>\n",
       "      <td>52.04</td>\n",
       "      <td>...</td>\n",
       "      <td>24.44</td>\n",
       "      <td>56.32</td>\n",
       "      <td>50.71</td>\n",
       "      <td>42.40</td>\n",
       "      <td>26.73</td>\n",
       "      <td>18.10</td>\n",
       "      <td>14.85</td>\n",
       "      <td>3.56</td>\n",
       "      <td>8.39</td>\n",
       "      <td>0.00</td>\n",
       "    </tr>\n",
       "    <tr>\n",
       "      <th>4</th>\n",
       "      <td>1.39</td>\n",
       "      <td>-15.32</td>\n",
       "      <td>-11.60</td>\n",
       "      <td>-11.6</td>\n",
       "      <td>-15.9</td>\n",
       "      <td>-37.29</td>\n",
       "      <td>-4.80</td>\n",
       "      <td>58.96</td>\n",
       "      <td>59.0</td>\n",
       "      <td>52.04</td>\n",
       "      <td>...</td>\n",
       "      <td>24.44</td>\n",
       "      <td>61.52</td>\n",
       "      <td>32.61</td>\n",
       "      <td>50.45</td>\n",
       "      <td>26.73</td>\n",
       "      <td>22.87</td>\n",
       "      <td>14.85</td>\n",
       "      <td>0.36</td>\n",
       "      <td>5.32</td>\n",
       "      <td>0.00</td>\n",
       "    </tr>\n",
       "    <tr>\n",
       "      <th>5</th>\n",
       "      <td>24.77</td>\n",
       "      <td>-15.32</td>\n",
       "      <td>-11.60</td>\n",
       "      <td>-11.6</td>\n",
       "      <td>-15.9</td>\n",
       "      <td>-24.77</td>\n",
       "      <td>-33.29</td>\n",
       "      <td>49.61</td>\n",
       "      <td>69.0</td>\n",
       "      <td>46.92</td>\n",
       "      <td>...</td>\n",
       "      <td>24.44</td>\n",
       "      <td>61.52</td>\n",
       "      <td>32.61</td>\n",
       "      <td>50.45</td>\n",
       "      <td>26.73</td>\n",
       "      <td>22.87</td>\n",
       "      <td>14.85</td>\n",
       "      <td>9.53</td>\n",
       "      <td>5.32</td>\n",
       "      <td>0.00</td>\n",
       "    </tr>\n",
       "    <tr>\n",
       "      <th>6</th>\n",
       "      <td>24.77</td>\n",
       "      <td>-15.32</td>\n",
       "      <td>-11.60</td>\n",
       "      <td>-11.6</td>\n",
       "      <td>-15.9</td>\n",
       "      <td>-24.77</td>\n",
       "      <td>-33.29</td>\n",
       "      <td>49.61</td>\n",
       "      <td>69.0</td>\n",
       "      <td>46.92</td>\n",
       "      <td>...</td>\n",
       "      <td>27.13</td>\n",
       "      <td>61.52</td>\n",
       "      <td>32.61</td>\n",
       "      <td>50.45</td>\n",
       "      <td>26.73</td>\n",
       "      <td>22.50</td>\n",
       "      <td>17.35</td>\n",
       "      <td>2.80</td>\n",
       "      <td>5.32</td>\n",
       "      <td>0.00</td>\n",
       "    </tr>\n",
       "    <tr>\n",
       "      <th>7</th>\n",
       "      <td>24.77</td>\n",
       "      <td>-15.32</td>\n",
       "      <td>-11.60</td>\n",
       "      <td>-11.6</td>\n",
       "      <td>-15.9</td>\n",
       "      <td>-24.77</td>\n",
       "      <td>-33.29</td>\n",
       "      <td>49.61</td>\n",
       "      <td>69.0</td>\n",
       "      <td>46.92</td>\n",
       "      <td>...</td>\n",
       "      <td>27.13</td>\n",
       "      <td>61.52</td>\n",
       "      <td>32.61</td>\n",
       "      <td>50.45</td>\n",
       "      <td>26.73</td>\n",
       "      <td>25.82</td>\n",
       "      <td>24.70</td>\n",
       "      <td>2.80</td>\n",
       "      <td>3.24</td>\n",
       "      <td>0.00</td>\n",
       "    </tr>\n",
       "    <tr>\n",
       "      <th>8</th>\n",
       "      <td>24.77</td>\n",
       "      <td>-15.32</td>\n",
       "      <td>-11.60</td>\n",
       "      <td>-11.6</td>\n",
       "      <td>-15.9</td>\n",
       "      <td>-24.77</td>\n",
       "      <td>-33.29</td>\n",
       "      <td>49.61</td>\n",
       "      <td>69.0</td>\n",
       "      <td>46.92</td>\n",
       "      <td>...</td>\n",
       "      <td>27.13</td>\n",
       "      <td>64.52</td>\n",
       "      <td>37.92</td>\n",
       "      <td>55.77</td>\n",
       "      <td>26.73</td>\n",
       "      <td>25.82</td>\n",
       "      <td>19.95</td>\n",
       "      <td>-0.53</td>\n",
       "      <td>-1.86</td>\n",
       "      <td>0.00</td>\n",
       "    </tr>\n",
       "    <tr>\n",
       "      <th>9</th>\n",
       "      <td>93.43</td>\n",
       "      <td>-15.32</td>\n",
       "      <td>-12.43</td>\n",
       "      <td>-11.6</td>\n",
       "      <td>-15.9</td>\n",
       "      <td>-15.90</td>\n",
       "      <td>-33.29</td>\n",
       "      <td>46.38</td>\n",
       "      <td>69.0</td>\n",
       "      <td>54.00</td>\n",
       "      <td>...</td>\n",
       "      <td>27.13</td>\n",
       "      <td>64.52</td>\n",
       "      <td>37.92</td>\n",
       "      <td>55.77</td>\n",
       "      <td>26.73</td>\n",
       "      <td>25.82</td>\n",
       "      <td>23.82</td>\n",
       "      <td>7.50</td>\n",
       "      <td>-1.86</td>\n",
       "      <td>6.17</td>\n",
       "    </tr>\n",
       "    <tr>\n",
       "      <th>10</th>\n",
       "      <td>93.43</td>\n",
       "      <td>-15.32</td>\n",
       "      <td>-12.43</td>\n",
       "      <td>-11.6</td>\n",
       "      <td>-15.9</td>\n",
       "      <td>-15.90</td>\n",
       "      <td>-33.29</td>\n",
       "      <td>46.38</td>\n",
       "      <td>69.0</td>\n",
       "      <td>54.00</td>\n",
       "      <td>...</td>\n",
       "      <td>22.77</td>\n",
       "      <td>0.00</td>\n",
       "      <td>37.92</td>\n",
       "      <td>55.77</td>\n",
       "      <td>26.73</td>\n",
       "      <td>20.42</td>\n",
       "      <td>18.10</td>\n",
       "      <td>7.50</td>\n",
       "      <td>-1.86</td>\n",
       "      <td>6.17</td>\n",
       "    </tr>\n",
       "    <tr>\n",
       "      <th>11</th>\n",
       "      <td>93.43</td>\n",
       "      <td>-15.32</td>\n",
       "      <td>-12.43</td>\n",
       "      <td>-11.6</td>\n",
       "      <td>-15.9</td>\n",
       "      <td>-15.90</td>\n",
       "      <td>-33.29</td>\n",
       "      <td>-3.23</td>\n",
       "      <td>69.0</td>\n",
       "      <td>54.00</td>\n",
       "      <td>...</td>\n",
       "      <td>22.77</td>\n",
       "      <td>0.00</td>\n",
       "      <td>37.92</td>\n",
       "      <td>55.77</td>\n",
       "      <td>42.40</td>\n",
       "      <td>25.60</td>\n",
       "      <td>18.10</td>\n",
       "      <td>7.50</td>\n",
       "      <td>-1.86</td>\n",
       "      <td>6.17</td>\n",
       "    </tr>\n",
       "    <tr>\n",
       "      <th>12</th>\n",
       "      <td>93.43</td>\n",
       "      <td>-15.32</td>\n",
       "      <td>-12.43</td>\n",
       "      <td>-11.6</td>\n",
       "      <td>-15.9</td>\n",
       "      <td>-15.90</td>\n",
       "      <td>-33.29</td>\n",
       "      <td>-3.23</td>\n",
       "      <td>69.0</td>\n",
       "      <td>54.00</td>\n",
       "      <td>...</td>\n",
       "      <td>22.77</td>\n",
       "      <td>0.00</td>\n",
       "      <td>56.32</td>\n",
       "      <td>50.71</td>\n",
       "      <td>42.40</td>\n",
       "      <td>25.60</td>\n",
       "      <td>18.10</td>\n",
       "      <td>7.50</td>\n",
       "      <td>-1.86</td>\n",
       "      <td>6.17</td>\n",
       "    </tr>\n",
       "  </tbody>\n",
       "</table>\n",
       "<p>12 rows × 31 columns</p>\n",
       "</div>"
      ],
      "text/plain": [
       "       0      1      2     3     4      5      6      7     8      9   ...  \\\n",
       "1    1.39 -15.32 -11.60 -11.6 -15.9 -37.29  -4.80  58.96  59.0  52.04  ...   \n",
       "2    1.39 -15.32 -11.60 -11.6 -15.9 -37.29  -4.80  58.96  59.0  52.04  ...   \n",
       "3    1.39 -15.32 -11.60 -11.6 -15.9 -37.29  -4.80  58.96  59.0  52.04  ...   \n",
       "4    1.39 -15.32 -11.60 -11.6 -15.9 -37.29  -4.80  58.96  59.0  52.04  ...   \n",
       "5   24.77 -15.32 -11.60 -11.6 -15.9 -24.77 -33.29  49.61  69.0  46.92  ...   \n",
       "6   24.77 -15.32 -11.60 -11.6 -15.9 -24.77 -33.29  49.61  69.0  46.92  ...   \n",
       "7   24.77 -15.32 -11.60 -11.6 -15.9 -24.77 -33.29  49.61  69.0  46.92  ...   \n",
       "8   24.77 -15.32 -11.60 -11.6 -15.9 -24.77 -33.29  49.61  69.0  46.92  ...   \n",
       "9   93.43 -15.32 -12.43 -11.6 -15.9 -15.90 -33.29  46.38  69.0  54.00  ...   \n",
       "10  93.43 -15.32 -12.43 -11.6 -15.9 -15.90 -33.29  46.38  69.0  54.00  ...   \n",
       "11  93.43 -15.32 -12.43 -11.6 -15.9 -15.90 -33.29  -3.23  69.0  54.00  ...   \n",
       "12  93.43 -15.32 -12.43 -11.6 -15.9 -15.90 -33.29  -3.23  69.0  54.00  ...   \n",
       "\n",
       "       21     22     23     24     25     26     27    28    29    30  \n",
       "1    0.00  56.32  50.71  42.40  18.28  18.10   7.50  6.91  8.39  0.00  \n",
       "2   24.44  56.32  50.71  42.40  18.28  18.10   7.50  6.91  8.39  0.00  \n",
       "3   24.44  56.32  50.71  42.40  26.73  18.10  14.85  3.56  8.39  0.00  \n",
       "4   24.44  61.52  32.61  50.45  26.73  22.87  14.85  0.36  5.32  0.00  \n",
       "5   24.44  61.52  32.61  50.45  26.73  22.87  14.85  9.53  5.32  0.00  \n",
       "6   27.13  61.52  32.61  50.45  26.73  22.50  17.35  2.80  5.32  0.00  \n",
       "7   27.13  61.52  32.61  50.45  26.73  25.82  24.70  2.80  3.24  0.00  \n",
       "8   27.13  64.52  37.92  55.77  26.73  25.82  19.95 -0.53 -1.86  0.00  \n",
       "9   27.13  64.52  37.92  55.77  26.73  25.82  23.82  7.50 -1.86  6.17  \n",
       "10  22.77   0.00  37.92  55.77  26.73  20.42  18.10  7.50 -1.86  6.17  \n",
       "11  22.77   0.00  37.92  55.77  42.40  25.60  18.10  7.50 -1.86  6.17  \n",
       "12  22.77   0.00  56.32  50.71  42.40  25.60  18.10  7.50 -1.86  6.17  \n",
       "\n",
       "[12 rows x 31 columns]"
      ]
     },
     "execution_count": 111,
     "metadata": {},
     "output_type": "execute_result"
    }
   ],
   "source": [
    "df.transpose()"
   ]
  },
  {
   "cell_type": "code",
   "execution_count": 119,
   "metadata": {},
   "outputs": [],
   "source": [
    "df = df.stack().reset_index()"
   ]
  },
  {
   "cell_type": "code",
   "execution_count": 120,
   "metadata": {},
   "outputs": [
    {
     "data": {
      "text/plain": [
       "Index(['level_0', 'level_1', 0], dtype='object')"
      ]
     },
     "execution_count": 120,
     "metadata": {},
     "output_type": "execute_result"
    }
   ],
   "source": [
    "df.columns"
   ]
  },
  {
   "cell_type": "code",
   "execution_count": 121,
   "metadata": {},
   "outputs": [],
   "source": [
    "df.drop(['level_0'],axis=1,inplace=True)"
   ]
  },
  {
   "cell_type": "code",
   "execution_count": 132,
   "metadata": {},
   "outputs": [],
   "source": [
    "df.rename(columns = {'level_1':'Date',0:'FT'}, inplace=True)"
   ]
  },
  {
   "cell_type": "code",
   "execution_count": 134,
   "metadata": {},
   "outputs": [
    {
     "data": {
      "image/png": "[encoded data removed]",
      "text/plain": [
       "<Figure size 864x288 with 1 Axes>"
      ]
     },
     "metadata": {
      "needs_background": "light"
     },
     "output_type": "display_data"
    }
   ],
   "source": [
    "import matplotlib.pyplot as plt\n",
    "plt.figure(figsize=(12,4))\n",
    "plt.title('FT')\n",
    "plt.ylabel('Index')\n",
    "plt.grid(True)\n",
    "plt.autoscale(axis='x',tight=True)\n",
    "plt.plot(df['FT'])\n",
    "plt.show()"
   ]
  },
  {
   "cell_type": "code",
   "execution_count": null,
   "metadata": {},
   "outputs": [],
   "source": []
  },
  {
   "cell_type": "code",
   "execution_count": null,
   "metadata": {},
   "outputs": [],
   "source": [
    "class LSTMnetwork(nn.Module):\n",
    "    def __init__(self,input_size=1,hidden_size=64,output_size=1):\n",
    "        super().__init__()\n",
    "        self.hidden_size = hidden_size\n",
    "        \n",
    "        # Add an LSTM layer:\n",
    "        self.lstm = nn.LSTM(input_size,hidden_size)\n",
    "        \n",
    "        # Add a fully-connected layer:\n",
    "        self.linear = nn.Linear(hidden_size,output_size)\n",
    "        \n",
    "        # Initialize h0 and c0:\n",
    "        self.hidden = (torch.zeros(1,1,self.hidden_size),\n",
    "                       torch.zeros(1,1,self.hidden_size))\n",
    "\n",
    "    def forward(self,seq):\n",
    "        lstm_out, self.hidden = self.lstm(\n",
    "            seq.view(len(seq),1,-1), self.hidden)\n",
    "        pred = self.linear(lstm_out.view(len(seq),-1))\n",
    "        return pred[-1]\n",
    "    \n",
    "torch.manual_seed(101)\n",
    "model = LSTMnetwork()\n",
    "model"
   ]
  }
 ],
 "metadata": {
  "kernelspec": {
   "display_name": "Python 3",
   "language": "python",
   "name": "python3"
  },
  "language_info": {
   "codemirror_mode": {
    "name": "ipython",
    "version": 3
   },
   "file_extension": ".py",
   "mimetype": "text/x-python",
   "name": "python",
   "nbconvert_exporter": "python",
   "pygments_lexer": "ipython3",
   "version": "3.10.4"
  },
  "orig_nbformat": 4
 },
 "nbformat": 4,
 "nbformat_minor": 2
}
